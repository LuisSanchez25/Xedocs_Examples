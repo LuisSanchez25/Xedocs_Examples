{
 "cells": [
  {
   "cell_type": "markdown",
   "id": "11a028c9-e00d-4870-8f38-0723fb31c930",
   "metadata": {},
   "source": [
    "## Inserting data into Xedocs from CMT"
   ]
  },
  {
   "cell_type": "markdown",
   "id": "dfcb47d5-d1a3-4051-a082-da198794ab2f",
   "metadata": {},
   "source": [
    "This document will serve to show how we can insert data into a xedocs schema"
   ]
  },
  {
   "cell_type": "code",
   "execution_count": 1,
   "id": "c6fcf701-f13e-446e-adad-888a31d695a3",
   "metadata": {},
   "outputs": [],
   "source": [
    "import strax\n",
    "import straxen\n",
    "import xedocs as xd\n",
    "import numpy as np"
   ]
  },
  {
   "cell_type": "code",
   "execution_count": 3,
   "id": "46cc4c77-9bab-4d8f-8dda-de9a3cd1becb",
   "metadata": {},
   "outputs": [],
   "source": [
    "import datetime"
   ]
  },
  {
   "cell_type": "code",
   "execution_count": 4,
   "id": "dc9787d4-11d7-4b89-9abc-261502101519",
   "metadata": {},
   "outputs": [
    {
     "data": {
      "text/plain": [
       "['bodega',\n",
       " 'fax_configs',\n",
       " 'electron_drift_velocities',\n",
       " 'electron_drift_time_gates',\n",
       " 'electron_lifetimes',\n",
       " 'rel_extraction_effs',\n",
       " 'fdc_maps',\n",
       " 'hit_thresholds',\n",
       " 'pmt_gains',\n",
       " 'posrec_models',\n",
       " 's1_xyz_maps',\n",
       " 's2_xy_maps',\n",
       " 'utube_calibrations',\n",
       " 'diffused_calibrations',\n",
       " 'ibelt_calibrations']"
      ]
     },
     "execution_count": 4,
     "metadata": {},
     "output_type": "execute_result"
    }
   ],
   "source": [
    "xd.list_schemas()"
   ]
  },
  {
   "cell_type": "code",
   "execution_count": 7,
   "id": "02e8c7c6-8674-420e-931c-2e7f6e991165",
   "metadata": {},
   "outputs": [],
   "source": [
    "elife = xd.find('electron_lifetimes')"
   ]
  },
  {
   "cell_type": "code",
   "execution_count": null,
   "id": "fce995d8-a2e8-4cf1-af2e-2b4c7222b193",
   "metadata": {},
   "outputs": [],
   "source": [
    "# or equivilantely elife = xd.ElectronLifetime.find()"
   ]
  },
  {
   "cell_type": "code",
   "execution_count": 8,
   "id": "52179bbe-8c2a-4380-bfb3-7b4f558d73df",
   "metadata": {},
   "outputs": [
    {
     "data": {
      "text/plain": [
       "[]"
      ]
     },
     "execution_count": 8,
     "metadata": {},
     "output_type": "execute_result"
    }
   ],
   "source": [
    "elife"
   ]
  },
  {
   "cell_type": "markdown",
   "id": "3a2d9f57-fe0d-4782-b5b2-533a4fe2770f",
   "metadata": {},
   "source": [
    "As we can see, currently the electron lifetimes section of the MongoDB attached to xedocs returns an empty array for the electron lifetime, in other words this data is not currently stored."
   ]
  },
  {
   "cell_type": "markdown",
   "id": "d94b05ef-4035-4f94-a02c-ab6871e40815",
   "metadata": {},
   "source": [
    "Now lets get some data from CMT to save in xedocs"
   ]
  },
  {
   "cell_type": "code",
   "execution_count": 42,
   "id": "ffbe1322-4ad0-4e4a-8a5f-0c61705ba466",
   "metadata": {},
   "outputs": [],
   "source": [
    "cmt = straxen.CorrectionsManagementServices().interface"
   ]
  },
  {
   "cell_type": "code",
   "execution_count": 43,
   "id": "d8258370-5672-4534-982a-35800ed76686",
   "metadata": {},
   "outputs": [],
   "source": [
    "cmt_elife = cmt.read('elife') #gets the electron lifetime data"
   ]
  },
  {
   "cell_type": "code",
   "execution_count": 44,
   "id": "009e0fde-17ad-4d54-998a-22573fc97055",
   "metadata": {},
   "outputs": [
    {
     "data": {
      "text/html": [
       "<div>\n",
       "<style scoped>\n",
       "    .dataframe tbody tr th:only-of-type {\n",
       "        vertical-align: middle;\n",
       "    }\n",
       "\n",
       "    .dataframe tbody tr th {\n",
       "        vertical-align: top;\n",
       "    }\n",
       "\n",
       "    .dataframe thead th {\n",
       "        text-align: right;\n",
       "    }\n",
       "</style>\n",
       "<table border=\"1\" class=\"dataframe\">\n",
       "  <thead>\n",
       "    <tr style=\"text-align: right;\">\n",
       "      <th></th>\n",
       "      <th>ONLINE</th>\n",
       "      <th>v1</th>\n",
       "      <th>v2</th>\n",
       "      <th>v3</th>\n",
       "      <th>v4</th>\n",
       "      <th>v5</th>\n",
       "    </tr>\n",
       "    <tr>\n",
       "      <th>time</th>\n",
       "      <th></th>\n",
       "      <th></th>\n",
       "      <th></th>\n",
       "      <th></th>\n",
       "      <th></th>\n",
       "      <th></th>\n",
       "    </tr>\n",
       "  </thead>\n",
       "  <tbody>\n",
       "    <tr>\n",
       "      <th>2017-01-01 00:00:00+00:00</th>\n",
       "      <td>2.000000e+05</td>\n",
       "      <td>200000.00000</td>\n",
       "      <td>266000.00000</td>\n",
       "      <td>266000.00000</td>\n",
       "      <td>266000.00000</td>\n",
       "      <td>266000.00000</td>\n",
       "    </tr>\n",
       "    <tr>\n",
       "      <th>2020-10-14 00:00:00+00:00</th>\n",
       "      <td>7.125580e+04</td>\n",
       "      <td>71255.79834</td>\n",
       "      <td>94770.21179</td>\n",
       "      <td>94770.21179</td>\n",
       "      <td>94770.21179</td>\n",
       "      <td>94770.21179</td>\n",
       "    </tr>\n",
       "    <tr>\n",
       "      <th>2020-10-14 06:00:00+00:00</th>\n",
       "      <td>6.927400e+04</td>\n",
       "      <td>69274.00208</td>\n",
       "      <td>92134.42277</td>\n",
       "      <td>92134.42277</td>\n",
       "      <td>92134.42277</td>\n",
       "      <td>92134.42277</td>\n",
       "    </tr>\n",
       "    <tr>\n",
       "      <th>2020-10-14 12:00:00+00:00</th>\n",
       "      <td>6.903980e+04</td>\n",
       "      <td>69039.80255</td>\n",
       "      <td>91822.93739</td>\n",
       "      <td>91822.93739</td>\n",
       "      <td>91822.93739</td>\n",
       "      <td>91822.93739</td>\n",
       "    </tr>\n",
       "    <tr>\n",
       "      <th>2020-10-14 18:00:00+00:00</th>\n",
       "      <td>6.819510e+04</td>\n",
       "      <td>68195.09888</td>\n",
       "      <td>90699.48151</td>\n",
       "      <td>90699.48151</td>\n",
       "      <td>90699.48151</td>\n",
       "      <td>90699.48151</td>\n",
       "    </tr>\n",
       "    <tr>\n",
       "      <th>...</th>\n",
       "      <td>...</td>\n",
       "      <td>...</td>\n",
       "      <td>...</td>\n",
       "      <td>...</td>\n",
       "      <td>...</td>\n",
       "      <td>...</td>\n",
       "    </tr>\n",
       "    <tr>\n",
       "      <th>2022-01-03 21:03:50+00:00</th>\n",
       "      <td>8.197445e+06</td>\n",
       "      <td>NaN</td>\n",
       "      <td>NaN</td>\n",
       "      <td>NaN</td>\n",
       "      <td>NaN</td>\n",
       "      <td>NaN</td>\n",
       "    </tr>\n",
       "    <tr>\n",
       "      <th>2022-01-04 03:04:23+00:00</th>\n",
       "      <td>8.156742e+06</td>\n",
       "      <td>NaN</td>\n",
       "      <td>NaN</td>\n",
       "      <td>NaN</td>\n",
       "      <td>NaN</td>\n",
       "      <td>NaN</td>\n",
       "    </tr>\n",
       "    <tr>\n",
       "      <th>2022-01-04 09:04:57+00:00</th>\n",
       "      <td>8.066127e+06</td>\n",
       "      <td>NaN</td>\n",
       "      <td>NaN</td>\n",
       "      <td>NaN</td>\n",
       "      <td>NaN</td>\n",
       "      <td>NaN</td>\n",
       "    </tr>\n",
       "    <tr>\n",
       "      <th>2022-01-04 15:05:31+00:00</th>\n",
       "      <td>7.944100e+06</td>\n",
       "      <td>NaN</td>\n",
       "      <td>NaN</td>\n",
       "      <td>NaN</td>\n",
       "      <td>NaN</td>\n",
       "      <td>NaN</td>\n",
       "    </tr>\n",
       "    <tr>\n",
       "      <th>2022-01-04 21:06:03+00:00</th>\n",
       "      <td>8.180421e+06</td>\n",
       "      <td>NaN</td>\n",
       "      <td>NaN</td>\n",
       "      <td>NaN</td>\n",
       "      <td>NaN</td>\n",
       "      <td>NaN</td>\n",
       "    </tr>\n",
       "  </tbody>\n",
       "</table>\n",
       "<p>1583 rows × 6 columns</p>\n",
       "</div>"
      ],
      "text/plain": [
       "                                 ONLINE            v1            v2  \\\n",
       "time                                                                  \n",
       "2017-01-01 00:00:00+00:00  2.000000e+05  200000.00000  266000.00000   \n",
       "2020-10-14 00:00:00+00:00  7.125580e+04   71255.79834   94770.21179   \n",
       "2020-10-14 06:00:00+00:00  6.927400e+04   69274.00208   92134.42277   \n",
       "2020-10-14 12:00:00+00:00  6.903980e+04   69039.80255   91822.93739   \n",
       "2020-10-14 18:00:00+00:00  6.819510e+04   68195.09888   90699.48151   \n",
       "...                                 ...           ...           ...   \n",
       "2022-01-03 21:03:50+00:00  8.197445e+06           NaN           NaN   \n",
       "2022-01-04 03:04:23+00:00  8.156742e+06           NaN           NaN   \n",
       "2022-01-04 09:04:57+00:00  8.066127e+06           NaN           NaN   \n",
       "2022-01-04 15:05:31+00:00  7.944100e+06           NaN           NaN   \n",
       "2022-01-04 21:06:03+00:00  8.180421e+06           NaN           NaN   \n",
       "\n",
       "                                     v3            v4            v5  \n",
       "time                                                                 \n",
       "2017-01-01 00:00:00+00:00  266000.00000  266000.00000  266000.00000  \n",
       "2020-10-14 00:00:00+00:00   94770.21179   94770.21179   94770.21179  \n",
       "2020-10-14 06:00:00+00:00   92134.42277   92134.42277   92134.42277  \n",
       "2020-10-14 12:00:00+00:00   91822.93739   91822.93739   91822.93739  \n",
       "2020-10-14 18:00:00+00:00   90699.48151   90699.48151   90699.48151  \n",
       "...                                 ...           ...           ...  \n",
       "2022-01-03 21:03:50+00:00           NaN           NaN           NaN  \n",
       "2022-01-04 03:04:23+00:00           NaN           NaN           NaN  \n",
       "2022-01-04 09:04:57+00:00           NaN           NaN           NaN  \n",
       "2022-01-04 15:05:31+00:00           NaN           NaN           NaN  \n",
       "2022-01-04 21:06:03+00:00           NaN           NaN           NaN  \n",
       "\n",
       "[1583 rows x 6 columns]"
      ]
     },
     "execution_count": 44,
     "metadata": {},
     "output_type": "execute_result"
    }
   ],
   "source": [
    "cmt_elife"
   ]
  },
  {
   "cell_type": "code",
   "execution_count": 47,
   "id": "d58887e1-6acf-47ac-ac27-cb0cc444c149",
   "metadata": {},
   "outputs": [
    {
     "data": {
      "text/plain": [
       "Index(['ONLINE', 'v1', 'v2', 'v3', 'v4', 'v5'], dtype='object')"
      ]
     },
     "execution_count": 47,
     "metadata": {},
     "output_type": "execute_result"
    }
   ],
   "source": [
    "cmt_elife.columns"
   ]
  },
  {
   "cell_type": "code",
   "execution_count": 48,
   "id": "7ad460fd-5fb7-4626-a779-040105fc1e80",
   "metadata": {},
   "outputs": [
    {
     "data": {
      "text/plain": [
       "DatetimeIndex(['2017-01-01 00:00:00+00:00', '2020-10-14 00:00:00+00:00',\n",
       "               '2020-10-14 06:00:00+00:00', '2020-10-14 12:00:00+00:00',\n",
       "               '2020-10-14 18:00:00+00:00', '2020-10-15 00:00:00+00:00',\n",
       "               '2020-10-15 06:00:00+00:00', '2020-10-15 12:00:00+00:00',\n",
       "               '2020-10-15 18:00:00+00:00', '2020-10-16 00:00:00+00:00',\n",
       "               ...\n",
       "               '2022-01-02 15:01:06+00:00', '2022-01-02 21:01:39+00:00',\n",
       "               '2022-01-03 03:02:12+00:00', '2022-01-03 09:02:44+00:00',\n",
       "               '2022-01-03 15:03:17+00:00', '2022-01-03 21:03:50+00:00',\n",
       "               '2022-01-04 03:04:23+00:00', '2022-01-04 09:04:57+00:00',\n",
       "               '2022-01-04 15:05:31+00:00', '2022-01-04 21:06:03+00:00'],\n",
       "              dtype='datetime64[ns, UTC]', name='time', length=1583, freq=None)"
      ]
     },
     "execution_count": 48,
     "metadata": {},
     "output_type": "execute_result"
    }
   ],
   "source": [
    "cmt_elife.index"
   ]
  },
  {
   "cell_type": "code",
   "execution_count": 115,
   "id": "f1cab3cd-70ae-4964-8895-7a4699cc70f1",
   "metadata": {},
   "outputs": [
    {
     "data": {
      "text/plain": [
       "71255.79834"
      ]
     },
     "execution_count": 115,
     "metadata": {},
     "output_type": "execute_result"
    }
   ],
   "source": [
    "cmt_elife.iloc[1]['v1'] #get the value for version v1 at location 1"
   ]
  },
  {
   "cell_type": "markdown",
   "id": "c12e32bf-5d8f-453e-a7f0-3fd8f6b28240",
   "metadata": {},
   "source": [
    "### Understanding Schemas"
   ]
  },
  {
   "cell_type": "markdown",
   "id": "a3c1821e-c1b9-4380-baad-c78ba2f4a4b8",
   "metadata": {},
   "source": [
    "Schemas are python classes so they can store values and functions or operations that can be preformed on such values. Here we will look at the ElectronLifetime schema"
   ]
  },
  {
   "cell_type": "code",
   "execution_count": 72,
   "id": "7ac0be50-e603-4441-bc3d-e4dc19ba602a",
   "metadata": {},
   "outputs": [
    {
     "data": {
      "text/plain": [
       "\u001b[0;31mInit signature:\u001b[0m\n",
       "\u001b[0mxd\u001b[0m\u001b[0;34m.\u001b[0m\u001b[0mElectronLifetime\u001b[0m\u001b[0;34m(\u001b[0m\u001b[0;34m\u001b[0m\n",
       "\u001b[0;34m\u001b[0m    \u001b[0;34m*\u001b[0m\u001b[0;34m,\u001b[0m\u001b[0;34m\u001b[0m\n",
       "\u001b[0;34m\u001b[0m    \u001b[0mversion\u001b[0m\u001b[0;34m:\u001b[0m \u001b[0mstr\u001b[0m\u001b[0;34m,\u001b[0m\u001b[0;34m\u001b[0m\n",
       "\u001b[0;34m\u001b[0m    \u001b[0mcreated_date\u001b[0m\u001b[0;34m:\u001b[0m \u001b[0mdatetime\u001b[0m\u001b[0;34m.\u001b[0m\u001b[0mdatetime\u001b[0m \u001b[0;34m=\u001b[0m \u001b[0mdatetime\u001b[0m\u001b[0;34m.\u001b[0m\u001b[0mdatetime\u001b[0m\u001b[0;34m(\u001b[0m\u001b[0;36m2022\u001b[0m\u001b[0;34m,\u001b[0m \u001b[0;36m6\u001b[0m\u001b[0;34m,\u001b[0m \u001b[0;36m21\u001b[0m\u001b[0;34m,\u001b[0m \u001b[0;36m19\u001b[0m\u001b[0;34m,\u001b[0m \u001b[0;36m51\u001b[0m\u001b[0;34m,\u001b[0m \u001b[0;36m14\u001b[0m\u001b[0;34m,\u001b[0m \u001b[0;36m391000\u001b[0m\u001b[0;34m)\u001b[0m\u001b[0;34m,\u001b[0m\u001b[0;34m\u001b[0m\n",
       "\u001b[0;34m\u001b[0m    \u001b[0mcomments\u001b[0m\u001b[0;34m:\u001b[0m \u001b[0mstr\u001b[0m \u001b[0;34m=\u001b[0m \u001b[0;34m''\u001b[0m\u001b[0;34m,\u001b[0m\u001b[0;34m\u001b[0m\n",
       "\u001b[0;34m\u001b[0m    \u001b[0mrun_id\u001b[0m\u001b[0;34m:\u001b[0m \u001b[0mrframe\u001b[0m\u001b[0;34m.\u001b[0m\u001b[0mtypes\u001b[0m\u001b[0;34m.\u001b[0m\u001b[0mTimeInterval\u001b[0m\u001b[0;34m,\u001b[0m\u001b[0;34m\u001b[0m\n",
       "\u001b[0;34m\u001b[0m    \u001b[0mvalue\u001b[0m\u001b[0;34m:\u001b[0m \u001b[0mfloat\u001b[0m\u001b[0;34m,\u001b[0m\u001b[0;34m\u001b[0m\n",
       "\u001b[0;34m\u001b[0m\u001b[0;34m)\u001b[0m \u001b[0;34m->\u001b[0m \u001b[0;32mNone\u001b[0m\u001b[0;34m\u001b[0m\u001b[0;34m\u001b[0m\u001b[0m\n",
       "\u001b[0;31mDocstring:\u001b[0m     \n",
       "Base class for time-interval corrections\n",
       "\n",
       "- Adds an Interval index of type datetime\n",
       "- Enforces rules on updating intervals:\n",
       "Can only change the right side of an interval\n",
       "if right side is None and the new right side is\n",
       "after the cutoff time (default is 2 hours after current time).\n",
       "\n",
       "The cutoff is set to prevent values changing after already being used\n",
       "for processing data.\n",
       "\u001b[0;31mSource:\u001b[0m        \n",
       "\u001b[0;32mclass\u001b[0m \u001b[0mElectronLifetime\u001b[0m\u001b[0;34m(\u001b[0m\u001b[0mTimeIntervalCorrection\u001b[0m\u001b[0;34m)\u001b[0m\u001b[0;34m:\u001b[0m\u001b[0;34m\u001b[0m\n",
       "\u001b[0;34m\u001b[0m    \u001b[0m_ALIAS\u001b[0m \u001b[0;34m=\u001b[0m \u001b[0;34m\"electron_lifetimes\"\u001b[0m\u001b[0;34m\u001b[0m\n",
       "\u001b[0;34m\u001b[0m    \u001b[0mvalue\u001b[0m\u001b[0;34m:\u001b[0m \u001b[0mfloat\u001b[0m\u001b[0;34m\u001b[0m\u001b[0;34m\u001b[0m\u001b[0m\n",
       "\u001b[0;31mFile:\u001b[0m           ~/.local/lib/python3.8/site-packages/xedocs/schemas/corrections/electron_lifetime.py\n",
       "\u001b[0;31mType:\u001b[0m           ModelMetaclass\n",
       "\u001b[0;31mSubclasses:\u001b[0m     \n"
      ]
     },
     "metadata": {},
     "output_type": "display_data"
    }
   ],
   "source": [
    "xd.ElectronLifetime??"
   ]
  },
  {
   "cell_type": "markdown",
   "id": "0fb579ba-22de-479e-8e8e-a9ff8d4d1b41",
   "metadata": {},
   "source": [
    "Lets note a few things here:\n",
    "- There are 3 values which are necessary to give to make a new entery on the electron lifetime database: a version, a value and a run_id/time\n",
    "- If a run_id is given xedocs will fetch the time corresponding to that run_id and use that\n",
    "- ElectronLifetimes inherits the class TimeIntervalCorrections which means it get all functions under that class. It also means we need to give a time interval for these corrections, not just 1 time"
   ]
  },
  {
   "cell_type": "code",
   "execution_count": 99,
   "id": "3d1d07f0-885e-4726-85ea-22ddae2b7f1c",
   "metadata": {},
   "outputs": [],
   "source": [
    "docs = xd.ElectronLifetime(version = cmt_elife.columns[1], value = cmt_elife.iloc[1][cmt_elife.columns[1]], \n",
    "                           time =(cmt_elife.index[1].tz_localize(None),cmt_elife.index[2].tz_localize(None)), \n",
    "                           comments = 'testing uploading date to the MongoDB using xedocs')"
   ]
  },
  {
   "cell_type": "code",
   "execution_count": 100,
   "id": "5ff1572b-9148-4f45-927b-dd24dd75bfb8",
   "metadata": {},
   "outputs": [
    {
     "data": {
      "text/plain": [
       "ElectronLifetime(version='v1', created_date=datetime.datetime(2022, 6, 21, 19, 51, 14, 391000), comments='testing uploading date to the MongoDB using xedocs', time=TimeInterval(left=Timestamp('2020-10-14 00:00:00'), right=Timestamp('2020-10-14 06:00:00')), value=71255.79834)"
      ]
     },
     "execution_count": 100,
     "metadata": {},
     "output_type": "execute_result"
    }
   ],
   "source": [
    "docs"
   ]
  },
  {
   "cell_type": "markdown",
   "id": "2f0cf344-dd06-4f46-8168-813ae066d65b",
   "metadata": {},
   "source": [
    "We have saved an entery LOCALLY into the ElectronLifetime database, we can save it to the MongoDB with a simple .save function"
   ]
  },
  {
   "cell_type": "code",
   "execution_count": 101,
   "id": "2f7edd04-92fc-4d4d-af0e-4549cde563b4",
   "metadata": {},
   "outputs": [],
   "source": [
    "docs.save()"
   ]
  },
  {
   "cell_type": "code",
   "execution_count": 103,
   "id": "e2a5fa2e-97f4-4245-ba56-32cf1053adc1",
   "metadata": {},
   "outputs": [],
   "source": [
    "testing_save = xd.ElectronLifetime.find()"
   ]
  },
  {
   "cell_type": "code",
   "execution_count": 104,
   "id": "e7f5d6f3-f0fb-4794-8e30-39d37f1f9d3e",
   "metadata": {},
   "outputs": [
    {
     "data": {
      "text/plain": [
       "[ElectronLifetime(version='v1', created_date=datetime.datetime(2022, 6, 21, 19, 51, 14, 391000), comments='testing uploading date to the MongoDB using xedocs', time=TimeInterval(left=datetime.datetime(2020, 10, 14, 0, 0), right=datetime.datetime(2020, 10, 14, 6, 0)), value=71255.79834)]"
      ]
     },
     "execution_count": 104,
     "metadata": {},
     "output_type": "execute_result"
    }
   ],
   "source": [
    "testing_save"
   ]
  },
  {
   "cell_type": "markdown",
   "id": "4e1fb4f9-aa5d-437b-bed1-02788b2f279e",
   "metadata": {},
   "source": [
    "Now lets try to change the value of the ElectronLifetime data we just gave to a different one by making an identical intery, just with a different value for the electron lifetime as the previous"
   ]
  },
  {
   "cell_type": "code",
   "execution_count": 105,
   "id": "90aad5ba-e7d1-49f9-a7ec-59e4896f031a",
   "metadata": {},
   "outputs": [],
   "source": [
    "overlap_data = xd.ElectronLifetime(version = cmt_elife.columns[1], value = 10, \n",
    "                                   time =(cmt_elife.index[1].tz_localize(None),cmt_elife.index[2].tz_localize(None)), \n",
    "                                   comments = 'testing uploading date to the MongoDB using xedocs')"
   ]
  },
  {
   "cell_type": "code",
   "execution_count": 107,
   "id": "38855c41-91d6-4c5e-b030-76bd71ec03e4",
   "metadata": {},
   "outputs": [],
   "source": [
    "testing_save = [testing_save, overlap_data]"
   ]
  },
  {
   "cell_type": "code",
   "execution_count": 108,
   "id": "7bce3a09-58e0-4adc-a04a-d6f4e723434e",
   "metadata": {},
   "outputs": [
    {
     "data": {
      "text/plain": [
       "[[ElectronLifetime(version='v1', created_date=datetime.datetime(2022, 6, 21, 19, 51, 14, 391000), comments='testing uploading date to the MongoDB using xedocs', time=TimeInterval(left=datetime.datetime(2020, 10, 14, 0, 0), right=datetime.datetime(2020, 10, 14, 6, 0)), value=71255.79834)],\n",
       " ElectronLifetime(version='v1', created_date=datetime.datetime(2022, 6, 21, 19, 51, 14, 391000), comments='testing uploading date to the MongoDB using xedocs', time=TimeInterval(left=Timestamp('2020-10-14 00:00:00'), right=Timestamp('2020-10-14 06:00:00')), value=10.0)]"
      ]
     },
     "execution_count": 108,
     "metadata": {},
     "output_type": "execute_result"
    }
   ],
   "source": [
    "testing_save"
   ]
  },
  {
   "cell_type": "code",
   "execution_count": 109,
   "id": "04897b77-5be4-4e38-a53f-83407681e87d",
   "metadata": {},
   "outputs": [
    {
     "ename": "UpdateError",
     "evalue": "Cannot update existing instance (version='v1' created_date=datetime.datetime(2022, 6, 21, 19, 51, 14, 391000) comments='testing uploading date to the MongoDB using xedocs' time=TimeInterval(left=datetime.datetime(2020, 10, 14, 0, 0), right=datetime.datetime(2020, 10, 14, 6, 0)) value=71255.79834) with new instance (version='v1' created_date=datetime.datetime(2022, 6, 21, 19, 51, 14, 391000) comments='testing uploading date to the MongoDB using xedocs' time=TimeInterval(left=Timestamp('2020-10-14 00:00:00'), right=Timestamp('2020-10-14 06:00:00')) value=10.0), the schema raised the following exception: Values already set for {'version': 'v1', 'time': TimeInterval(left=datetime.datetime(2020, 10, 14, 0, 0), right=datetime.datetime(2020, 10, 14, 6, 0))}.",
     "output_type": "error",
     "traceback": [
      "\u001b[0;31m---------------------------------------------------------------------------\u001b[0m",
      "\u001b[0;31mAssertionError\u001b[0m                            Traceback (most recent call last)",
      "File \u001b[0;32m~/.local/lib/python3.8/site-packages/rframe/schema.py:416\u001b[0m, in \u001b[0;36mBaseSchema.__pre_update\u001b[0;34m(self, datasource, new)\u001b[0m\n\u001b[1;32m    415\u001b[0m \u001b[38;5;28;01mtry\u001b[39;00m:\n\u001b[0;32m--> 416\u001b[0m     \u001b[38;5;28;43mself\u001b[39;49m\u001b[38;5;241;43m.\u001b[39;49m\u001b[43mpre_update\u001b[49m\u001b[43m(\u001b[49m\u001b[43mdatasource\u001b[49m\u001b[43m,\u001b[49m\u001b[43m \u001b[49m\u001b[43mnew\u001b[49m\u001b[38;5;241;43m=\u001b[39;49m\u001b[43mnew\u001b[49m\u001b[43m)\u001b[49m\n\u001b[1;32m    417\u001b[0m \u001b[38;5;28;01mexcept\u001b[39;00m \u001b[38;5;167;01mException\u001b[39;00m \u001b[38;5;28;01mas\u001b[39;00m e:\n",
      "File \u001b[0;32m~/.local/lib/python3.8/site-packages/xedocs/schemas/corrections/base_corrections.py:133\u001b[0m, in \u001b[0;36mTimeIntervalCorrection.pre_update\u001b[0;34m(self, datasource, new)\u001b[0m\n\u001b[1;32m    132\u001b[0m \u001b[38;5;66;03m# Only allow changes to the interval, not the values\u001b[39;00m\n\u001b[0;32m--> 133\u001b[0m \u001b[38;5;28;01massert\u001b[39;00m \u001b[38;5;28mself\u001b[39m\u001b[38;5;241m.\u001b[39msame_values(new), \u001b[38;5;124mf\u001b[39m\u001b[38;5;124m\"\u001b[39m\u001b[38;5;124mValues already set for \u001b[39m\u001b[38;5;132;01m{\u001b[39;00m\u001b[38;5;28mself\u001b[39m\u001b[38;5;241m.\u001b[39mindex_labels\u001b[38;5;132;01m}\u001b[39;00m\u001b[38;5;124m.\u001b[39m\u001b[38;5;124m\"\u001b[39m\n",
      "\u001b[0;31mAssertionError\u001b[0m: Values already set for {'version': 'v1', 'time': TimeInterval(left=datetime.datetime(2020, 10, 14, 0, 0), right=datetime.datetime(2020, 10, 14, 6, 0))}.",
      "\nDuring handling of the above exception, another exception occurred:\n",
      "\u001b[0;31mUpdateError\u001b[0m                               Traceback (most recent call last)",
      "Input \u001b[0;32mIn [109]\u001b[0m, in \u001b[0;36m<cell line: 1>\u001b[0;34m()\u001b[0m\n\u001b[0;32m----> 1\u001b[0m \u001b[43moverlap_data\u001b[49m\u001b[38;5;241;43m.\u001b[39;49m\u001b[43msave\u001b[49m\u001b[43m(\u001b[49m\u001b[43m)\u001b[49m\n",
      "File \u001b[0;32m~/.local/lib/python3.8/site-packages/rframe/schema.py:366\u001b[0m, in \u001b[0;36mBaseSchema.save\u001b[0;34m(self, datasource, **kwargs)\u001b[0m\n\u001b[1;32m    364\u001b[0m     \u001b[38;5;28;01mexcept\u001b[39;00m \u001b[38;5;167;01mException\u001b[39;00m \u001b[38;5;28;01mas\u001b[39;00m e:\n\u001b[1;32m    365\u001b[0m         existing[\u001b[38;5;241m0\u001b[39m]\u001b[38;5;241m.\u001b[39m__post_update(datasource, \u001b[38;5;28mself\u001b[39m, exception\u001b[38;5;241m=\u001b[39me)\n\u001b[0;32m--> 366\u001b[0m         \u001b[38;5;28;01mraise\u001b[39;00m e\n\u001b[1;32m    367\u001b[0m     existing[\u001b[38;5;241m0\u001b[39m]\u001b[38;5;241m.\u001b[39m__post_update(datasource, \u001b[38;5;28mself\u001b[39m)\n\u001b[1;32m    368\u001b[0m \u001b[38;5;28;01melse\u001b[39;00m:\n\u001b[1;32m    369\u001b[0m     \u001b[38;5;66;03m# Multiple documents found, raise exception\u001b[39;00m\n",
      "File \u001b[0;32m~/.local/lib/python3.8/site-packages/rframe/schema.py:362\u001b[0m, in \u001b[0;36mBaseSchema.save\u001b[0;34m(self, datasource, **kwargs)\u001b[0m\n\u001b[1;32m    359\u001b[0m \u001b[38;5;28;01melif\u001b[39;00m \u001b[38;5;28mlen\u001b[39m(existing) \u001b[38;5;241m==\u001b[39m \u001b[38;5;241m1\u001b[39m:\n\u001b[1;32m    360\u001b[0m     \u001b[38;5;66;03m# Single document found, update\u001b[39;00m\n\u001b[1;32m    361\u001b[0m     \u001b[38;5;28;01mtry\u001b[39;00m:\n\u001b[0;32m--> 362\u001b[0m         \u001b[43mexisting\u001b[49m\u001b[43m[\u001b[49m\u001b[38;5;241;43m0\u001b[39;49m\u001b[43m]\u001b[49m\u001b[38;5;241;43m.\u001b[39;49m\u001b[43m__pre_update\u001b[49m\u001b[43m(\u001b[49m\u001b[43mdatasource\u001b[49m\u001b[43m,\u001b[49m\u001b[43m \u001b[49m\u001b[38;5;28;43mself\u001b[39;49m\u001b[43m)\u001b[49m\n\u001b[1;32m    363\u001b[0m         interface\u001b[38;5;241m.\u001b[39mupdate(\u001b[38;5;28mself\u001b[39m)\n\u001b[1;32m    364\u001b[0m     \u001b[38;5;28;01mexcept\u001b[39;00m \u001b[38;5;167;01mException\u001b[39;00m \u001b[38;5;28;01mas\u001b[39;00m e:\n",
      "File \u001b[0;32m~/.local/lib/python3.8/site-packages/rframe/schema.py:418\u001b[0m, in \u001b[0;36mBaseSchema.__pre_update\u001b[0;34m(self, datasource, new)\u001b[0m\n\u001b[1;32m    416\u001b[0m     \u001b[38;5;28mself\u001b[39m\u001b[38;5;241m.\u001b[39mpre_update(datasource, new\u001b[38;5;241m=\u001b[39mnew)\n\u001b[1;32m    417\u001b[0m \u001b[38;5;28;01mexcept\u001b[39;00m \u001b[38;5;167;01mException\u001b[39;00m \u001b[38;5;28;01mas\u001b[39;00m e:\n\u001b[0;32m--> 418\u001b[0m     \u001b[38;5;28;01mraise\u001b[39;00m UpdateError(\n\u001b[1;32m    419\u001b[0m         \u001b[38;5;124mf\u001b[39m\u001b[38;5;124m\"\u001b[39m\u001b[38;5;124mCannot update existing instance (\u001b[39m\u001b[38;5;132;01m{\u001b[39;00m\u001b[38;5;28mself\u001b[39m\u001b[38;5;132;01m}\u001b[39;00m\u001b[38;5;124m) \u001b[39m\u001b[38;5;124m\"\u001b[39m\n\u001b[1;32m    420\u001b[0m         \u001b[38;5;124mf\u001b[39m\u001b[38;5;124m\"\u001b[39m\u001b[38;5;124mwith new instance (\u001b[39m\u001b[38;5;132;01m{\u001b[39;00mnew\u001b[38;5;132;01m}\u001b[39;00m\u001b[38;5;124m), the schema \u001b[39m\u001b[38;5;124m\"\u001b[39m\n\u001b[1;32m    421\u001b[0m         \u001b[38;5;124mf\u001b[39m\u001b[38;5;124m\"\u001b[39m\u001b[38;5;124mraised the following exception: \u001b[39m\u001b[38;5;132;01m{\u001b[39;00me\u001b[38;5;132;01m}\u001b[39;00m\u001b[38;5;124m\"\u001b[39m\n\u001b[1;32m    422\u001b[0m     )\n",
      "\u001b[0;31mUpdateError\u001b[0m: Cannot update existing instance (version='v1' created_date=datetime.datetime(2022, 6, 21, 19, 51, 14, 391000) comments='testing uploading date to the MongoDB using xedocs' time=TimeInterval(left=datetime.datetime(2020, 10, 14, 0, 0), right=datetime.datetime(2020, 10, 14, 6, 0)) value=71255.79834) with new instance (version='v1' created_date=datetime.datetime(2022, 6, 21, 19, 51, 14, 391000) comments='testing uploading date to the MongoDB using xedocs' time=TimeInterval(left=Timestamp('2020-10-14 00:00:00'), right=Timestamp('2020-10-14 06:00:00')) value=10.0), the schema raised the following exception: Values already set for {'version': 'v1', 'time': TimeInterval(left=datetime.datetime(2020, 10, 14, 0, 0), right=datetime.datetime(2020, 10, 14, 6, 0))}."
     ]
    }
   ],
   "source": [
    "overlap_data.save()"
   ]
  },
  {
   "cell_type": "markdown",
   "id": "465c7250-3271-4c40-abe1-a621fcab5312",
   "metadata": {},
   "source": [
    "We got an error! This is good as it prevents people form accidentally overwriting data into the MongoDB dataframe, if a some data is saved and needs to be changed you will need to access the MongoDB directly"
   ]
  },
  {
   "cell_type": "code",
   "execution_count": 112,
   "id": "d70a3fad-9616-420e-bc7a-1c1e2c56846c",
   "metadata": {},
   "outputs": [],
   "source": [
    "overlap_data.value = 20"
   ]
  },
  {
   "cell_type": "code",
   "execution_count": 114,
   "id": "ed457b88-48ab-4bf7-a1f9-28aa7c574c58",
   "metadata": {},
   "outputs": [
    {
     "data": {
      "text/plain": [
       "20.0"
      ]
     },
     "execution_count": 114,
     "metadata": {},
     "output_type": "execute_result"
    }
   ],
   "source": [
    "overlap_data.value"
   ]
  },
  {
   "cell_type": "markdown",
   "id": "befca765-71cc-47c9-ab82-6dcdf9b047ce",
   "metadata": {},
   "source": [
    "You can however overwrite whatever values you want locally!"
   ]
  },
  {
   "cell_type": "code",
   "execution_count": 94,
   "id": "80cc8c27-5e07-4de8-a556-928cd1809d4c",
   "metadata": {},
   "outputs": [
    {
     "data": {
      "text/plain": [
       "Timestamp('2020-10-14 00:00:00+0000', tz='UTC')"
      ]
     },
     "execution_count": 94,
     "metadata": {},
     "output_type": "execute_result"
    }
   ],
   "source": [
    "cmt_elife.index[1]"
   ]
  },
  {
   "cell_type": "code",
   "execution_count": 96,
   "id": "6a5aef58-7bf4-42a5-946b-d925d6ea1e2e",
   "metadata": {},
   "outputs": [
    {
     "data": {
      "text/plain": [
       "Timestamp('2020-10-14 00:00:00')"
      ]
     },
     "execution_count": 96,
     "metadata": {},
     "output_type": "execute_result"
    }
   ],
   "source": [
    "cmt_elife.index[1].tz_localize(None) #small note, xedocs only accepts values with a non-localized timezone so this has"
   ]
  },
  {
   "cell_type": "markdown",
   "id": "9605e0d4-02da-40f3-b318-ba5387e10a49",
   "metadata": {},
   "source": [
    "Small note, xedocs only accepts values with a non-localized timezone so the datetime value of CMT and other data sources must be changed to None in order for xedocs to accpet these values."
   ]
  },
  {
   "cell_type": "markdown",
   "id": "7621a067-54f6-4297-a7cc-7cdc19f46151",
   "metadata": {},
   "source": [
    "### How to deal with dataframes with multiple fields as indexes"
   ]
  },
  {
   "cell_type": "markdown",
   "id": "4625e170-1e93-4c3a-8bf2-b8126d8043bb",
   "metadata": {},
   "source": [
    "This section is more of a remider for me in case I forget how to do this but I figured I would share it here for others who have not encountered things like this before in python"
   ]
  },
  {
   "cell_type": "code",
   "execution_count": 77,
   "id": "62cb74ad-7037-4f9a-ac79-a9c1e973bdc2",
   "metadata": {},
   "outputs": [],
   "source": [
    "pmt_1_df = xd.find_df('pmt_gains', version = 'v6', pmt = 415, detectpr = 'tpc')"
   ]
  },
  {
   "cell_type": "code",
   "execution_count": 85,
   "id": "6371aa63-eef1-45d3-b46d-17084dba064f",
   "metadata": {},
   "outputs": [
    {
     "data": {
      "text/html": [
       "<div>\n",
       "<style scoped>\n",
       "    .dataframe tbody tr th:only-of-type {\n",
       "        vertical-align: middle;\n",
       "    }\n",
       "\n",
       "    .dataframe tbody tr th {\n",
       "        vertical-align: top;\n",
       "    }\n",
       "\n",
       "    .dataframe thead th {\n",
       "        text-align: right;\n",
       "    }\n",
       "</style>\n",
       "<table border=\"1\" class=\"dataframe\">\n",
       "  <thead>\n",
       "    <tr style=\"text-align: right;\">\n",
       "      <th></th>\n",
       "      <th></th>\n",
       "      <th></th>\n",
       "      <th></th>\n",
       "      <th>created_date</th>\n",
       "      <th>comments</th>\n",
       "      <th>value</th>\n",
       "    </tr>\n",
       "    <tr>\n",
       "      <th>version</th>\n",
       "      <th>time</th>\n",
       "      <th>detector</th>\n",
       "      <th>pmt</th>\n",
       "      <th></th>\n",
       "      <th></th>\n",
       "      <th></th>\n",
       "    </tr>\n",
       "  </thead>\n",
       "  <tbody>\n",
       "    <tr>\n",
       "      <th rowspan=\"11\" valign=\"top\">v6</th>\n",
       "      <th>2020-04-01 12:06:54.000</th>\n",
       "      <th>tpc</th>\n",
       "      <th>415</th>\n",
       "      <td>2022-05-01 18:33:48.959</td>\n",
       "      <td>migrated from cmt.</td>\n",
       "      <td>0.047813</td>\n",
       "    </tr>\n",
       "    <tr>\n",
       "      <th>2020-04-01 14:17:27.000</th>\n",
       "      <th>tpc</th>\n",
       "      <th>415</th>\n",
       "      <td>2022-05-01 18:33:48.959</td>\n",
       "      <td>migrated from cmt.</td>\n",
       "      <td>0.047813</td>\n",
       "    </tr>\n",
       "    <tr>\n",
       "      <th>2020-04-01 14:17:28.000</th>\n",
       "      <th>tpc</th>\n",
       "      <th>415</th>\n",
       "      <td>2022-05-01 18:33:48.959</td>\n",
       "      <td>migrated from cmt.</td>\n",
       "      <td>0.005846</td>\n",
       "    </tr>\n",
       "    <tr>\n",
       "      <th>2020-04-16 09:49:17.000</th>\n",
       "      <th>tpc</th>\n",
       "      <th>415</th>\n",
       "      <td>2022-05-01 18:33:48.959</td>\n",
       "      <td>migrated from cmt.</td>\n",
       "      <td>0.005846</td>\n",
       "    </tr>\n",
       "    <tr>\n",
       "      <th>2020-04-16 09:49:18.000</th>\n",
       "      <th>tpc</th>\n",
       "      <th>415</th>\n",
       "      <td>2022-05-01 18:33:48.959</td>\n",
       "      <td>migrated from cmt.</td>\n",
       "      <td>0.047813</td>\n",
       "    </tr>\n",
       "    <tr>\n",
       "      <th>...</th>\n",
       "      <th>...</th>\n",
       "      <th>...</th>\n",
       "      <td>...</td>\n",
       "      <td>...</td>\n",
       "      <td>...</td>\n",
       "    </tr>\n",
       "    <tr>\n",
       "      <th>2021-12-09 16:11:19.000</th>\n",
       "      <th>tpc</th>\n",
       "      <th>415</th>\n",
       "      <td>2022-05-01 18:33:48.959</td>\n",
       "      <td>migrated from cmt.</td>\n",
       "      <td>0.007993</td>\n",
       "    </tr>\n",
       "    <tr>\n",
       "      <th>2021-12-10 13:18:09.288</th>\n",
       "      <th>tpc</th>\n",
       "      <th>415</th>\n",
       "      <td>2022-05-01 18:33:48.959</td>\n",
       "      <td>migrated from cmt.</td>\n",
       "      <td>0.007994</td>\n",
       "    </tr>\n",
       "    <tr>\n",
       "      <th>2021-12-17 10:13:10.000</th>\n",
       "      <th>tpc</th>\n",
       "      <th>415</th>\n",
       "      <td>2022-05-01 18:33:48.959</td>\n",
       "      <td>migrated from cmt.</td>\n",
       "      <td>0.007998</td>\n",
       "    </tr>\n",
       "    <tr>\n",
       "      <th>2021-12-17 17:53:43.936</th>\n",
       "      <th>tpc</th>\n",
       "      <th>415</th>\n",
       "      <td>2022-05-01 18:33:48.959</td>\n",
       "      <td>migrated from cmt.</td>\n",
       "      <td>0.007999</td>\n",
       "    </tr>\n",
       "    <tr>\n",
       "      <th>2021-12-24 08:19:40.000</th>\n",
       "      <th>tpc</th>\n",
       "      <th>415</th>\n",
       "      <td>2022-05-01 18:33:48.959</td>\n",
       "      <td>migrated from cmt.</td>\n",
       "      <td>0.008002</td>\n",
       "    </tr>\n",
       "  </tbody>\n",
       "</table>\n",
       "<p>304 rows × 3 columns</p>\n",
       "</div>"
      ],
      "text/plain": [
       "                                                        created_date  \\\n",
       "version time                    detector pmt                           \n",
       "v6      2020-04-01 12:06:54.000 tpc      415 2022-05-01 18:33:48.959   \n",
       "        2020-04-01 14:17:27.000 tpc      415 2022-05-01 18:33:48.959   \n",
       "        2020-04-01 14:17:28.000 tpc      415 2022-05-01 18:33:48.959   \n",
       "        2020-04-16 09:49:17.000 tpc      415 2022-05-01 18:33:48.959   \n",
       "        2020-04-16 09:49:18.000 tpc      415 2022-05-01 18:33:48.959   \n",
       "...                                                              ...   \n",
       "        2021-12-09 16:11:19.000 tpc      415 2022-05-01 18:33:48.959   \n",
       "        2021-12-10 13:18:09.288 tpc      415 2022-05-01 18:33:48.959   \n",
       "        2021-12-17 10:13:10.000 tpc      415 2022-05-01 18:33:48.959   \n",
       "        2021-12-17 17:53:43.936 tpc      415 2022-05-01 18:33:48.959   \n",
       "        2021-12-24 08:19:40.000 tpc      415 2022-05-01 18:33:48.959   \n",
       "\n",
       "                                                        comments     value  \n",
       "version time                    detector pmt                                \n",
       "v6      2020-04-01 12:06:54.000 tpc      415  migrated from cmt.  0.047813  \n",
       "        2020-04-01 14:17:27.000 tpc      415  migrated from cmt.  0.047813  \n",
       "        2020-04-01 14:17:28.000 tpc      415  migrated from cmt.  0.005846  \n",
       "        2020-04-16 09:49:17.000 tpc      415  migrated from cmt.  0.005846  \n",
       "        2020-04-16 09:49:18.000 tpc      415  migrated from cmt.  0.047813  \n",
       "...                                                          ...       ...  \n",
       "        2021-12-09 16:11:19.000 tpc      415  migrated from cmt.  0.007993  \n",
       "        2021-12-10 13:18:09.288 tpc      415  migrated from cmt.  0.007994  \n",
       "        2021-12-17 10:13:10.000 tpc      415  migrated from cmt.  0.007998  \n",
       "        2021-12-17 17:53:43.936 tpc      415  migrated from cmt.  0.007999  \n",
       "        2021-12-24 08:19:40.000 tpc      415  migrated from cmt.  0.008002  \n",
       "\n",
       "[304 rows x 3 columns]"
      ]
     },
     "execution_count": 85,
     "metadata": {},
     "output_type": "execute_result"
    }
   ],
   "source": [
    "pmt_1_df"
   ]
  },
  {
   "cell_type": "markdown",
   "id": "88b8cd4e-3a3c-49f7-8083-991c47f99da6",
   "metadata": {},
   "source": [
    "So how do we get spesific indecies? we can use the .grouby pmt_1_df.groupby(level=1)"
   ]
  },
  {
   "cell_type": "code",
   "execution_count": 89,
   "id": "fef1c658-6f92-4716-86fb-b8e66d8038f5",
   "metadata": {},
   "outputs": [
    {
     "data": {
      "text/plain": [
       "DatetimeIndex([       '2020-04-01 12:06:54',        '2020-04-01 14:17:27',\n",
       "                      '2020-04-01 14:17:28',        '2020-04-16 09:49:17',\n",
       "                      '2020-04-16 09:49:18',        '2020-04-17 13:46:50',\n",
       "                      '2020-04-17 13:46:51',        '2020-04-28 14:27:49',\n",
       "                      '2020-04-28 14:27:50',        '2020-05-08 13:15:49',\n",
       "               ...\n",
       "               '2021-11-19 19:58:55.024000',        '2021-11-26 09:17:00',\n",
       "               '2021-11-26 17:48:15.992000',        '2021-12-03 09:07:11',\n",
       "               '2021-12-06 19:10:45.162000',        '2021-12-09 16:11:19',\n",
       "               '2021-12-10 13:18:09.288000',        '2021-12-17 10:13:10',\n",
       "               '2021-12-17 17:53:43.936000',        '2021-12-24 08:19:40'],\n",
       "              dtype='datetime64[ns]', name='time', length=304, freq=None)"
      ]
     },
     "execution_count": 89,
     "metadata": {},
     "output_type": "execute_result"
    }
   ],
   "source": [
    "pmt_1_df.groupby(level=1).apply(lambda x: x.iloc[0]).index"
   ]
  },
  {
   "cell_type": "code",
   "execution_count": 110,
   "id": "5f41c826-6351-420b-9316-5c11a109845e",
   "metadata": {},
   "outputs": [
    {
     "data": {
      "text/plain": [
       "Timestamp('2020-04-01 12:06:54')"
      ]
     },
     "execution_count": 110,
     "metadata": {},
     "output_type": "execute_result"
    }
   ],
   "source": [
    "pmt_1_df.groupby(level=1).apply(lambda x: x.iloc[0]).index[0]"
   ]
  },
  {
   "cell_type": "code",
   "execution_count": 83,
   "id": "af6df29a-381f-420d-8b73-e666f5ef68b6",
   "metadata": {},
   "outputs": [],
   "source": [
    "df_cd_pmt1 = cmt.read('pmt_415_gain_xenonnt')"
   ]
  },
  {
   "cell_type": "code",
   "execution_count": 84,
   "id": "aa4c364c-ab75-49a5-b35e-60d9d5b8fce6",
   "metadata": {},
   "outputs": [
    {
     "data": {
      "text/plain": [
       "DatetimeIndex([       '2020-04-01 12:06:54+00:00',\n",
       "                      '2020-04-01 14:17:27+00:00',\n",
       "                      '2020-04-01 14:17:28+00:00',\n",
       "                      '2020-04-16 09:49:17+00:00',\n",
       "                      '2020-04-16 09:49:18+00:00',\n",
       "                      '2020-04-17 13:46:50+00:00',\n",
       "                      '2020-04-17 13:46:51+00:00',\n",
       "                      '2020-04-28 14:27:49+00:00',\n",
       "                      '2020-04-28 14:27:50+00:00',\n",
       "                      '2020-05-08 13:15:49+00:00',\n",
       "               ...\n",
       "                      '2022-02-25 08:09:12+00:00',\n",
       "                      '2022-03-04 14:00:56+00:00',\n",
       "                      '2022-03-11 08:24:10+00:00',\n",
       "                      '2022-03-18 09:09:50+00:00',\n",
       "                      '2022-03-23 14:02:35+00:00',\n",
       "                      '2022-03-25 09:07:19+00:00',\n",
       "               '2022-05-02 12:38:49.267000+00:00',\n",
       "                      '2022-06-03 15:00:00+00:00',\n",
       "               '2022-06-16 15:57:00.667000+00:00',\n",
       "                      '2100-01-01 00:00:00+00:00'],\n",
       "              dtype='datetime64[ns, UTC]', name='time', length=327, freq=None)"
      ]
     },
     "execution_count": 84,
     "metadata": {},
     "output_type": "execute_result"
    }
   ],
   "source": [
    "df_cd_pmt1['v6'].index[1:]"
   ]
  }
 ],
 "metadata": {
  "kernelspec": {
   "display_name": "Python [conda env:strax]",
   "language": "python",
   "name": "conda-env-strax-py"
  },
  "language_info": {
   "codemirror_mode": {
    "name": "ipython",
    "version": 3
   },
   "file_extension": ".py",
   "mimetype": "text/x-python",
   "name": "python",
   "nbconvert_exporter": "python",
   "pygments_lexer": "ipython3",
   "version": "3.8.13"
  }
 },
 "nbformat": 4,
 "nbformat_minor": 5
}
