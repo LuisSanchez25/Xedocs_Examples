{
 "cells": [
  {
   "cell_type": "markdown",
   "id": "ea46fc52-4211-4936-b9b1-192778179072",
   "metadata": {},
   "source": [
    "# Xedocs user guide"
   ]
  },
  {
   "cell_type": "markdown",
   "id": "96f5e767-3196-4db4-a731-2a11bf64ae5b",
   "metadata": {},
   "source": [
    "This tutorial serves as a basic introduction to xedocs. Xedocs is the replacement of CMT (Correction Management System) and will be used moving forward to store, save and access correction data as well as other metadata needed for the XENONnT experiment moving forward. The main goal with xedocs was to have a system with the following requierments: We want versioned data that is flexible enough to adapt to future changes, to have insertion rules and to follow time dependace requirements."
   ]
  },
  {
   "cell_type": "markdown",
   "id": "2272f23a-11f7-4aa3-8b8e-ace367610cbb",
   "metadata": {},
   "source": [
    "\n",
    "The purpose of this document it to show the reader how to use some of the functions in xedocs, these will include:\n",
    "- getting corrections by run_id or date from the analyst database and your own database.\n",
    "- Inserting corrections data into the analyst database and your own database\n",
    "- Reprocessing data using URLConfigurations\n",
    "- How to make your own schema (or correction).\n",
    "- Next we will load the PMT gains showing how to get multivalue corrections"
   ]
  },
  {
   "cell_type": "code",
   "execution_count": 1,
   "id": "2dd90e93-7489-48d6-a993-893e01a45ac6",
   "metadata": {},
   "outputs": [
    {
     "name": "stderr",
     "output_type": "stream",
     "text": [
      "Could not import editors, GUI not available.\n"
     ]
    }
   ],
   "source": [
    "import strax\n",
    "import straxen\n",
    "import xedocs as xd\n",
    "import numpy as np\n",
    "import rframe\n",
    "import pymongo\n",
    "import matplotlib.pyplot as plt"
   ]
  },
  {
   "cell_type": "code",
   "execution_count": 2,
   "id": "a015946b-43f3-4200-8514-1de86d018137",
   "metadata": {},
   "outputs": [
    {
     "data": {
      "text/html": [
       "<div>\n",
       "<style scoped>\n",
       "    .dataframe tbody tr th:only-of-type {\n",
       "        vertical-align: middle;\n",
       "    }\n",
       "\n",
       "    .dataframe tbody tr th {\n",
       "        vertical-align: top;\n",
       "    }\n",
       "\n",
       "    .dataframe thead th {\n",
       "        text-align: right;\n",
       "    }\n",
       "</style>\n",
       "<table border=\"1\" class=\"dataframe\">\n",
       "  <thead>\n",
       "    <tr style=\"text-align: right;\">\n",
       "      <th></th>\n",
       "      <th>module</th>\n",
       "      <th>version</th>\n",
       "      <th>path</th>\n",
       "      <th>git</th>\n",
       "    </tr>\n",
       "  </thead>\n",
       "  <tbody>\n",
       "    <tr>\n",
       "      <th>0</th>\n",
       "      <td>python</td>\n",
       "      <td>3.8.13</td>\n",
       "      <td>/opt/conda/envs/strax/bin/python</td>\n",
       "      <td>None</td>\n",
       "    </tr>\n",
       "    <tr>\n",
       "      <th>1</th>\n",
       "      <td>strax</td>\n",
       "      <td>1.4.0</td>\n",
       "      <td>/home/luissanchez25/.local/lib/python3.8/site-...</td>\n",
       "      <td>branch:relative_light_yield_schema | 3cd255b</td>\n",
       "    </tr>\n",
       "    <tr>\n",
       "      <th>2</th>\n",
       "      <td>straxen</td>\n",
       "      <td>2.0.3</td>\n",
       "      <td>/home/luissanchez25/.local/lib/python3.8/site-...</td>\n",
       "      <td>branch:relative_light_yield_schema | 3cd255b</td>\n",
       "    </tr>\n",
       "    <tr>\n",
       "      <th>3</th>\n",
       "      <td>rframe</td>\n",
       "      <td>0.2.1</td>\n",
       "      <td>/home/luissanchez25/.local/lib/python3.8/site-...</td>\n",
       "      <td>branch:relative_light_yield_schema | 3cd255b</td>\n",
       "    </tr>\n",
       "    <tr>\n",
       "      <th>4</th>\n",
       "      <td>xedocs</td>\n",
       "      <td>0.2.8</td>\n",
       "      <td>/home/luissanchez25/.local/lib/python3.8/site-...</td>\n",
       "      <td>branch:relative_light_yield_schema | 3cd255b</td>\n",
       "    </tr>\n",
       "  </tbody>\n",
       "</table>\n",
       "</div>"
      ],
      "text/plain": [
       "    module version                                               path  \\\n",
       "0   python  3.8.13                   /opt/conda/envs/strax/bin/python   \n",
       "1    strax   1.4.0  /home/luissanchez25/.local/lib/python3.8/site-...   \n",
       "2  straxen   2.0.3  /home/luissanchez25/.local/lib/python3.8/site-...   \n",
       "3   rframe   0.2.1  /home/luissanchez25/.local/lib/python3.8/site-...   \n",
       "4   xedocs   0.2.8  /home/luissanchez25/.local/lib/python3.8/site-...   \n",
       "\n",
       "                                            git  \n",
       "0                                          None  \n",
       "1  branch:relative_light_yield_schema | 3cd255b  \n",
       "2  branch:relative_light_yield_schema | 3cd255b  \n",
       "3  branch:relative_light_yield_schema | 3cd255b  \n",
       "4  branch:relative_light_yield_schema | 3cd255b  "
      ]
     },
     "execution_count": 2,
     "metadata": {},
     "output_type": "execute_result"
    }
   ],
   "source": [
    "straxen.print_versions('strax straxen rframe xedocs'.split())"
   ]
  },
  {
   "cell_type": "code",
   "execution_count": 3,
   "id": "c1c6ad7d-f1c8-43a0-942d-196585d6638c",
   "metadata": {},
   "outputs": [],
   "source": [
    "# Change this to your own folder if you are trying to run this tutorial notebook\n",
    "url = ''"
   ]
  },
  {
   "cell_type": "markdown",
   "id": "49eb774f-e05c-422e-bedc-8c995a9cabf2",
   "metadata": {},
   "source": [
    "With xedocs we can use schemas to get different corrections from multiple sources such as bodega (refered to as 'detector numbers'), the xedocs databse, or even your own! Schemas are python classes with certain properties and functions to deal with the backend of storing data as well as rules such as preventing the deletion and overwritting of existing data!\n",
    "<br>\n",
    "Lets look at some of the schemas that are available!"
   ]
  },
  {
   "cell_type": "code",
   "execution_count": 3,
   "id": "aa7d72e9-c6aa-454c-a083-5f9a89076de1",
   "metadata": {},
   "outputs": [
    {
     "data": {
      "text/plain": [
       "['detector_numbers',\n",
       " 'context_configs',\n",
       " 'plugin_lineages',\n",
       " 'context_lineages',\n",
       " 'fax_configs',\n",
       " 'electron_drift_velocities',\n",
       " 'electron_drift_time_gates',\n",
       " 'electron_lifetimes',\n",
       " 'rel_extraction_effs',\n",
       " 'fdc_maps',\n",
       " 'hit_thresholds',\n",
       " 'pmt_gains',\n",
       " 'posrec_models',\n",
       " 's1_aft_xyz_maps',\n",
       " 's1_xyz_maps',\n",
       " 's2_xy_maps',\n",
       " 'se_gains',\n",
       " 'electron_diffusion_cte',\n",
       " 'baseline_samples_nv',\n",
       " 'relative_light_yield',\n",
       " 'avg_se_gains',\n",
       " 'bayes_models',\n",
       " 'utube_calibrations',\n",
       " 'diffused_calibrations',\n",
       " 'ibelt_calibrations',\n",
       " 'calibration_sources',\n",
       " 'hotspot_reports',\n",
       " 'anode_ramps',\n",
       " 'anode_washes',\n",
       " 'abnormal_daq_rates',\n",
       " 'processing_requests',\n",
       " 'pmt_gain_calculations',\n",
       " 'pmt_voltage_changes',\n",
       " 'pmt_installs',\n",
       " 'pmt_voltage_settings']"
      ]
     },
     "execution_count": 3,
     "metadata": {},
     "output_type": "execute_result"
    }
   ],
   "source": [
    "xd.list_schemas()"
   ]
  },
  {
   "cell_type": "markdown",
   "id": "e71ea638-983d-4727-b981-01f73cf4f64a",
   "metadata": {},
   "source": [
    "#### As you can see we can store all kinds of metadata here not just corrections!"
   ]
  },
  {
   "cell_type": "markdown",
   "id": "c273897c-8072-41f8-aa60-de1e176fc13b",
   "metadata": {},
   "source": [
    "### Accessing data"
   ]
  },
  {
   "cell_type": "markdown",
   "id": "f87e8f88-e1c1-4825-abc9-31fd754478ee",
   "metadata": {},
   "source": [
    "Here we will see how to access data from the straxen database, later on we will show how you can access data from any database!"
   ]
  },
  {
   "cell_type": "code",
   "execution_count": 6,
   "id": "575372e0-83e7-4536-842c-140f95d35325",
   "metadata": {},
   "outputs": [],
   "source": [
    "xd_db = xd.development_db.utilix # here we can spesify the context or database we will be using"
   ]
  },
  {
   "cell_type": "code",
   "execution_count": 4,
   "id": "dd315299-9575-4931-aeb7-87aa0e77a6db",
   "metadata": {},
   "outputs": [],
   "source": [
    "xd_db = xd.straxen_db.utilix"
   ]
  },
  {
   "cell_type": "markdown",
   "id": "2f5a8b03-8981-4ce7-b853-5cb800dc86a5",
   "metadata": {},
   "source": [
    "The data can be returned to the user in a varaiety of formats, for example in a pandas dataframe structure:"
   ]
  },
  {
   "cell_type": "code",
   "execution_count": 9,
   "id": "80a341b6-df87-47b5-9248-f050bdc219cc",
   "metadata": {},
   "outputs": [
    {
     "data": {
      "text/html": [
       "<div>\n",
       "<style scoped>\n",
       "    .dataframe tbody tr th:only-of-type {\n",
       "        vertical-align: middle;\n",
       "    }\n",
       "\n",
       "    .dataframe tbody tr th {\n",
       "        vertical-align: top;\n",
       "    }\n",
       "\n",
       "    .dataframe thead th {\n",
       "        text-align: right;\n",
       "    }\n",
       "</style>\n",
       "<table border=\"1\" class=\"dataframe\">\n",
       "  <thead>\n",
       "    <tr style=\"text-align: right;\">\n",
       "      <th></th>\n",
       "      <th></th>\n",
       "      <th>created_date</th>\n",
       "      <th>comments</th>\n",
       "      <th>reviews</th>\n",
       "      <th>value</th>\n",
       "    </tr>\n",
       "    <tr>\n",
       "      <th>version</th>\n",
       "      <th>time</th>\n",
       "      <th></th>\n",
       "      <th></th>\n",
       "      <th></th>\n",
       "      <th></th>\n",
       "    </tr>\n",
       "  </thead>\n",
       "  <tbody>\n",
       "    <tr>\n",
       "      <th rowspan=\"11\" valign=\"top\">ONLINE</th>\n",
       "      <th>2017-01-01 00:00:00</th>\n",
       "      <td>2022-12-22 15:14:06.975</td>\n",
       "      <td></td>\n",
       "      <td>[]</td>\n",
       "      <td>2.000000e+05</td>\n",
       "    </tr>\n",
       "    <tr>\n",
       "      <th>2020-10-14 00:00:00</th>\n",
       "      <td>2022-12-22 15:14:06.975</td>\n",
       "      <td></td>\n",
       "      <td>[]</td>\n",
       "      <td>7.125580e+04</td>\n",
       "    </tr>\n",
       "    <tr>\n",
       "      <th>2020-10-14 06:00:00</th>\n",
       "      <td>2022-12-22 15:14:06.975</td>\n",
       "      <td></td>\n",
       "      <td>[]</td>\n",
       "      <td>6.927400e+04</td>\n",
       "    </tr>\n",
       "    <tr>\n",
       "      <th>2020-10-14 12:00:00</th>\n",
       "      <td>2022-12-22 15:14:06.975</td>\n",
       "      <td></td>\n",
       "      <td>[]</td>\n",
       "      <td>6.903980e+04</td>\n",
       "    </tr>\n",
       "    <tr>\n",
       "      <th>2020-10-14 18:00:00</th>\n",
       "      <td>2022-12-22 15:14:06.975</td>\n",
       "      <td></td>\n",
       "      <td>[]</td>\n",
       "      <td>6.819510e+04</td>\n",
       "    </tr>\n",
       "    <tr>\n",
       "      <th>...</th>\n",
       "      <td>...</td>\n",
       "      <td>...</td>\n",
       "      <td>...</td>\n",
       "      <td>...</td>\n",
       "    </tr>\n",
       "    <tr>\n",
       "      <th>2022-09-30 03:06:03</th>\n",
       "      <td>2022-12-22 15:14:06.971</td>\n",
       "      <td></td>\n",
       "      <td>[]</td>\n",
       "      <td>8.180421e+06</td>\n",
       "    </tr>\n",
       "    <tr>\n",
       "      <th>2022-09-30 09:06:03</th>\n",
       "      <td>2022-12-22 15:14:06.971</td>\n",
       "      <td></td>\n",
       "      <td>[]</td>\n",
       "      <td>8.180421e+06</td>\n",
       "    </tr>\n",
       "    <tr>\n",
       "      <th>2022-09-30 15:06:03</th>\n",
       "      <td>2022-12-22 15:14:06.971</td>\n",
       "      <td></td>\n",
       "      <td>[]</td>\n",
       "      <td>8.180421e+06</td>\n",
       "    </tr>\n",
       "    <tr>\n",
       "      <th>2022-09-30 21:06:03</th>\n",
       "      <td>2022-12-22 15:14:06.971</td>\n",
       "      <td></td>\n",
       "      <td>[]</td>\n",
       "      <td>8.180421e+06</td>\n",
       "    </tr>\n",
       "    <tr>\n",
       "      <th>2022-10-01 03:06:03</th>\n",
       "      <td>2022-12-22 15:14:06.971</td>\n",
       "      <td></td>\n",
       "      <td>[]</td>\n",
       "      <td>8.180421e+06</td>\n",
       "    </tr>\n",
       "  </tbody>\n",
       "</table>\n",
       "<p>2660 rows × 4 columns</p>\n",
       "</div>"
      ],
      "text/plain": [
       "                                       created_date comments reviews  \\\n",
       "version time                                                           \n",
       "ONLINE  2017-01-01 00:00:00 2022-12-22 15:14:06.975               []   \n",
       "        2020-10-14 00:00:00 2022-12-22 15:14:06.975               []   \n",
       "        2020-10-14 06:00:00 2022-12-22 15:14:06.975               []   \n",
       "        2020-10-14 12:00:00 2022-12-22 15:14:06.975               []   \n",
       "        2020-10-14 18:00:00 2022-12-22 15:14:06.975               []   \n",
       "...                                             ...      ...     ...   \n",
       "        2022-09-30 03:06:03 2022-12-22 15:14:06.971               []   \n",
       "        2022-09-30 09:06:03 2022-12-22 15:14:06.971               []   \n",
       "        2022-09-30 15:06:03 2022-12-22 15:14:06.971               []   \n",
       "        2022-09-30 21:06:03 2022-12-22 15:14:06.971               []   \n",
       "        2022-10-01 03:06:03 2022-12-22 15:14:06.971               []   \n",
       "\n",
       "                                    value  \n",
       "version time                               \n",
       "ONLINE  2017-01-01 00:00:00  2.000000e+05  \n",
       "        2020-10-14 00:00:00  7.125580e+04  \n",
       "        2020-10-14 06:00:00  6.927400e+04  \n",
       "        2020-10-14 12:00:00  6.903980e+04  \n",
       "        2020-10-14 18:00:00  6.819510e+04  \n",
       "...                                   ...  \n",
       "        2022-09-30 03:06:03  8.180421e+06  \n",
       "        2022-09-30 09:06:03  8.180421e+06  \n",
       "        2022-09-30 15:06:03  8.180421e+06  \n",
       "        2022-09-30 21:06:03  8.180421e+06  \n",
       "        2022-10-01 03:06:03  8.180421e+06  \n",
       "\n",
       "[2660 rows x 4 columns]"
      ]
     },
     "execution_count": 9,
     "metadata": {},
     "output_type": "execute_result"
    }
   ],
   "source": [
    "xd_db.electron_lifetimes.find_df(version='ONLINE')"
   ]
  },
  {
   "cell_type": "code",
   "execution_count": 10,
   "id": "8af6b1ac-0684-4041-a17a-3db4bdcadc2f",
   "metadata": {},
   "outputs": [],
   "source": [
    "elife = xd_db.electron_lifetimes.find_df(version='ONLINE') # if you try to "
   ]
  },
  {
   "cell_type": "code",
   "execution_count": 11,
   "id": "82b566d0-88c7-4606-ab09-1013e5b4941f",
   "metadata": {},
   "outputs": [
    {
     "data": {
      "text/html": [
       "<div>\n",
       "<style scoped>\n",
       "    .dataframe tbody tr th:only-of-type {\n",
       "        vertical-align: middle;\n",
       "    }\n",
       "\n",
       "    .dataframe tbody tr th {\n",
       "        vertical-align: top;\n",
       "    }\n",
       "\n",
       "    .dataframe thead th {\n",
       "        text-align: right;\n",
       "    }\n",
       "</style>\n",
       "<table border=\"1\" class=\"dataframe\">\n",
       "  <thead>\n",
       "    <tr style=\"text-align: right;\">\n",
       "      <th></th>\n",
       "      <th></th>\n",
       "      <th>created_date</th>\n",
       "      <th>comments</th>\n",
       "      <th>reviews</th>\n",
       "      <th>value</th>\n",
       "    </tr>\n",
       "    <tr>\n",
       "      <th>version</th>\n",
       "      <th>time</th>\n",
       "      <th></th>\n",
       "      <th></th>\n",
       "      <th></th>\n",
       "      <th></th>\n",
       "    </tr>\n",
       "  </thead>\n",
       "  <tbody>\n",
       "    <tr>\n",
       "      <th rowspan=\"11\" valign=\"top\">ONLINE</th>\n",
       "      <th>2017-01-01 00:00:00</th>\n",
       "      <td>2022-12-22 15:14:06.975</td>\n",
       "      <td></td>\n",
       "      <td>[]</td>\n",
       "      <td>2.000000e+05</td>\n",
       "    </tr>\n",
       "    <tr>\n",
       "      <th>2020-10-14 00:00:00</th>\n",
       "      <td>2022-12-22 15:14:06.975</td>\n",
       "      <td></td>\n",
       "      <td>[]</td>\n",
       "      <td>7.125580e+04</td>\n",
       "    </tr>\n",
       "    <tr>\n",
       "      <th>2020-10-14 06:00:00</th>\n",
       "      <td>2022-12-22 15:14:06.975</td>\n",
       "      <td></td>\n",
       "      <td>[]</td>\n",
       "      <td>6.927400e+04</td>\n",
       "    </tr>\n",
       "    <tr>\n",
       "      <th>2020-10-14 12:00:00</th>\n",
       "      <td>2022-12-22 15:14:06.975</td>\n",
       "      <td></td>\n",
       "      <td>[]</td>\n",
       "      <td>6.903980e+04</td>\n",
       "    </tr>\n",
       "    <tr>\n",
       "      <th>2020-10-14 18:00:00</th>\n",
       "      <td>2022-12-22 15:14:06.975</td>\n",
       "      <td></td>\n",
       "      <td>[]</td>\n",
       "      <td>6.819510e+04</td>\n",
       "    </tr>\n",
       "    <tr>\n",
       "      <th>...</th>\n",
       "      <td>...</td>\n",
       "      <td>...</td>\n",
       "      <td>...</td>\n",
       "      <td>...</td>\n",
       "    </tr>\n",
       "    <tr>\n",
       "      <th>2022-09-30 03:06:03</th>\n",
       "      <td>2022-12-22 15:14:06.971</td>\n",
       "      <td></td>\n",
       "      <td>[]</td>\n",
       "      <td>8.180421e+06</td>\n",
       "    </tr>\n",
       "    <tr>\n",
       "      <th>2022-09-30 09:06:03</th>\n",
       "      <td>2022-12-22 15:14:06.971</td>\n",
       "      <td></td>\n",
       "      <td>[]</td>\n",
       "      <td>8.180421e+06</td>\n",
       "    </tr>\n",
       "    <tr>\n",
       "      <th>2022-09-30 15:06:03</th>\n",
       "      <td>2022-12-22 15:14:06.971</td>\n",
       "      <td></td>\n",
       "      <td>[]</td>\n",
       "      <td>8.180421e+06</td>\n",
       "    </tr>\n",
       "    <tr>\n",
       "      <th>2022-09-30 21:06:03</th>\n",
       "      <td>2022-12-22 15:14:06.971</td>\n",
       "      <td></td>\n",
       "      <td>[]</td>\n",
       "      <td>8.180421e+06</td>\n",
       "    </tr>\n",
       "    <tr>\n",
       "      <th>2022-10-01 03:06:03</th>\n",
       "      <td>2022-12-22 15:14:06.971</td>\n",
       "      <td></td>\n",
       "      <td>[]</td>\n",
       "      <td>8.180421e+06</td>\n",
       "    </tr>\n",
       "  </tbody>\n",
       "</table>\n",
       "<p>2660 rows × 4 columns</p>\n",
       "</div>"
      ],
      "text/plain": [
       "                                       created_date comments reviews  \\\n",
       "version time                                                           \n",
       "ONLINE  2017-01-01 00:00:00 2022-12-22 15:14:06.975               []   \n",
       "        2020-10-14 00:00:00 2022-12-22 15:14:06.975               []   \n",
       "        2020-10-14 06:00:00 2022-12-22 15:14:06.975               []   \n",
       "        2020-10-14 12:00:00 2022-12-22 15:14:06.975               []   \n",
       "        2020-10-14 18:00:00 2022-12-22 15:14:06.975               []   \n",
       "...                                             ...      ...     ...   \n",
       "        2022-09-30 03:06:03 2022-12-22 15:14:06.971               []   \n",
       "        2022-09-30 09:06:03 2022-12-22 15:14:06.971               []   \n",
       "        2022-09-30 15:06:03 2022-12-22 15:14:06.971               []   \n",
       "        2022-09-30 21:06:03 2022-12-22 15:14:06.971               []   \n",
       "        2022-10-01 03:06:03 2022-12-22 15:14:06.971               []   \n",
       "\n",
       "                                    value  \n",
       "version time                               \n",
       "ONLINE  2017-01-01 00:00:00  2.000000e+05  \n",
       "        2020-10-14 00:00:00  7.125580e+04  \n",
       "        2020-10-14 06:00:00  6.927400e+04  \n",
       "        2020-10-14 12:00:00  6.903980e+04  \n",
       "        2020-10-14 18:00:00  6.819510e+04  \n",
       "...                                   ...  \n",
       "        2022-09-30 03:06:03  8.180421e+06  \n",
       "        2022-09-30 09:06:03  8.180421e+06  \n",
       "        2022-09-30 15:06:03  8.180421e+06  \n",
       "        2022-09-30 21:06:03  8.180421e+06  \n",
       "        2022-10-01 03:06:03  8.180421e+06  \n",
       "\n",
       "[2660 rows x 4 columns]"
      ]
     },
     "execution_count": 11,
     "metadata": {},
     "output_type": "execute_result"
    }
   ],
   "source": [
    "elife"
   ]
  },
  {
   "cell_type": "markdown",
   "id": "bee7af7b-dc48-41f9-bee4-e1fbf119a376",
   "metadata": {},
   "source": [
    "#### In a dictionary format"
   ]
  },
  {
   "cell_type": "code",
   "execution_count": 12,
   "id": "92416cd2-4725-4d3f-a654-7331b567385f",
   "metadata": {},
   "outputs": [],
   "source": [
    "elife = xd_db.electron_lifetimes.find_dicts(version='ONLINE') # if you try to "
   ]
  },
  {
   "cell_type": "code",
   "execution_count": 13,
   "id": "bd210062-5c90-46d8-bf6c-de4ddbaf1507",
   "metadata": {},
   "outputs": [
    {
     "data": {
      "text/plain": [
       "[{'version': 'ONLINE',\n",
       "  'created_date': datetime.datetime(2022, 12, 22, 15, 14, 6, 975000),\n",
       "  'comments': '',\n",
       "  'reviews': [],\n",
       "  'time': datetime.datetime(2017, 1, 1, 0, 0),\n",
       "  'value': 200000.0},\n",
       " {'version': 'ONLINE',\n",
       "  'created_date': datetime.datetime(2022, 12, 22, 15, 14, 6, 975000),\n",
       "  'comments': '',\n",
       "  'reviews': [],\n",
       "  'time': datetime.datetime(2020, 10, 14, 0, 0),\n",
       "  'value': 71255.79834},\n",
       " {'version': 'ONLINE',\n",
       "  'created_date': datetime.datetime(2022, 12, 22, 15, 14, 6, 975000),\n",
       "  'comments': '',\n",
       "  'reviews': [],\n",
       "  'time': datetime.datetime(2020, 10, 14, 6, 0),\n",
       "  'value': 69274.00208}]"
      ]
     },
     "execution_count": 13,
     "metadata": {},
     "output_type": "execute_result"
    }
   ],
   "source": [
    "elife[:3]"
   ]
  },
  {
   "cell_type": "markdown",
   "id": "190a3e11-7718-4d08-8f13-dbe8e5aa6656",
   "metadata": {},
   "source": [
    "#### In the \"DOCS\" or document format"
   ]
  },
  {
   "cell_type": "code",
   "execution_count": 14,
   "id": "3cad27e9-9fe7-486c-85bb-7302b1e6ea1b",
   "metadata": {},
   "outputs": [],
   "source": [
    "elife = xd_db.electron_lifetimes.find_docs(version='ONLINE') # if you try to "
   ]
  },
  {
   "cell_type": "code",
   "execution_count": 15,
   "id": "90e26acb-6ee5-49d3-914a-ff9b0024ced6",
   "metadata": {},
   "outputs": [
    {
     "data": {
      "text/plain": [
       "[\n",
       "         Xenon ElectronLifetime Document\n",
       "         -------------------------------\n",
       "  \n",
       "         Category:      corrections\n",
       "         Alias:         electron_lifetimes\n",
       "         Index:         version=ONLINE, time=2017-01-01 00:00:00\n",
       "         Values:        created_date=2022-12-22 15:14:06.975000, comments=, reviews=[], value=200000.0\n",
       "         ,\n",
       " \n",
       "         Xenon ElectronLifetime Document\n",
       "         -------------------------------\n",
       "  \n",
       "         Category:      corrections\n",
       "         Alias:         electron_lifetimes\n",
       "         Index:         version=ONLINE, time=2020-10-14 00:00:00\n",
       "         Values:        created_date=2022-12-22 15:14:06.975000, comments=, reviews=[], value=71255.79834\n",
       "         ,\n",
       " \n",
       "         Xenon ElectronLifetime Document\n",
       "         -------------------------------\n",
       "  \n",
       "         Category:      corrections\n",
       "         Alias:         electron_lifetimes\n",
       "         Index:         version=ONLINE, time=2020-10-14 06:00:00\n",
       "         Values:        created_date=2022-12-22 15:14:06.975000, comments=, reviews=[], value=69274.00208\n",
       "         ]"
      ]
     },
     "execution_count": 15,
     "metadata": {},
     "output_type": "execute_result"
    }
   ],
   "source": [
    "elife[:3]"
   ]
  },
  {
   "cell_type": "markdown",
   "id": "b1db8fdd-dffb-4bfc-bc0a-9042651a639d",
   "metadata": {},
   "source": [
    "#### In a list format"
   ]
  },
  {
   "cell_type": "code",
   "execution_count": 16,
   "id": "dc69d461-ab9f-4471-b9b6-a4ac11e72ff7",
   "metadata": {},
   "outputs": [],
   "source": [
    "elife = xd_db.electron_lifetimes.find(version='ONLINE') # if you try to "
   ]
  },
  {
   "cell_type": "code",
   "execution_count": 17,
   "id": "1ecf2e03-5373-4953-a083-4b8c40779923",
   "metadata": {},
   "outputs": [
    {
     "data": {
      "text/plain": [
       "[{'version': 'ONLINE',\n",
       "  'created_date': datetime.datetime(2022, 12, 22, 15, 14, 6, 975000),\n",
       "  'comments': '',\n",
       "  'reviews': [],\n",
       "  'time': datetime.datetime(2017, 1, 1, 0, 0),\n",
       "  'value': 200000.0},\n",
       " {'version': 'ONLINE',\n",
       "  'created_date': datetime.datetime(2022, 12, 22, 15, 14, 6, 975000),\n",
       "  'comments': '',\n",
       "  'reviews': [],\n",
       "  'time': datetime.datetime(2020, 10, 14, 0, 0),\n",
       "  'value': 71255.79834},\n",
       " {'version': 'ONLINE',\n",
       "  'created_date': datetime.datetime(2022, 12, 22, 15, 14, 6, 975000),\n",
       "  'comments': '',\n",
       "  'reviews': [],\n",
       "  'time': datetime.datetime(2020, 10, 14, 6, 0),\n",
       "  'value': 69274.00208}]"
      ]
     },
     "execution_count": 17,
     "metadata": {},
     "output_type": "execute_result"
    }
   ],
   "source": [
    "list(elife)[:3]"
   ]
  },
  {
   "cell_type": "markdown",
   "id": "8df69fe0-bd2d-4917-9d89-fb951cdb9f2b",
   "metadata": {},
   "source": [
    "#### Or you can just get one data point if that is all you want!"
   ]
  },
  {
   "cell_type": "code",
   "execution_count": 41,
   "id": "b7bcd0df-0dd1-4fa2-99df-d81578981f6a",
   "metadata": {},
   "outputs": [],
   "source": [
    "elife = xd_db.electron_lifetimes.find_one(version='ONLINE') # if you try to "
   ]
  },
  {
   "cell_type": "code",
   "execution_count": 42,
   "id": "f0e41939-de68-47f5-900c-1890afa39abe",
   "metadata": {},
   "outputs": [
    {
     "data": {
      "text/plain": [
       "\n",
       "        Xenon ElectronLifetime Document\n",
       "        -------------------------------\n",
       " \n",
       "        Category:      corrections\n",
       "        Alias:         electron_lifetimes\n",
       "        Index:         version=ONLINE, time=2017-01-01 00:00:00\n",
       "        Values:        created_date=2022-12-22 15:14:06.975000, comments=, reviews=[], value=200000.0\n",
       "        "
      ]
     },
     "execution_count": 42,
     "metadata": {},
     "output_type": "execute_result"
    }
   ],
   "source": [
    "elife"
   ]
  },
  {
   "cell_type": "markdown",
   "id": "d6a19ee0-31c1-434a-aca0-332258f670e2",
   "metadata": {},
   "source": [
    "##### You can pass many different arguments into the search parameters to make your scope as limited or as wide as you might want it, you can also use _sort options if you want the data to be returned in a particualr order."
   ]
  },
  {
   "cell_type": "code",
   "execution_count": 18,
   "id": "cde3022e-e83e-43fb-bf23-6c4aee70737f",
   "metadata": {},
   "outputs": [],
   "source": [
    "rel_ext_eff = xd_db.rel_extraction_effs.find_docs(version='v3')"
   ]
  },
  {
   "cell_type": "code",
   "execution_count": 19,
   "id": "b63fc600-4503-462f-97ee-3743bbdaf479",
   "metadata": {},
   "outputs": [
    {
     "data": {
      "text/plain": [
       "[\n",
       "         Xenon RelExtractionEff Document\n",
       "         -------------------------------\n",
       "  \n",
       "         Category:      corrections\n",
       "         Alias:         rel_extraction_effs\n",
       "         Index:         version=v3, time=2017-01-01 00:00:00, partition=ab\n",
       "         Values:        created_date=2022-08-05 15:07:51.600000, comments=, reviews=[], value=1.0\n",
       "         ,\n",
       " \n",
       "         Xenon RelExtractionEff Document\n",
       "         -------------------------------\n",
       "  \n",
       "         Category:      corrections\n",
       "         Alias:         rel_extraction_effs\n",
       "         Index:         version=v3, time=2017-01-01 00:00:00, partition=cd\n",
       "         Values:        created_date=2022-08-05 15:07:51.600000, comments=, reviews=[], value=1.0\n",
       "         ,\n",
       " \n",
       "         Xenon RelExtractionEff Document\n",
       "         -------------------------------\n",
       "  \n",
       "         Category:      corrections\n",
       "         Alias:         rel_extraction_effs\n",
       "         Index:         version=v3, time=2021-05-03 11:13:17.786000, partition=ab\n",
       "         Values:        created_date=2022-08-05 15:07:51.600000, comments=, reviews=[], value=1.0\n",
       "         ]"
      ]
     },
     "execution_count": 19,
     "metadata": {},
     "output_type": "execute_result"
    }
   ],
   "source": [
    "rel_ext_eff[:3]"
   ]
  },
  {
   "cell_type": "code",
   "execution_count": 20,
   "id": "0ef57bf4-8d77-4a9d-9f76-47503c6f5fb6",
   "metadata": {},
   "outputs": [],
   "source": [
    "rel_ext_eff = xd_db.rel_extraction_effs.find_docs(version='v3', _sort = 'time')"
   ]
  },
  {
   "cell_type": "code",
   "execution_count": 21,
   "id": "428b12f4-966d-4d16-bf7a-6789c58ae0dc",
   "metadata": {},
   "outputs": [
    {
     "data": {
      "text/plain": [
       "[\n",
       "         Xenon RelExtractionEff Document\n",
       "         -------------------------------\n",
       "  \n",
       "         Category:      corrections\n",
       "         Alias:         rel_extraction_effs\n",
       "         Index:         version=v3, time=2022-05-06 21:45:38.508000, partition=ab\n",
       "         Values:        created_date=2022-08-05 15:07:51.348000, comments=, reviews=[], value=1.0\n",
       "         ,\n",
       " \n",
       "         Xenon RelExtractionEff Document\n",
       "         -------------------------------\n",
       "  \n",
       "         Category:      corrections\n",
       "         Alias:         rel_extraction_effs\n",
       "         Index:         version=v3, time=2022-05-06 21:45:38.508000, partition=cd\n",
       "         Values:        created_date=2022-08-05 15:07:51.348000, comments=, reviews=[], value=1.0\n",
       "         ]"
      ]
     },
     "execution_count": 21,
     "metadata": {},
     "output_type": "execute_result"
    }
   ],
   "source": [
    "rel_ext_eff[-2:] # here we sorted by time and saw the end of the correction in time"
   ]
  },
  {
   "cell_type": "code",
   "execution_count": 22,
   "id": "9c0141a7-0288-4123-a38c-802dbe34953a",
   "metadata": {},
   "outputs": [],
   "source": [
    "rel_ext_eff = xd_db.rel_extraction_effs.find_docs(version='v3', \n",
    "                                                  run_id = '027434', \n",
    "                                                  partition = 'ab')"
   ]
  },
  {
   "cell_type": "code",
   "execution_count": 23,
   "id": "2f66084e-08ef-44b7-84f6-dab61b3e8a5a",
   "metadata": {},
   "outputs": [
    {
     "data": {
      "text/plain": [
       "[\n",
       "         Xenon RelExtractionEff Document\n",
       "         -------------------------------\n",
       "  \n",
       "         Category:      corrections\n",
       "         Alias:         rel_extraction_effs\n",
       "         Index:         version=v3, time=2021-08-30 13:31:05.901000, partition=ab\n",
       "         Values:        created_date=2022-08-05 15:07:51.377000, comments=, reviews=[], value=1.0\n",
       "         ]"
      ]
     },
     "execution_count": 23,
     "metadata": {},
     "output_type": "execute_result"
    }
   ],
   "source": [
    "rel_ext_eff"
   ]
  },
  {
   "cell_type": "markdown",
   "id": "fb5e48a6-3718-4c4d-82ac-45994c595948",
   "metadata": {},
   "source": [
    "##### Data stored in xedocs have multiple indecies, and there is a requierment that all indecies are unique, therefore you can only save new data when it has indecies where the combination of all indecies is unique"
   ]
  },
  {
   "cell_type": "markdown",
   "id": "c3459e92-62e6-4444-be54-f5c62083db86",
   "metadata": {},
   "source": [
    "It is important to note that the analyst_db is the default database, therefore if a context or database is not defined that analyst database will be used. This means that if we can also access the data above without having to spesify a context however it is good practice to always do so."
   ]
  },
  {
   "cell_type": "markdown",
   "id": "fd1a0569-b2a2-47b3-a48d-0acba67612ca",
   "metadata": {},
   "source": [
    "We can also access the Bodega data through schemas using 'DetectorNumber'"
   ]
  },
  {
   "cell_type": "code",
   "execution_count": 36,
   "id": "ef3bbf1a-9e20-4b88-940f-81423cd8a8ba",
   "metadata": {},
   "outputs": [
    {
     "data": {
      "text/plain": [
       "\n",
       "        Xenon DetectorNumber Document\n",
       "        -----------------------------\n",
       " \n",
       "        Category:      general\n",
       "        Alias:         detector_numbers\n",
       "        Index:         version=v0, field=g1, partition=all_tpc\n",
       "        Values:        value=0.17, uncertainty=0.0062, definition=, reference=https://github.com/XENONnT/bbf/blob/master/bbf/config/template_config/pars/ERTemplateParameters_XENONnT.ini, date=2021-05-05 00:00:00, comments=Taken from bbf config\n",
       "        "
      ]
     },
     "execution_count": 36,
     "metadata": {},
     "output_type": "execute_result"
    }
   ],
   "source": [
    "xd_db.detector_numbers.find_one(field='g1')"
   ]
  },
  {
   "cell_type": "code",
   "execution_count": 40,
   "id": "aac46941-95cf-4bd9-9494-f1c098bc1ee1",
   "metadata": {},
   "outputs": [],
   "source": [
    "se_gain = xd_db.detector_numbers.find(field = 'se_gain')"
   ]
  },
  {
   "cell_type": "code",
   "execution_count": 43,
   "id": "2aa787a2-a4b9-45e5-80bb-625c5bb0e55e",
   "metadata": {},
   "outputs": [
    {
     "data": {
      "text/plain": [
       "[{'version': 'v0',\n",
       "  'field': 'se_gain',\n",
       "  'partition': 'all_tpc',\n",
       "  'value': 32.3604,\n",
       "  'uncertainty': 0.077,\n",
       "  'definition': '',\n",
       "  'reference': 'https://xe1t-wiki.lngs.infn.it/doku.php?id=jlong:sr0_ramp_up_kr_se_study',\n",
       "  'date': datetime.datetime(2021, 11, 3, 0, 0),\n",
       "  'comments': 'Fitted from SE population'},\n",
       " {'version': 'v1',\n",
       "  'field': 'se_gain',\n",
       "  'partition': 'ab',\n",
       "  'value': 30.090992211040312,\n",
       "  'uncertainty': 0.08738706743911372,\n",
       "  'definition': '',\n",
       "  'reference': 'https://xe1t-wiki.lngs.infn.it/doku.php?id=xenon:xenonnt:analysis:sr0_se_conclusive_page',\n",
       "  'date': datetime.datetime(2022, 5, 12, 0, 0),\n",
       "  'comments': 'Poisson&Gaussian fitted from SE population for background_linked runs under sr0_preliminary condition between 2021-07-05 and 2021-08-08'},\n",
       " {'version': 'v1',\n",
       "  'field': 'se_gain',\n",
       "  'partition': 'all_tpc',\n",
       "  'value': 31.151821493235058,\n",
       "  'uncertainty': 0.9715038932217172,\n",
       "  'definition': '',\n",
       "  'reference': 'https://xe1t-wiki.lngs.infn.it/doku.php?id=xenon:xenonnt:analysis:sr0_se_conclusive_page',\n",
       "  'date': datetime.datetime(2022, 5, 12, 0, 0),\n",
       "  'comments': 'Poisson&Gaussian fitted from SE population for background_linked runs under sr0_preliminary condition between 2021-07-05 and 2021-08-08'},\n",
       " {'version': 'v1',\n",
       "  'field': 'se_gain',\n",
       "  'partition': 'cd',\n",
       "  'value': 32.035147878703114,\n",
       "  'uncertainty': 0.0884080331520298,\n",
       "  'definition': '',\n",
       "  'reference': 'https://xe1t-wiki.lngs.infn.it/doku.php?id=xenon:xenonnt:analysis:sr0_se_conclusive_page',\n",
       "  'date': datetime.datetime(2022, 5, 12, 0, 0),\n",
       "  'comments': 'Poisson&Gaussian fitted from SE population for background_linked runs under sr0_preliminary condition between 2021-07-05 and 2021-08-08'}]"
      ]
     },
     "execution_count": 43,
     "metadata": {},
     "output_type": "execute_result"
    }
   ],
   "source": [
    "list(se_gain)"
   ]
  },
  {
   "cell_type": "markdown",
   "id": "01954192-c9cc-45bd-a740-3bb21288e71e",
   "metadata": {},
   "source": [
    "### Saving data using xedocs"
   ]
  },
  {
   "cell_type": "markdown",
   "id": "a8a0f984-bd1a-4a41-b626-d33a50347e6a",
   "metadata": {},
   "source": [
    "To save new data using xedocs we need to know what indecies that particular schema has. By defualt all schemas will require a version and a run_id or time for the indecies and a value to actually upload. However other shcemas can have additional indecies you need to spesify such as algorithm for machine learning related currections such as 'mlp', 'cnn' and 'gcn', format of the data, among others. As such we need to first know what are the indecies required and then we can upload the data!"
   ]
  },
  {
   "cell_type": "markdown",
   "id": "c85dd4e3-0077-427c-b446-fed830bf95a3",
   "metadata": {},
   "source": [
    "For this set of correction we will save the data in our own mongodb, if you want to upload the data into the analyst_db you can either ommit the datasource or use 'analyst_db' as the datasource. For the straxen_db (the database were all the confirmed corrections will go), you use 'straxen_db' as the datasource"
   ]
  },
  {
   "cell_type": "markdown",
   "id": "c506a97e-eea5-424d-9f10-350afc82ed62",
   "metadata": {},
   "source": [
    "Here we will use our own mongodb"
   ]
  },
  {
   "cell_type": "code",
   "execution_count": 84,
   "id": "73b4dce2-8435-4325-991f-00db89bab7d3",
   "metadata": {},
   "outputs": [],
   "source": [
    "db = pymongo.MongoClient()['testCorrection']"
   ]
  },
  {
   "cell_type": "code",
   "execution_count": 48,
   "id": "6a70a0e4-a072-41c4-8fe8-cc039b3bf108",
   "metadata": {},
   "outputs": [
    {
     "data": {
      "text/plain": [
       "[\n",
       "         Xenon ElectronLifetime Document\n",
       "         -------------------------------\n",
       "  \n",
       "         Category:      corrections\n",
       "         Alias:         electron_lifetimes\n",
       "         Index:         version=v1, time=2022-09-13 11:14:46.741000\n",
       "         Values:        created_date=2023-01-10 02:13:19.194000, comments=giving a 1% decrease to Electron lifetime, reviews=[], value=7362379.160154001\n",
       "         ,\n",
       " \n",
       "         Xenon ElectronLifetime Document\n",
       "         -------------------------------\n",
       "  \n",
       "         Category:      corrections\n",
       "         Alias:         electron_lifetimes\n",
       "         Index:         version=v1, time=2022-09-16 11:14:46.741000\n",
       "         Values:        created_date=2023-01-10 02:13:19.194000, comments=giving a 10% decrease to Electron lifetime, reviews=[], value=7362379.160154001\n",
       "         ,\n",
       " \n",
       "         Xenon ElectronLifetime Document\n",
       "         -------------------------------\n",
       "  \n",
       "         Category:      corrections\n",
       "         Alias:         electron_lifetimes\n",
       "         Index:         version=v1, time=2022-09-20 11:14:46.741000\n",
       "         Values:        created_date=2023-01-10 02:13:19.194000, comments=giving a 10% decrease to Electron lifetime, reviews=[], value=7362379.160154001\n",
       "         ]"
      ]
     },
     "execution_count": 48,
     "metadata": {},
     "output_type": "execute_result"
    }
   ],
   "source": [
    "xd.schemas.ElectronLifetime.find(version='v1', datasource=db['electron_lifetimes'])"
   ]
  },
  {
   "cell_type": "markdown",
   "id": "5b074448-f141-4422-9ea9-6ea36dc650f6",
   "metadata": {},
   "source": [
    "As one would expect our current database is empty so we cannot use any of the data so lets make a new value for the electron lifetime and try it out!"
   ]
  },
  {
   "cell_type": "code",
   "execution_count": 56,
   "id": "ac41242b-7a33-4a31-8ef3-786e9c3cabe6",
   "metadata": {},
   "outputs": [],
   "source": [
    "run_id = '047493'"
   ]
  },
  {
   "cell_type": "code",
   "execution_count": 99,
   "id": "4d07df89-7e87-4d86-873d-4ec2cdb10b0c",
   "metadata": {},
   "outputs": [],
   "source": [
    "# Get the ONLINE of elife for out run_id\n",
    "elife_online = xd_db.electron_lifetimes.find_docs(version = 'ONLINE', run_id = run_id)"
   ]
  },
  {
   "cell_type": "code",
   "execution_count": 102,
   "id": "0636052b-1d76-447c-bb4e-bf0b65e0054e",
   "metadata": {},
   "outputs": [],
   "source": [
    "elife_new = xd.schemas.ElectronLifetime(value=elife_online[0].value*0.90, version='v1', \n",
    "                                        run_id=run_id,\n",
    "                                        comments='giving a 10% decrease to Electron lifetime')"
   ]
  },
  {
   "cell_type": "markdown",
   "id": "7c09023b-bbad-4f68-936e-951566910f5c",
   "metadata": {},
   "source": [
    "We simply reduced the value of the run_id by 10% now lets save the data!"
   ]
  },
  {
   "cell_type": "code",
   "execution_count": 103,
   "id": "2f97e14b-786f-4b8f-8886-06c5635fe46a",
   "metadata": {},
   "outputs": [],
   "source": [
    "elife_new.save(db['electron_lifetimes'])"
   ]
  },
  {
   "cell_type": "markdown",
   "id": "64011592-b98f-4720-a28d-3327895ef534",
   "metadata": {},
   "source": [
    "Confirm we saved the file"
   ]
  },
  {
   "cell_type": "code",
   "execution_count": 117,
   "id": "99d13607-11e8-4642-a3b4-b066656e3c67",
   "metadata": {},
   "outputs": [
    {
     "data": {
      "text/plain": [
       "[\n",
       "         Xenon ElectronLifetime Document\n",
       "         -------------------------------\n",
       "  \n",
       "         Category:      corrections\n",
       "         Alias:         electron_lifetimes\n",
       "         Index:         version=v1, time=2022-09-13 11:14:46.741000\n",
       "         Values:        created_date=2023-01-10 02:13:19.194000, comments=giving a 1% decrease to Electron lifetime, reviews=[], value=7362379.160154001\n",
       "         ]"
      ]
     },
     "execution_count": 117,
     "metadata": {},
     "output_type": "execute_result"
    }
   ],
   "source": [
    "xd.schemas.ElectronLifetime.find(version='v1', \n",
    "                                 run_id=run_id,\n",
    "                                 datasource = db['electron_lifetimes'])"
   ]
  },
  {
   "cell_type": "markdown",
   "id": "ebfaa4d2-014a-415a-a51d-6f387f7b1e57",
   "metadata": {},
   "source": [
    "We note the database is no longer empty which means we successfully saved the file to the database!"
   ]
  },
  {
   "cell_type": "markdown",
   "id": "c1c38850-4de6-47b8-8e85-5034e14e9319",
   "metadata": {},
   "source": [
    "Now lets print out a histogram of the corrected areas using both values and lets see how that goes!"
   ]
  },
  {
   "cell_type": "markdown",
   "id": "df8ba2af-aacb-458a-b26a-d5f649888ddb",
   "metadata": {},
   "source": [
    "### Using URLConfigurations to reprocess data with straxen"
   ]
  },
  {
   "cell_type": "markdown",
   "id": "79a45dba-1f72-418c-9fa4-cd843bd0d23a",
   "metadata": {},
   "source": [
    "All corrections in straxen have been changed to use URLConfigurations as these are more flexible and do not require us to have to change straxen every time we what to update the corrections. There are protocols in straxen and xedocs that take in a string URL and with this they are able to find and load the requested data."
   ]
  },
  {
   "cell_type": "code",
   "execution_count": 51,
   "id": "803d3ea7-e861-4c75-a150-79a117566ebe",
   "metadata": {},
   "outputs": [],
   "source": [
    "# delete this line when runing this on Dali\n",
    "url = './test_data/'"
   ]
  },
  {
   "cell_type": "code",
   "execution_count": 142,
   "id": "445137cd-2d51-48c8-af19-6f6acccae4ec",
   "metadata": {},
   "outputs": [
    {
     "data": {
      "text/plain": [
       "'047493'"
      ]
     },
     "execution_count": 142,
     "metadata": {},
     "output_type": "execute_result"
    }
   ],
   "source": [
    "run_id"
   ]
  },
  {
   "cell_type": "code",
   "execution_count": 52,
   "id": "4461cc6f-874b-49d4-9a9d-555a45ba6846",
   "metadata": {},
   "outputs": [],
   "source": [
    "st = straxen.contexts.xenonnt_online(output_folder = url, include_rucio_remote=True,download_heavy=True)"
   ]
  },
  {
   "cell_type": "code",
   "execution_count": 53,
   "id": "886c3931-66ff-40b4-9977-ac2673ed9f60",
   "metadata": {},
   "outputs": [],
   "source": [
    "st_xd = straxen.contexts.xenonnt_online(output_folder = url, include_rucio_remote=True,download_heavy=True)"
   ]
  },
  {
   "cell_type": "markdown",
   "id": "b1df7d75-3242-4326-b128-fdbe6f4ebae2",
   "metadata": {},
   "source": [
    "When using data in the analyst_db we can simply right the URLConfig in the following way:"
   ]
  },
  {
   "cell_type": "code",
   "execution_count": 54,
   "id": "1ba7507b-c8a4-4d82-a051-e6518ac6f90d",
   "metadata": {},
   "outputs": [],
   "source": [
    "st_xd.set_config({'elife':'xedocs://'\n",
    "                  'electron_lifetimes'\n",
    "                  '?version=ONLINE&run_id=047593&attr=value'})"
   ]
  },
  {
   "cell_type": "code",
   "execution_count": 57,
   "id": "a62b680e-5e17-477d-917b-87545551792f",
   "metadata": {},
   "outputs": [
    {
     "data": {
      "text/plain": [
       "8180421.28906"
      ]
     },
     "execution_count": 57,
     "metadata": {},
     "output_type": "execute_result"
    }
   ],
   "source": [
    "st.get_single_plugin(run_id, 'corrected_areas').elife"
   ]
  },
  {
   "cell_type": "code",
   "execution_count": 58,
   "id": "cd1a4391-13a0-49a4-b684-3959ed441e32",
   "metadata": {},
   "outputs": [
    {
     "data": {
      "text/plain": [
       "8180421.28906"
      ]
     },
     "execution_count": 58,
     "metadata": {},
     "output_type": "execute_result"
    }
   ],
   "source": [
    "st_xd.get_single_plugin(run_id, 'corrected_areas').elife"
   ]
  },
  {
   "cell_type": "markdown",
   "id": "25727b81-8cc1-47af-8461-152f13755737",
   "metadata": {},
   "source": [
    "However when using your own database we have to take a few extra steps to register it such that xedocs can recognize it and use it for URLConfigurations"
   ]
  },
  {
   "cell_type": "code",
   "execution_count": null,
   "id": "ef92ddd5-3a9d-4a6e-8d8a-984834e9a4ce",
   "metadata": {},
   "outputs": [],
   "source": [
    "xd.schemas.ElectronLifetime(value = 2424325564.448384,\n",
    "                            version = 'v*',\n",
    "                            run_id= '047593').save(db['electron_lifetimes'])"
   ]
  },
  {
   "cell_type": "code",
   "execution_count": 81,
   "id": "69ec3beb-d125-404a-a8b8-30be96b90efe",
   "metadata": {},
   "outputs": [
    {
     "data": {
      "text/plain": [
       "[\n",
       "         Xenon ElectronLifetime Document\n",
       "         -------------------------------\n",
       "  \n",
       "         Category:      corrections\n",
       "         Alias:         electron_lifetimes\n",
       "         Index:         version=v*, time=2022-09-22 09:28:08.382000\n",
       "         Values:        created_date=2022-12-09 19:38:10.655000, comments=, reviews=[], value=2424325564.448384\n",
       "         ]"
      ]
     },
     "execution_count": 81,
     "metadata": {},
     "output_type": "execute_result"
    }
   ],
   "source": [
    "xd.schemas.ElectronLifetime.find(datasource = db['electron_lifetimes'],\n",
    "                                version = 'v*',\n",
    "                                run_id= '047593')"
   ]
  },
  {
   "cell_type": "code",
   "execution_count": 65,
   "id": "3345f1fd-da83-43a8-aa18-18b6d754f3d9",
   "metadata": {},
   "outputs": [
    {
     "ename": "ValueError",
     "evalue": "Datasource name 'test_db' is already registered.",
     "output_type": "error",
     "traceback": [
      "\u001b[0;31m---------------------------------------------------------------------------\u001b[0m",
      "\u001b[0;31mValueError\u001b[0m                                Traceback (most recent call last)",
      "Input \u001b[0;32mIn [65]\u001b[0m, in \u001b[0;36m<cell line: 1>\u001b[0;34m()\u001b[0m\n\u001b[0;32m----> 1\u001b[0m \u001b[43mxd\u001b[49m\u001b[38;5;241;43m.\u001b[39;49m\u001b[43mschemas\u001b[49m\u001b[38;5;241;43m.\u001b[39;49m\u001b[43mElectronLifetime\u001b[49m\u001b[38;5;241;43m.\u001b[39;49m\u001b[43mregister_datasource\u001b[49m\u001b[43m(\u001b[49m\u001b[43mdb\u001b[49m\u001b[43m[\u001b[49m\u001b[38;5;124;43m'\u001b[39;49m\u001b[38;5;124;43melectron_lifetimes\u001b[39;49m\u001b[38;5;124;43m'\u001b[39;49m\u001b[43m]\u001b[49m\u001b[43m,\u001b[49m\u001b[43m \u001b[49m\u001b[43mname\u001b[49m\u001b[38;5;241;43m=\u001b[39;49m\u001b[38;5;124;43m'\u001b[39;49m\u001b[38;5;124;43mtest_db\u001b[39;49m\u001b[38;5;124;43m'\u001b[39;49m\u001b[43m)\u001b[49m\n",
      "File \u001b[0;32m~/.local/lib/python3.8/site-packages/rframe/schema.py:50\u001b[0m, in \u001b[0;36mBaseSchema.register_datasource\u001b[0;34m(cls, datasource, name)\u001b[0m\n\u001b[1;32m     46\u001b[0m \u001b[38;5;124;03m\"\"\"Register a datasource with this schema\u001b[39;00m\n\u001b[1;32m     47\u001b[0m \u001b[38;5;124;03m\"\"\"\u001b[39;00m\n\u001b[1;32m     49\u001b[0m \u001b[38;5;28;01mif\u001b[39;00m \u001b[38;5;28mhasattr\u001b[39m(\u001b[38;5;28mcls\u001b[39m, name):\n\u001b[0;32m---> 50\u001b[0m     \u001b[38;5;28;01mraise\u001b[39;00m \u001b[38;5;167;01mValueError\u001b[39;00m(\u001b[38;5;124mf\u001b[39m\u001b[38;5;124m\"\u001b[39m\u001b[38;5;124mDatasource name \u001b[39m\u001b[38;5;124m'\u001b[39m\u001b[38;5;132;01m{\u001b[39;00mname\u001b[38;5;132;01m}\u001b[39;00m\u001b[38;5;124m'\u001b[39m\u001b[38;5;124m is already registered.\u001b[39m\u001b[38;5;124m\"\u001b[39m)\n\u001b[1;32m     52\u001b[0m \u001b[38;5;28;01mfrom\u001b[39;00m \u001b[38;5;21;01mrframe\u001b[39;00m\u001b[38;5;21;01m.\u001b[39;00m\u001b[38;5;21;01mdata_accessor\u001b[39;00m \u001b[38;5;28;01mimport\u001b[39;00m DataAccessor\n\u001b[1;32m     54\u001b[0m accessor \u001b[38;5;241m=\u001b[39m DataAccessor(\u001b[38;5;28mcls\u001b[39m, datasource)\n",
      "\u001b[0;31mValueError\u001b[0m: Datasource name 'test_db' is already registered."
     ]
    }
   ],
   "source": [
    "xd.schemas.ElectronLifetime.register_datasource(db['electron_lifetimes'], name='test_db')"
   ]
  },
  {
   "cell_type": "code",
   "execution_count": 121,
   "id": "1373dc6a-a319-404a-817f-14c55bee8339",
   "metadata": {},
   "outputs": [
    {
     "data": {
      "text/plain": [
       "datetime.datetime(2022, 9, 13, 11, 14, 46, 741000)"
      ]
     },
     "execution_count": 121,
     "metadata": {},
     "output_type": "execute_result"
    }
   ],
   "source": [
    "# You can also translate run_ids to times and vice versa whenever you need!\n",
    "xd.settings.run_id_to_time(run_id)"
   ]
  },
  {
   "cell_type": "code",
   "execution_count": 82,
   "id": "2c102b6c-f6e4-4a3a-a944-bd6d960ef30a",
   "metadata": {},
   "outputs": [],
   "source": [
    "st_xd.set_config({'elife':'xedocs://'\n",
    "                  'electron_lifetimes'\n",
    "                  '?version=v*&db=test_db&run_id=047593&attr=value'})"
   ]
  },
  {
   "cell_type": "code",
   "execution_count": 83,
   "id": "aaf042d7-d916-4173-a881-7645751dacdb",
   "metadata": {},
   "outputs": [
    {
     "data": {
      "text/plain": [
       "2424325564.448384"
      ]
     },
     "execution_count": 83,
     "metadata": {},
     "output_type": "execute_result"
    }
   ],
   "source": [
    "st_xd.get_single_plugin(run_id, 'corrected_areas').elife"
   ]
  },
  {
   "cell_type": "code",
   "execution_count": 162,
   "id": "232b1c93-231e-4794-a399-54edba221037",
   "metadata": {},
   "outputs": [],
   "source": [
    "# Compare new data to old data to show it is different and the URLConfig did work"
   ]
  },
  {
   "cell_type": "markdown",
   "id": "e94777bd-97e4-4f0c-99bc-ed6dd760a77c",
   "metadata": {},
   "source": [
    "### Defining your own schemas!"
   ]
  },
  {
   "cell_type": "markdown",
   "id": "5ae0d59b-941f-43c1-a4c3-8f9583060660",
   "metadata": {},
   "source": [
    "Lets say you find something new about the detector, some conditions that need to be corrrected for but we currently do not have a plave to store this kind of data for use, what do we do? We make out own schema!"
   ]
  },
  {
   "cell_type": "markdown",
   "id": "58dcff50-b8b0-4b58-88f6-43eec603fb12",
   "metadata": {},
   "source": [
    "You do not have to start from scratch, there are many kinds of shcemas, from the bare bones base_schemas, to once with multiple inheritance like Base_Maps, you first need to indentify what kind of correction you want to make so you know what shcema you want to inherit from, for this you need to ask the following questions:\n",
    "- Is the correction going to be one which we wnat to interpolate in time or do we want to use time intervals?\n",
    "- What kind of data will you be storing? Map data? single numbers?\n",
    "- Do you need to add any new indecies to your correction that no other has before?"
   ]
  },
  {
   "cell_type": "code",
   "execution_count": 5,
   "id": "135649c9-1f06-4870-9e59-ba3a71aa0a58",
   "metadata": {},
   "outputs": [],
   "source": [
    "# Lets make a new Schema\n",
    "class NewCorrection(xd.schemas.corrections.TimeSampledCorrection):\n",
    "    \"\"\"\n",
    "    TimeSampledCorrections allow us to interpolate data in time.\n",
    "    This function will inherit all the properties of TimeSampledCorrections.\n",
    "    Here you can define your own functions, new indecies or anything else you might need!\n",
    "    \n",
    "    One requierment that all newly defined correction classes must have is an ALIAS\n",
    "    \"\"\"\n",
    "    \n",
    "    # We give a class and alias by setting _ALIAS equal to the name\n",
    "    # By convention we make alias all lower caps, with underscors (_) to separate words\n",
    "    _ALIAS = 'new_corrections'\n",
    "    \n",
    "    # Lets say we want this correction to have a new index depth!\n",
    "    # For this we do the following\n",
    "    \n",
    "    value: int\n",
    "    \n",
    "    depth: int = rframe.Index()\n",
    "    \n",
    "    # Setting the new variable = rframe.Index() lets xedocs know that this varaible\n",
    "    # Should be treated as an index and will be requiered any new values of this correction \n",
    "    # Is made.\n",
    "    \n",
    "    # As mentions before we can even give it new functions as we see fit!\n",
    "    def neg_data(value):\n",
    "        return(-value)\n",
    "        \n",
    "    "
   ]
  },
  {
   "cell_type": "markdown",
   "id": "def93b0f-2403-47a1-baac-39322d2fbcd1",
   "metadata": {},
   "source": [
    "Specially when inheriting form an exisiting class, creating new shcemas is super simple and easy! But now that you made this schema how are you able to use it with xedocs? We have to register it!"
   ]
  },
  {
   "cell_type": "code",
   "execution_count": 6,
   "id": "ae0d49c3-49a1-451d-a124-d25e64472e20",
   "metadata": {},
   "outputs": [
    {
     "data": {
      "text/plain": [
       "[]"
      ]
     },
     "execution_count": 6,
     "metadata": {},
     "output_type": "execute_result"
    }
   ],
   "source": [
    "xd_db.new_corrections.find_docs(version = 'v1')"
   ]
  },
  {
   "cell_type": "markdown",
   "id": "a2d23065-ca72-4440-8e25-c6087023b724",
   "metadata": {},
   "source": [
    "### PMT gains"
   ]
  },
  {
   "cell_type": "markdown",
   "id": "ee0e9765-b9f7-4956-81c6-e3cf5b8e728e",
   "metadata": {},
   "source": [
    "Now we will load data on PMT gains and show how we can do this with xedocs:\n",
    "- We will first load a single pmt, both as an array and as a data frame\n",
    "- Next we will load multiple PMTs \n",
    "- We will show how to navigate xedocs dataframes by index\n",
    "- Finally we will load the PMT average gain"
   ]
  },
  {
   "cell_type": "code",
   "execution_count": 16,
   "id": "9c55247a-e57f-4943-9f73-8018b386ab7c",
   "metadata": {},
   "outputs": [],
   "source": [
    "# the data is not filtered by any spesific field by default but you can sort it any way you want\n",
    "pmt_0 = xd_db.corrections.pmt_gains.find_docs(version = 'v6', pmt = 0, detector = 'tpc', _sort='time')\n",
    "# _sort='time' can be given to any find function to sort by a certain orfer\n",
    "# _sort={'time':-1} can be given to sort data in decending order\n",
    "pmt_0_val = [pmt.value for pmt in pmt_0] #store all the values in a pmt array"
   ]
  },
  {
   "cell_type": "code",
   "execution_count": 17,
   "id": "fb6ffe19-7b53-4ce0-96e0-1aaa37e6fd7c",
   "metadata": {},
   "outputs": [
    {
     "data": {
      "text/plain": [
       "[\n",
       "         Xenon PmtGain Document\n",
       "         ----------------------\n",
       "  \n",
       "         Category:      corrections\n",
       "         Alias:         pmt_gains\n",
       "         Index:         version=v6, time=2020-04-01 12:06:54, detector=tpc, pmt=0\n",
       "         Values:        created_date=2022-05-01 18:24:58.872000, comments=migrated from cmt., reviews=[], value=0.0550598626\n",
       "         ,\n",
       " \n",
       "         Xenon PmtGain Document\n",
       "         ----------------------\n",
       "  \n",
       "         Category:      corrections\n",
       "         Alias:         pmt_gains\n",
       "         Index:         version=v6, time=2020-04-01 14:17:27, detector=tpc, pmt=0\n",
       "         Values:        created_date=2022-05-01 18:24:58.872000, comments=migrated from cmt., reviews=[], value=0.0550598626\n",
       "         ,\n",
       " \n",
       "         Xenon PmtGain Document\n",
       "         ----------------------\n",
       "  \n",
       "         Category:      corrections\n",
       "         Alias:         pmt_gains\n",
       "         Index:         version=v6, time=2020-04-01 14:17:28, detector=tpc, pmt=0\n",
       "         Values:        created_date=2022-05-01 18:24:58.872000, comments=migrated from cmt., reviews=[], value=0.0066235962\n",
       "         ,\n",
       " \n",
       "         Xenon PmtGain Document\n",
       "         ----------------------\n",
       "  \n",
       "         Category:      corrections\n",
       "         Alias:         pmt_gains\n",
       "         Index:         version=v6, time=2020-04-16 09:49:17, detector=tpc, pmt=0\n",
       "         Values:        created_date=2022-05-01 18:24:58.872000, comments=migrated from cmt., reviews=[], value=0.0066235962\n",
       "         ,\n",
       " \n",
       "         Xenon PmtGain Document\n",
       "         ----------------------\n",
       "  \n",
       "         Category:      corrections\n",
       "         Alias:         pmt_gains\n",
       "         Index:         version=v6, time=2020-04-16 09:49:18, detector=tpc, pmt=0\n",
       "         Values:        created_date=2022-05-01 18:24:58.872000, comments=migrated from cmt., reviews=[], value=0.0550598626\n",
       "         ]"
      ]
     },
     "execution_count": 17,
     "metadata": {},
     "output_type": "execute_result"
    }
   ],
   "source": [
    "pmt_0[:5]"
   ]
  },
  {
   "cell_type": "code",
   "execution_count": 58,
   "id": "da7cd07f-edc1-48c9-b826-ba53e761ba66",
   "metadata": {},
   "outputs": [
    {
     "data": {
      "text/plain": [
       "0.0550598626"
      ]
     },
     "execution_count": 58,
     "metadata": {},
     "output_type": "execute_result"
    }
   ],
   "source": [
    "pmt_0[0].value #you can extract the value of the correction"
   ]
  },
  {
   "cell_type": "code",
   "execution_count": 47,
   "id": "a0291302-47a3-477c-a3b5-2a705c0e62d2",
   "metadata": {},
   "outputs": [
    {
     "data": {
      "text/plain": [
       "\n",
       "        Xenon DetectorNumber Document\n",
       "        -----------------------------\n",
       " \n",
       "        Category:      general\n",
       "        Alias:         detector_numbers\n",
       "        Index:         version=v1, field=drift_velocity, partition=all_tpc\n",
       "        Values:        value=0.0677, uncertainty=0.0006, definition=, reference=https://xe1t-wiki.lngs.infn.it/doku.php?id=dandrea:diffusionstudy_firstdatasr0_xenonnt, date=2021-05-06 00:00:00, comments=unvert is stat only\n",
       "        "
      ]
     },
     "execution_count": 47,
     "metadata": {},
     "output_type": "execute_result"
    }
   ],
   "source": [
    "xd.schemas.DetectorNumber.find_one(field='drift_velocity', version='v1')"
   ]
  },
  {
   "cell_type": "code",
   "execution_count": 59,
   "id": "26b49856-b269-40e4-b112-9100075061a7",
   "metadata": {},
   "outputs": [
    {
     "data": {
      "text/plain": [
       "{'version': 'v6',\n",
       " 'time': datetime.datetime(2020, 4, 1, 12, 6, 54),\n",
       " 'detector': 'tpc',\n",
       " 'pmt': 0}"
      ]
     },
     "execution_count": 59,
     "metadata": {},
     "output_type": "execute_result"
    }
   ],
   "source": [
    "pmt_0[0].index_labels # prints out all indecies"
   ]
  },
  {
   "cell_type": "code",
   "execution_count": 63,
   "id": "87cc4094-2808-4f71-9372-200afee42c0d",
   "metadata": {},
   "outputs": [
    {
     "data": {
      "text/plain": [
       "'v6'"
      ]
     },
     "execution_count": 63,
     "metadata": {},
     "output_type": "execute_result"
    }
   ],
   "source": [
    "pmt_0[0].version # you can also output "
   ]
  },
  {
   "cell_type": "code",
   "execution_count": 67,
   "id": "855b6f48-1d21-4ceb-ab62-c62bb60c8e65",
   "metadata": {},
   "outputs": [
    {
     "data": {
      "text/plain": [
       "0"
      ]
     },
     "execution_count": 67,
     "metadata": {},
     "output_type": "execute_result"
    }
   ],
   "source": [
    "pmt_0[0].pmt"
   ]
  },
  {
   "cell_type": "code",
   "execution_count": 60,
   "id": "c42b4a18-53f1-4481-b385-8a7a2e30bd1b",
   "metadata": {},
   "outputs": [
    {
     "data": {
      "text/plain": [
       "'v6'"
      ]
     },
     "execution_count": 60,
     "metadata": {},
     "output_type": "execute_result"
    }
   ],
   "source": [
    "pmt_0[0].index_labels['version'] # you can also ask for spesific index values"
   ]
  },
  {
   "cell_type": "code",
   "execution_count": 61,
   "id": "de74e381-c6f9-496e-81d8-ce632436cd8d",
   "metadata": {},
   "outputs": [
    {
     "data": {
      "text/plain": [
       "{'created_date': datetime.datetime(2022, 5, 1, 18, 24, 58, 872000),\n",
       " 'comments': 'migrated from cmt.',\n",
       " 'reviews': [],\n",
       " 'value': 0.0550598626}"
      ]
     },
     "execution_count": 61,
     "metadata": {},
     "output_type": "execute_result"
    }
   ],
   "source": [
    "pmt_0[0].column_values #prints out everything on the value field"
   ]
  },
  {
   "cell_type": "code",
   "execution_count": 19,
   "id": "344cb57d-ea36-4dd1-bad2-8eb23cefa893",
   "metadata": {},
   "outputs": [],
   "source": [
    "pmt_0_df = xd_db.corrections.pmt_gains.find_df(version = 'v6', pmt = 0, detector = 'tpc', _sort='time')"
   ]
  },
  {
   "cell_type": "code",
   "execution_count": 20,
   "id": "628eb195-23c7-40f4-b44d-80ac6918c4b2",
   "metadata": {},
   "outputs": [
    {
     "data": {
      "text/html": [
       "<div>\n",
       "<style scoped>\n",
       "    .dataframe tbody tr th:only-of-type {\n",
       "        vertical-align: middle;\n",
       "    }\n",
       "\n",
       "    .dataframe tbody tr th {\n",
       "        vertical-align: top;\n",
       "    }\n",
       "\n",
       "    .dataframe thead th {\n",
       "        text-align: right;\n",
       "    }\n",
       "</style>\n",
       "<table border=\"1\" class=\"dataframe\">\n",
       "  <thead>\n",
       "    <tr style=\"text-align: right;\">\n",
       "      <th></th>\n",
       "      <th></th>\n",
       "      <th></th>\n",
       "      <th></th>\n",
       "      <th>value</th>\n",
       "      <th>created_date</th>\n",
       "      <th>comments</th>\n",
       "    </tr>\n",
       "    <tr>\n",
       "      <th>version</th>\n",
       "      <th>time</th>\n",
       "      <th>detector</th>\n",
       "      <th>pmt</th>\n",
       "      <th></th>\n",
       "      <th></th>\n",
       "      <th></th>\n",
       "    </tr>\n",
       "  </thead>\n",
       "  <tbody>\n",
       "    <tr>\n",
       "      <th rowspan=\"11\" valign=\"top\">v6</th>\n",
       "      <th>2020-04-01 12:06:54.000</th>\n",
       "      <th>tpc</th>\n",
       "      <th>0</th>\n",
       "      <td>0.055060</td>\n",
       "      <td>2022-05-01 18:24:58.872</td>\n",
       "      <td>migrated from cmt.</td>\n",
       "    </tr>\n",
       "    <tr>\n",
       "      <th>2020-04-01 14:17:27.000</th>\n",
       "      <th>tpc</th>\n",
       "      <th>0</th>\n",
       "      <td>0.055060</td>\n",
       "      <td>2022-05-01 18:24:58.872</td>\n",
       "      <td>migrated from cmt.</td>\n",
       "    </tr>\n",
       "    <tr>\n",
       "      <th>2020-04-01 14:17:28.000</th>\n",
       "      <th>tpc</th>\n",
       "      <th>0</th>\n",
       "      <td>0.006624</td>\n",
       "      <td>2022-05-01 18:24:58.872</td>\n",
       "      <td>migrated from cmt.</td>\n",
       "    </tr>\n",
       "    <tr>\n",
       "      <th>2020-04-16 09:49:17.000</th>\n",
       "      <th>tpc</th>\n",
       "      <th>0</th>\n",
       "      <td>0.006624</td>\n",
       "      <td>2022-05-01 18:24:58.872</td>\n",
       "      <td>migrated from cmt.</td>\n",
       "    </tr>\n",
       "    <tr>\n",
       "      <th>2020-04-16 09:49:18.000</th>\n",
       "      <th>tpc</th>\n",
       "      <th>0</th>\n",
       "      <td>0.055060</td>\n",
       "      <td>2022-05-01 18:24:58.872</td>\n",
       "      <td>migrated from cmt.</td>\n",
       "    </tr>\n",
       "    <tr>\n",
       "      <th>...</th>\n",
       "      <th>...</th>\n",
       "      <th>...</th>\n",
       "      <td>...</td>\n",
       "      <td>...</td>\n",
       "      <td>...</td>\n",
       "    </tr>\n",
       "    <tr>\n",
       "      <th>2021-12-09 16:11:19.000</th>\n",
       "      <th>tpc</th>\n",
       "      <th>0</th>\n",
       "      <td>0.007945</td>\n",
       "      <td>2022-05-01 18:24:58.872</td>\n",
       "      <td>migrated from cmt.</td>\n",
       "    </tr>\n",
       "    <tr>\n",
       "      <th>2021-12-10 13:17:45.785</th>\n",
       "      <th>tpc</th>\n",
       "      <th>0</th>\n",
       "      <td>0.007945</td>\n",
       "      <td>2022-05-01 18:24:58.872</td>\n",
       "      <td>migrated from cmt.</td>\n",
       "    </tr>\n",
       "    <tr>\n",
       "      <th>2021-12-17 10:13:10.000</th>\n",
       "      <th>tpc</th>\n",
       "      <th>0</th>\n",
       "      <td>0.007947</td>\n",
       "      <td>2022-05-01 18:24:58.872</td>\n",
       "      <td>migrated from cmt.</td>\n",
       "    </tr>\n",
       "    <tr>\n",
       "      <th>2021-12-17 17:53:21.302</th>\n",
       "      <th>tpc</th>\n",
       "      <th>0</th>\n",
       "      <td>0.007947</td>\n",
       "      <td>2022-05-01 18:24:58.872</td>\n",
       "      <td>migrated from cmt.</td>\n",
       "    </tr>\n",
       "    <tr>\n",
       "      <th>2021-12-24 08:19:40.000</th>\n",
       "      <th>tpc</th>\n",
       "      <th>0</th>\n",
       "      <td>0.007951</td>\n",
       "      <td>2022-05-01 18:24:58.872</td>\n",
       "      <td>migrated from cmt.</td>\n",
       "    </tr>\n",
       "  </tbody>\n",
       "</table>\n",
       "<p>302 rows × 3 columns</p>\n",
       "</div>"
      ],
      "text/plain": [
       "                                                 value  \\\n",
       "version time                    detector pmt             \n",
       "v6      2020-04-01 12:06:54.000 tpc      0    0.055060   \n",
       "        2020-04-01 14:17:27.000 tpc      0    0.055060   \n",
       "        2020-04-01 14:17:28.000 tpc      0    0.006624   \n",
       "        2020-04-16 09:49:17.000 tpc      0    0.006624   \n",
       "        2020-04-16 09:49:18.000 tpc      0    0.055060   \n",
       "...                                                ...   \n",
       "        2021-12-09 16:11:19.000 tpc      0    0.007945   \n",
       "        2021-12-10 13:17:45.785 tpc      0    0.007945   \n",
       "        2021-12-17 10:13:10.000 tpc      0    0.007947   \n",
       "        2021-12-17 17:53:21.302 tpc      0    0.007947   \n",
       "        2021-12-24 08:19:40.000 tpc      0    0.007951   \n",
       "\n",
       "                                                        created_date  \\\n",
       "version time                    detector pmt                           \n",
       "v6      2020-04-01 12:06:54.000 tpc      0   2022-05-01 18:24:58.872   \n",
       "        2020-04-01 14:17:27.000 tpc      0   2022-05-01 18:24:58.872   \n",
       "        2020-04-01 14:17:28.000 tpc      0   2022-05-01 18:24:58.872   \n",
       "        2020-04-16 09:49:17.000 tpc      0   2022-05-01 18:24:58.872   \n",
       "        2020-04-16 09:49:18.000 tpc      0   2022-05-01 18:24:58.872   \n",
       "...                                                              ...   \n",
       "        2021-12-09 16:11:19.000 tpc      0   2022-05-01 18:24:58.872   \n",
       "        2021-12-10 13:17:45.785 tpc      0   2022-05-01 18:24:58.872   \n",
       "        2021-12-17 10:13:10.000 tpc      0   2022-05-01 18:24:58.872   \n",
       "        2021-12-17 17:53:21.302 tpc      0   2022-05-01 18:24:58.872   \n",
       "        2021-12-24 08:19:40.000 tpc      0   2022-05-01 18:24:58.872   \n",
       "\n",
       "                                                        comments  \n",
       "version time                    detector pmt                      \n",
       "v6      2020-04-01 12:06:54.000 tpc      0    migrated from cmt.  \n",
       "        2020-04-01 14:17:27.000 tpc      0    migrated from cmt.  \n",
       "        2020-04-01 14:17:28.000 tpc      0    migrated from cmt.  \n",
       "        2020-04-16 09:49:17.000 tpc      0    migrated from cmt.  \n",
       "        2020-04-16 09:49:18.000 tpc      0    migrated from cmt.  \n",
       "...                                                          ...  \n",
       "        2021-12-09 16:11:19.000 tpc      0    migrated from cmt.  \n",
       "        2021-12-10 13:17:45.785 tpc      0    migrated from cmt.  \n",
       "        2021-12-17 10:13:10.000 tpc      0    migrated from cmt.  \n",
       "        2021-12-17 17:53:21.302 tpc      0    migrated from cmt.  \n",
       "        2021-12-24 08:19:40.000 tpc      0    migrated from cmt.  \n",
       "\n",
       "[302 rows x 3 columns]"
      ]
     },
     "execution_count": 20,
     "metadata": {},
     "output_type": "execute_result"
    }
   ],
   "source": [
    "pmt_0_df"
   ]
  },
  {
   "cell_type": "markdown",
   "id": "3dd45e6a-9ff2-40db-baed-c04f2f23de36",
   "metadata": {},
   "source": [
    "To get multiple pmts all you have to do is change the pmt value to an array with the desired pmts"
   ]
  },
  {
   "cell_type": "code",
   "execution_count": 21,
   "id": "98d03402-86c3-4d1e-a460-4b7efabb2981",
   "metadata": {},
   "outputs": [],
   "source": [
    "pmt_multi = xd_db.corrections.pmt_gains.find_docs(version = 'v6', pmt = [0, 5, 7], detector = 'tpc', sort = 'time')"
   ]
  },
  {
   "cell_type": "code",
   "execution_count": 22,
   "id": "dc40a7bb-1ded-47f5-b28d-ce35089d3736",
   "metadata": {},
   "outputs": [],
   "source": [
    "pmt_multi_df = xd_db.corrections.pmt_gains.find_df(version = 'v6', pmt = [0, 5, 7], detector = 'tpc', sort = 'time')"
   ]
  },
  {
   "cell_type": "code",
   "execution_count": 23,
   "id": "83c74169-8aa5-4c56-a499-7aaa1c712893",
   "metadata": {},
   "outputs": [
    {
     "data": {
      "text/html": [
       "<div>\n",
       "<style scoped>\n",
       "    .dataframe tbody tr th:only-of-type {\n",
       "        vertical-align: middle;\n",
       "    }\n",
       "\n",
       "    .dataframe tbody tr th {\n",
       "        vertical-align: top;\n",
       "    }\n",
       "\n",
       "    .dataframe thead th {\n",
       "        text-align: right;\n",
       "    }\n",
       "</style>\n",
       "<table border=\"1\" class=\"dataframe\">\n",
       "  <thead>\n",
       "    <tr style=\"text-align: right;\">\n",
       "      <th></th>\n",
       "      <th></th>\n",
       "      <th></th>\n",
       "      <th></th>\n",
       "      <th>value</th>\n",
       "      <th>created_date</th>\n",
       "      <th>comments</th>\n",
       "    </tr>\n",
       "    <tr>\n",
       "      <th>version</th>\n",
       "      <th>time</th>\n",
       "      <th>detector</th>\n",
       "      <th>pmt</th>\n",
       "      <th></th>\n",
       "      <th></th>\n",
       "      <th></th>\n",
       "    </tr>\n",
       "  </thead>\n",
       "  <tbody>\n",
       "    <tr>\n",
       "      <th rowspan=\"11\" valign=\"top\">v6</th>\n",
       "      <th rowspan=\"3\" valign=\"top\">2020-04-01 12:06:54.000</th>\n",
       "      <th rowspan=\"3\" valign=\"top\">tpc</th>\n",
       "      <th>0</th>\n",
       "      <td>0.055060</td>\n",
       "      <td>2022-05-01 18:24:58.872</td>\n",
       "      <td>migrated from cmt.</td>\n",
       "    </tr>\n",
       "    <tr>\n",
       "      <th>5</th>\n",
       "      <td>0.227363</td>\n",
       "      <td>2022-05-01 18:25:05.278</td>\n",
       "      <td>migrated from cmt.</td>\n",
       "    </tr>\n",
       "    <tr>\n",
       "      <th>7</th>\n",
       "      <td>0.058412</td>\n",
       "      <td>2022-05-01 18:25:07.779</td>\n",
       "      <td>migrated from cmt.</td>\n",
       "    </tr>\n",
       "    <tr>\n",
       "      <th rowspan=\"2\" valign=\"top\">2020-04-01 14:17:27.000</th>\n",
       "      <th rowspan=\"2\" valign=\"top\">tpc</th>\n",
       "      <th>0</th>\n",
       "      <td>0.055060</td>\n",
       "      <td>2022-05-01 18:24:58.872</td>\n",
       "      <td>migrated from cmt.</td>\n",
       "    </tr>\n",
       "    <tr>\n",
       "      <th>5</th>\n",
       "      <td>0.227363</td>\n",
       "      <td>2022-05-01 18:25:05.278</td>\n",
       "      <td>migrated from cmt.</td>\n",
       "    </tr>\n",
       "    <tr>\n",
       "      <th>...</th>\n",
       "      <th>...</th>\n",
       "      <th>...</th>\n",
       "      <td>...</td>\n",
       "      <td>...</td>\n",
       "      <td>...</td>\n",
       "    </tr>\n",
       "    <tr>\n",
       "      <th>2021-12-17 17:53:21.890</th>\n",
       "      <th>tpc</th>\n",
       "      <th>5</th>\n",
       "      <td>0.009499</td>\n",
       "      <td>2022-05-01 18:25:05.278</td>\n",
       "      <td>migrated from cmt.</td>\n",
       "    </tr>\n",
       "    <tr>\n",
       "      <th>2021-12-17 17:53:21.998</th>\n",
       "      <th>tpc</th>\n",
       "      <th>7</th>\n",
       "      <td>0.007816</td>\n",
       "      <td>2022-05-01 18:25:07.779</td>\n",
       "      <td>migrated from cmt.</td>\n",
       "    </tr>\n",
       "    <tr>\n",
       "      <th rowspan=\"3\" valign=\"top\">2021-12-24 08:19:40.000</th>\n",
       "      <th rowspan=\"3\" valign=\"top\">tpc</th>\n",
       "      <th>0</th>\n",
       "      <td>0.007951</td>\n",
       "      <td>2022-05-01 18:24:58.872</td>\n",
       "      <td>migrated from cmt.</td>\n",
       "    </tr>\n",
       "    <tr>\n",
       "      <th>5</th>\n",
       "      <td>0.009484</td>\n",
       "      <td>2022-05-01 18:25:05.278</td>\n",
       "      <td>migrated from cmt.</td>\n",
       "    </tr>\n",
       "    <tr>\n",
       "      <th>7</th>\n",
       "      <td>0.007820</td>\n",
       "      <td>2022-05-01 18:25:07.779</td>\n",
       "      <td>migrated from cmt.</td>\n",
       "    </tr>\n",
       "  </tbody>\n",
       "</table>\n",
       "<p>897 rows × 3 columns</p>\n",
       "</div>"
      ],
      "text/plain": [
       "                                                 value  \\\n",
       "version time                    detector pmt             \n",
       "v6      2020-04-01 12:06:54.000 tpc      0    0.055060   \n",
       "                                         5    0.227363   \n",
       "                                         7    0.058412   \n",
       "        2020-04-01 14:17:27.000 tpc      0    0.055060   \n",
       "                                         5    0.227363   \n",
       "...                                                ...   \n",
       "        2021-12-17 17:53:21.890 tpc      5    0.009499   \n",
       "        2021-12-17 17:53:21.998 tpc      7    0.007816   \n",
       "        2021-12-24 08:19:40.000 tpc      0    0.007951   \n",
       "                                         5    0.009484   \n",
       "                                         7    0.007820   \n",
       "\n",
       "                                                        created_date  \\\n",
       "version time                    detector pmt                           \n",
       "v6      2020-04-01 12:06:54.000 tpc      0   2022-05-01 18:24:58.872   \n",
       "                                         5   2022-05-01 18:25:05.278   \n",
       "                                         7   2022-05-01 18:25:07.779   \n",
       "        2020-04-01 14:17:27.000 tpc      0   2022-05-01 18:24:58.872   \n",
       "                                         5   2022-05-01 18:25:05.278   \n",
       "...                                                              ...   \n",
       "        2021-12-17 17:53:21.890 tpc      5   2022-05-01 18:25:05.278   \n",
       "        2021-12-17 17:53:21.998 tpc      7   2022-05-01 18:25:07.779   \n",
       "        2021-12-24 08:19:40.000 tpc      0   2022-05-01 18:24:58.872   \n",
       "                                         5   2022-05-01 18:25:05.278   \n",
       "                                         7   2022-05-01 18:25:07.779   \n",
       "\n",
       "                                                        comments  \n",
       "version time                    detector pmt                      \n",
       "v6      2020-04-01 12:06:54.000 tpc      0    migrated from cmt.  \n",
       "                                         5    migrated from cmt.  \n",
       "                                         7    migrated from cmt.  \n",
       "        2020-04-01 14:17:27.000 tpc      0    migrated from cmt.  \n",
       "                                         5    migrated from cmt.  \n",
       "...                                                          ...  \n",
       "        2021-12-17 17:53:21.890 tpc      5    migrated from cmt.  \n",
       "        2021-12-17 17:53:21.998 tpc      7    migrated from cmt.  \n",
       "        2021-12-24 08:19:40.000 tpc      0    migrated from cmt.  \n",
       "                                         5    migrated from cmt.  \n",
       "                                         7    migrated from cmt.  \n",
       "\n",
       "[897 rows x 3 columns]"
      ]
     },
     "execution_count": 23,
     "metadata": {},
     "output_type": "execute_result"
    }
   ],
   "source": [
    "pmt_multi_df"
   ]
  },
  {
   "cell_type": "markdown",
   "id": "5ffd106f-b31e-4ecb-9160-ea7f65f640cb",
   "metadata": {},
   "source": [
    "If you are like me (a.k.a. not a coding expert at all) you might be confused as to how to access the different indecies in a dataframe that has so many, where a number of them are of a different size, the following code is how I figures out how to do it although there might be better methods out there"
   ]
  },
  {
   "cell_type": "code",
   "execution_count": 102,
   "id": "35215546-6e39-4145-911a-ebf257bba589",
   "metadata": {},
   "outputs": [
    {
     "ename": "AttributeError",
     "evalue": "'DataFrame' object has no attribute 'get_column_fields'",
     "output_type": "error",
     "traceback": [
      "\u001b[0;31m---------------------------------------------------------------------------\u001b[0m",
      "\u001b[0;31mAttributeError\u001b[0m                            Traceback (most recent call last)",
      "File \u001b[0;32m/opt/conda/envs/strax/lib/python3.8/site-packages/IPython/core/formatters.py:707\u001b[0m, in \u001b[0;36mPlainTextFormatter.__call__\u001b[0;34m(self, obj)\u001b[0m\n\u001b[1;32m    700\u001b[0m stream \u001b[38;5;241m=\u001b[39m StringIO()\n\u001b[1;32m    701\u001b[0m printer \u001b[38;5;241m=\u001b[39m pretty\u001b[38;5;241m.\u001b[39mRepresentationPrinter(stream, \u001b[38;5;28mself\u001b[39m\u001b[38;5;241m.\u001b[39mverbose,\n\u001b[1;32m    702\u001b[0m     \u001b[38;5;28mself\u001b[39m\u001b[38;5;241m.\u001b[39mmax_width, \u001b[38;5;28mself\u001b[39m\u001b[38;5;241m.\u001b[39mnewline,\n\u001b[1;32m    703\u001b[0m     max_seq_length\u001b[38;5;241m=\u001b[39m\u001b[38;5;28mself\u001b[39m\u001b[38;5;241m.\u001b[39mmax_seq_length,\n\u001b[1;32m    704\u001b[0m     singleton_pprinters\u001b[38;5;241m=\u001b[39m\u001b[38;5;28mself\u001b[39m\u001b[38;5;241m.\u001b[39msingleton_printers,\n\u001b[1;32m    705\u001b[0m     type_pprinters\u001b[38;5;241m=\u001b[39m\u001b[38;5;28mself\u001b[39m\u001b[38;5;241m.\u001b[39mtype_printers,\n\u001b[1;32m    706\u001b[0m     deferred_pprinters\u001b[38;5;241m=\u001b[39m\u001b[38;5;28mself\u001b[39m\u001b[38;5;241m.\u001b[39mdeferred_printers)\n\u001b[0;32m--> 707\u001b[0m \u001b[43mprinter\u001b[49m\u001b[38;5;241;43m.\u001b[39;49m\u001b[43mpretty\u001b[49m\u001b[43m(\u001b[49m\u001b[43mobj\u001b[49m\u001b[43m)\u001b[49m\n\u001b[1;32m    708\u001b[0m printer\u001b[38;5;241m.\u001b[39mflush()\n\u001b[1;32m    709\u001b[0m \u001b[38;5;28;01mreturn\u001b[39;00m stream\u001b[38;5;241m.\u001b[39mgetvalue()\n",
      "File \u001b[0;32m/opt/conda/envs/strax/lib/python3.8/site-packages/IPython/lib/pretty.py:410\u001b[0m, in \u001b[0;36mRepresentationPrinter.pretty\u001b[0;34m(self, obj)\u001b[0m\n\u001b[1;32m    407\u001b[0m                         \u001b[38;5;28;01mreturn\u001b[39;00m meth(obj, \u001b[38;5;28mself\u001b[39m, cycle)\n\u001b[1;32m    408\u001b[0m                 \u001b[38;5;28;01mif\u001b[39;00m \u001b[38;5;28mcls\u001b[39m \u001b[38;5;129;01mis\u001b[39;00m \u001b[38;5;129;01mnot\u001b[39;00m \u001b[38;5;28mobject\u001b[39m \\\n\u001b[1;32m    409\u001b[0m                         \u001b[38;5;129;01mand\u001b[39;00m callable(\u001b[38;5;28mcls\u001b[39m\u001b[38;5;241m.\u001b[39m\u001b[38;5;18m__dict__\u001b[39m\u001b[38;5;241m.\u001b[39mget(\u001b[38;5;124m'\u001b[39m\u001b[38;5;124m__repr__\u001b[39m\u001b[38;5;124m'\u001b[39m)):\n\u001b[0;32m--> 410\u001b[0m                     \u001b[38;5;28;01mreturn\u001b[39;00m \u001b[43m_repr_pprint\u001b[49m\u001b[43m(\u001b[49m\u001b[43mobj\u001b[49m\u001b[43m,\u001b[49m\u001b[43m \u001b[49m\u001b[38;5;28;43mself\u001b[39;49m\u001b[43m,\u001b[49m\u001b[43m \u001b[49m\u001b[43mcycle\u001b[49m\u001b[43m)\u001b[49m\n\u001b[1;32m    412\u001b[0m     \u001b[38;5;28;01mreturn\u001b[39;00m _default_pprint(obj, \u001b[38;5;28mself\u001b[39m, cycle)\n\u001b[1;32m    413\u001b[0m \u001b[38;5;28;01mfinally\u001b[39;00m:\n",
      "File \u001b[0;32m/opt/conda/envs/strax/lib/python3.8/site-packages/IPython/lib/pretty.py:778\u001b[0m, in \u001b[0;36m_repr_pprint\u001b[0;34m(obj, p, cycle)\u001b[0m\n\u001b[1;32m    776\u001b[0m \u001b[38;5;124;03m\"\"\"A pprint that just redirects to the normal repr function.\"\"\"\u001b[39;00m\n\u001b[1;32m    777\u001b[0m \u001b[38;5;66;03m# Find newlines and replace them with p.break_()\u001b[39;00m\n\u001b[0;32m--> 778\u001b[0m output \u001b[38;5;241m=\u001b[39m \u001b[38;5;28;43mrepr\u001b[39;49m\u001b[43m(\u001b[49m\u001b[43mobj\u001b[49m\u001b[43m)\u001b[49m\n\u001b[1;32m    779\u001b[0m lines \u001b[38;5;241m=\u001b[39m output\u001b[38;5;241m.\u001b[39msplitlines()\n\u001b[1;32m    780\u001b[0m \u001b[38;5;28;01mwith\u001b[39;00m p\u001b[38;5;241m.\u001b[39mgroup():\n",
      "File \u001b[0;32m~/.local/lib/python3.8/site-packages/rframe/rframe.py:226\u001b[0m, in \u001b[0;36mRemoteFrame.__repr__\u001b[0;34m(self)\u001b[0m\n\u001b[1;32m    224\u001b[0m \u001b[38;5;28;01mdef\u001b[39;00m \u001b[38;5;21m__repr__\u001b[39m(\u001b[38;5;28mself\u001b[39m) \u001b[38;5;241m-\u001b[39m\u001b[38;5;241m>\u001b[39m \u001b[38;5;28mstr\u001b[39m:  \u001b[38;5;66;03m# pragma: no cover\u001b[39;00m\n\u001b[1;32m    225\u001b[0m     \u001b[38;5;28;01mreturn\u001b[39;00m (\n\u001b[0;32m--> 226\u001b[0m         \u001b[38;5;124mf\u001b[39m\u001b[38;5;124m\"\u001b[39m\u001b[38;5;132;01m{\u001b[39;00m\u001b[38;5;28mself\u001b[39m\u001b[38;5;241m.\u001b[39m\u001b[38;5;18m__class__\u001b[39m\u001b[38;5;241m.\u001b[39m\u001b[38;5;18m__name__\u001b[39m\u001b[38;5;132;01m}\u001b[39;00m\u001b[38;5;124m(\u001b[39m\u001b[38;5;124m\"\u001b[39m\n\u001b[1;32m    227\u001b[0m         \u001b[38;5;124mf\u001b[39m\u001b[38;5;124m\"\u001b[39m\u001b[38;5;124mindex=\u001b[39m\u001b[38;5;132;01m{\u001b[39;00m\u001b[38;5;28mself\u001b[39m\u001b[38;5;241m.\u001b[39mindex_names\u001b[38;5;132;01m}\u001b[39;00m\u001b[38;5;124m,\u001b[39m\u001b[38;5;124m\"\u001b[39m\n\u001b[1;32m    228\u001b[0m         \u001b[38;5;124mf\u001b[39m\u001b[38;5;124m\"\u001b[39m\u001b[38;5;124mcolumns=\u001b[39m\u001b[38;5;132;01m{\u001b[39;00m\u001b[38;5;28mself\u001b[39m\u001b[38;5;241m.\u001b[39mcolumns\u001b[38;5;132;01m}\u001b[39;00m\u001b[38;5;124m,\u001b[39m\u001b[38;5;124m\"\u001b[39m\n\u001b[1;32m    229\u001b[0m         \u001b[38;5;124mf\u001b[39m\u001b[38;5;124m\"\u001b[39m\u001b[38;5;124mdatasource=\u001b[39m\u001b[38;5;132;01m{\u001b[39;00m\u001b[38;5;28mself\u001b[39m\u001b[38;5;241m.\u001b[39m_datasource\u001b[38;5;132;01m}\u001b[39;00m\u001b[38;5;124m,\u001b[39m\u001b[38;5;124m\"\u001b[39m\n\u001b[1;32m    230\u001b[0m         \u001b[38;5;124mf\u001b[39m\u001b[38;5;124m\"\u001b[39m\u001b[38;5;124mselection=\u001b[39m\u001b[38;5;132;01m{\u001b[39;00m\u001b[38;5;28mself\u001b[39m\u001b[38;5;241m.\u001b[39m_labels\u001b[38;5;132;01m}\u001b[39;00m\u001b[38;5;124m)\u001b[39m\u001b[38;5;124m\"\u001b[39m\n\u001b[1;32m    231\u001b[0m     )\n",
      "File \u001b[0;32m~/.local/lib/python3.8/site-packages/rframe/rframe.py:217\u001b[0m, in \u001b[0;36mRemoteFrame.__getattr__\u001b[0;34m(self, name)\u001b[0m\n\u001b[1;32m    216\u001b[0m \u001b[38;5;28;01mdef\u001b[39;00m \u001b[38;5;21m__getattr__\u001b[39m(\u001b[38;5;28mself\u001b[39m, name: \u001b[38;5;28mstr\u001b[39m) \u001b[38;5;241m-\u001b[39m\u001b[38;5;241m>\u001b[39m \u001b[38;5;124m\"\u001b[39m\u001b[38;5;124mRemoteSeries\u001b[39m\u001b[38;5;124m\"\u001b[39m:\n\u001b[0;32m--> 217\u001b[0m     \u001b[38;5;28;01mif\u001b[39;00m name \u001b[38;5;241m!=\u001b[39m \u001b[38;5;124m\"\u001b[39m\u001b[38;5;124mcolumns\u001b[39m\u001b[38;5;124m\"\u001b[39m \u001b[38;5;129;01mand\u001b[39;00m name \u001b[38;5;129;01min\u001b[39;00m \u001b[38;5;28;43mself\u001b[39;49m\u001b[38;5;241;43m.\u001b[39;49m\u001b[43mcolumns\u001b[49m:\n\u001b[1;32m    218\u001b[0m         \u001b[38;5;28;01mreturn\u001b[39;00m \u001b[38;5;28mself\u001b[39m[name]\n\u001b[1;32m    219\u001b[0m     \u001b[38;5;28;01mreturn\u001b[39;00m \u001b[38;5;28msuper\u001b[39m()\u001b[38;5;241m.\u001b[39m\u001b[38;5;21m__getattribute__\u001b[39m(name)\n",
      "File \u001b[0;32m~/.local/lib/python3.8/site-packages/rframe/rframe.py:219\u001b[0m, in \u001b[0;36mRemoteFrame.__getattr__\u001b[0;34m(self, name)\u001b[0m\n\u001b[1;32m    217\u001b[0m \u001b[38;5;28;01mif\u001b[39;00m name \u001b[38;5;241m!=\u001b[39m \u001b[38;5;124m\"\u001b[39m\u001b[38;5;124mcolumns\u001b[39m\u001b[38;5;124m\"\u001b[39m \u001b[38;5;129;01mand\u001b[39;00m name \u001b[38;5;129;01min\u001b[39;00m \u001b[38;5;28mself\u001b[39m\u001b[38;5;241m.\u001b[39mcolumns:\n\u001b[1;32m    218\u001b[0m     \u001b[38;5;28;01mreturn\u001b[39;00m \u001b[38;5;28mself\u001b[39m[name]\n\u001b[0;32m--> 219\u001b[0m \u001b[38;5;28;01mreturn\u001b[39;00m \u001b[38;5;28;43msuper\u001b[39;49m\u001b[43m(\u001b[49m\u001b[43m)\u001b[49m\u001b[38;5;241;43m.\u001b[39;49m\u001b[38;5;21;43m__getattribute__\u001b[39;49m\u001b[43m(\u001b[49m\u001b[43mname\u001b[49m\u001b[43m)\u001b[49m\n",
      "File \u001b[0;32m~/.local/lib/python3.8/site-packages/rframe/rframe.py:67\u001b[0m, in \u001b[0;36mRemoteFrame.columns\u001b[0;34m(self)\u001b[0m\n\u001b[1;32m     65\u001b[0m \u001b[38;5;129m@property\u001b[39m\n\u001b[1;32m     66\u001b[0m \u001b[38;5;28;01mdef\u001b[39;00m \u001b[38;5;21mcolumns\u001b[39m(\u001b[38;5;28mself\u001b[39m) \u001b[38;5;241m-\u001b[39m\u001b[38;5;241m>\u001b[39m pd\u001b[38;5;241m.\u001b[39mIndex:\n\u001b[0;32m---> 67\u001b[0m     \u001b[38;5;28;01mreturn\u001b[39;00m pd\u001b[38;5;241m.\u001b[39mIndex(\u001b[38;5;28mlist\u001b[39m(\u001b[38;5;28;43mself\u001b[39;49m\u001b[38;5;241;43m.\u001b[39;49m\u001b[43mschema\u001b[49m\u001b[38;5;241;43m.\u001b[39;49m\u001b[43mget_column_fields\u001b[49m()))\n",
      "File \u001b[0;32m/opt/conda/envs/strax/lib/python3.8/site-packages/pandas/core/generic.py:5575\u001b[0m, in \u001b[0;36mNDFrame.__getattr__\u001b[0;34m(self, name)\u001b[0m\n\u001b[1;32m   5568\u001b[0m \u001b[38;5;28;01mif\u001b[39;00m (\n\u001b[1;32m   5569\u001b[0m     name \u001b[38;5;129;01mnot\u001b[39;00m \u001b[38;5;129;01min\u001b[39;00m \u001b[38;5;28mself\u001b[39m\u001b[38;5;241m.\u001b[39m_internal_names_set\n\u001b[1;32m   5570\u001b[0m     \u001b[38;5;129;01mand\u001b[39;00m name \u001b[38;5;129;01mnot\u001b[39;00m \u001b[38;5;129;01min\u001b[39;00m \u001b[38;5;28mself\u001b[39m\u001b[38;5;241m.\u001b[39m_metadata\n\u001b[1;32m   5571\u001b[0m     \u001b[38;5;129;01mand\u001b[39;00m name \u001b[38;5;129;01mnot\u001b[39;00m \u001b[38;5;129;01min\u001b[39;00m \u001b[38;5;28mself\u001b[39m\u001b[38;5;241m.\u001b[39m_accessors\n\u001b[1;32m   5572\u001b[0m     \u001b[38;5;129;01mand\u001b[39;00m \u001b[38;5;28mself\u001b[39m\u001b[38;5;241m.\u001b[39m_info_axis\u001b[38;5;241m.\u001b[39m_can_hold_identifiers_and_holds_name(name)\n\u001b[1;32m   5573\u001b[0m ):\n\u001b[1;32m   5574\u001b[0m     \u001b[38;5;28;01mreturn\u001b[39;00m \u001b[38;5;28mself\u001b[39m[name]\n\u001b[0;32m-> 5575\u001b[0m \u001b[38;5;28;01mreturn\u001b[39;00m \u001b[38;5;28;43mobject\u001b[39;49m\u001b[38;5;241;43m.\u001b[39;49m\u001b[38;5;21;43m__getattribute__\u001b[39;49m\u001b[43m(\u001b[49m\u001b[38;5;28;43mself\u001b[39;49m\u001b[43m,\u001b[49m\u001b[43m \u001b[49m\u001b[43mname\u001b[49m\u001b[43m)\u001b[49m\n",
      "\u001b[0;31mAttributeError\u001b[0m: 'DataFrame' object has no attribute 'get_column_fields'"
     ]
    }
   ],
   "source": [
    "rframe.RemoteFrame(pmt_multi_df, xd.staging_db())"
   ]
  },
  {
   "cell_type": "code",
   "execution_count": 99,
   "id": "7e496995-8016-4643-aaba-330ae1cad27b",
   "metadata": {},
   "outputs": [
    {
     "ename": "AttributeError",
     "evalue": "'DataFrame' object has no attribute 'rframe'",
     "output_type": "error",
     "traceback": [
      "\u001b[0;31m---------------------------------------------------------------------------\u001b[0m",
      "\u001b[0;31mAttributeError\u001b[0m                            Traceback (most recent call last)",
      "Input \u001b[0;32mIn [99]\u001b[0m, in \u001b[0;36m<cell line: 1>\u001b[0;34m()\u001b[0m\n\u001b[0;32m----> 1\u001b[0m df \u001b[38;5;241m=\u001b[39m \u001b[43mpmt_multi_df\u001b[49m\u001b[38;5;241;43m.\u001b[39;49m\u001b[43mrframe\u001b[49m()\u001b[38;5;241m.\u001b[39mloc[[\u001b[38;5;124m'\u001b[39m\u001b[38;5;124mv6\u001b[39m\u001b[38;5;124m'\u001b[39m, \u001b[38;5;124m'\u001b[39m\u001b[38;5;124mtpc\u001b[39m\u001b[38;5;124m'\u001b[39m]]\n",
      "File \u001b[0;32m/opt/conda/envs/strax/lib/python3.8/site-packages/pandas/core/generic.py:5575\u001b[0m, in \u001b[0;36mNDFrame.__getattr__\u001b[0;34m(self, name)\u001b[0m\n\u001b[1;32m   5568\u001b[0m \u001b[38;5;28;01mif\u001b[39;00m (\n\u001b[1;32m   5569\u001b[0m     name \u001b[38;5;129;01mnot\u001b[39;00m \u001b[38;5;129;01min\u001b[39;00m \u001b[38;5;28mself\u001b[39m\u001b[38;5;241m.\u001b[39m_internal_names_set\n\u001b[1;32m   5570\u001b[0m     \u001b[38;5;129;01mand\u001b[39;00m name \u001b[38;5;129;01mnot\u001b[39;00m \u001b[38;5;129;01min\u001b[39;00m \u001b[38;5;28mself\u001b[39m\u001b[38;5;241m.\u001b[39m_metadata\n\u001b[1;32m   5571\u001b[0m     \u001b[38;5;129;01mand\u001b[39;00m name \u001b[38;5;129;01mnot\u001b[39;00m \u001b[38;5;129;01min\u001b[39;00m \u001b[38;5;28mself\u001b[39m\u001b[38;5;241m.\u001b[39m_accessors\n\u001b[1;32m   5572\u001b[0m     \u001b[38;5;129;01mand\u001b[39;00m \u001b[38;5;28mself\u001b[39m\u001b[38;5;241m.\u001b[39m_info_axis\u001b[38;5;241m.\u001b[39m_can_hold_identifiers_and_holds_name(name)\n\u001b[1;32m   5573\u001b[0m ):\n\u001b[1;32m   5574\u001b[0m     \u001b[38;5;28;01mreturn\u001b[39;00m \u001b[38;5;28mself\u001b[39m[name]\n\u001b[0;32m-> 5575\u001b[0m \u001b[38;5;28;01mreturn\u001b[39;00m \u001b[38;5;28;43mobject\u001b[39;49m\u001b[38;5;241;43m.\u001b[39;49m\u001b[38;5;21;43m__getattribute__\u001b[39;49m\u001b[43m(\u001b[49m\u001b[38;5;28;43mself\u001b[39;49m\u001b[43m,\u001b[49m\u001b[43m \u001b[49m\u001b[43mname\u001b[49m\u001b[43m)\u001b[49m\n",
      "\u001b[0;31mAttributeError\u001b[0m: 'DataFrame' object has no attribute 'rframe'"
     ]
    }
   ],
   "source": [
    "df = pmt_multi_df.rframe().loc[['v6', 'tpc']]\n",
    "\n",
    "#df = pmt_multi_df.sem(experiment='XENONnT', detector='tpc', version='v2')"
   ]
  },
  {
   "cell_type": "code",
   "execution_count": 92,
   "id": "537f0cad-bab0-4287-8002-9574284dd935",
   "metadata": {},
   "outputs": [
    {
     "data": {
      "text/plain": [
       "MultiIndex([('v6',        '2020-04-01 12:06:54', 'tpc', 0),\n",
       "            ('v6',        '2020-04-01 12:06:54', 'tpc', 5),\n",
       "            ('v6',        '2020-04-01 12:06:54', 'tpc', 7),\n",
       "            ('v6',        '2020-04-01 14:17:27', 'tpc', 0),\n",
       "            ('v6',        '2020-04-01 14:17:27', 'tpc', 5),\n",
       "            ('v6',        '2020-04-01 14:17:27', 'tpc', 7),\n",
       "            ('v6',        '2020-04-01 14:17:28', 'tpc', 0),\n",
       "            ('v6',        '2020-04-01 14:17:28', 'tpc', 5),\n",
       "            ('v6',        '2020-04-01 14:17:28', 'tpc', 7),\n",
       "            ('v6',        '2020-04-16 09:49:17', 'tpc', 0),\n",
       "            ...\n",
       "            ('v6', '2021-12-10 13:17:46.531000', 'tpc', 7),\n",
       "            ('v6',        '2021-12-17 10:13:10', 'tpc', 0),\n",
       "            ('v6',        '2021-12-17 10:13:10', 'tpc', 5),\n",
       "            ('v6',        '2021-12-17 10:13:10', 'tpc', 7),\n",
       "            ('v6', '2021-12-17 17:53:21.302000', 'tpc', 0),\n",
       "            ('v6', '2021-12-17 17:53:21.890000', 'tpc', 5),\n",
       "            ('v6', '2021-12-17 17:53:21.998000', 'tpc', 7),\n",
       "            ('v6',        '2021-12-24 08:19:40', 'tpc', 0),\n",
       "            ('v6',        '2021-12-24 08:19:40', 'tpc', 5),\n",
       "            ('v6',        '2021-12-24 08:19:40', 'tpc', 7)],\n",
       "           names=['version', 'time', 'detector', 'pmt'], length=897)"
      ]
     },
     "execution_count": 92,
     "metadata": {},
     "output_type": "execute_result"
    }
   ],
   "source": [
    "pmt_multi_df.index"
   ]
  },
  {
   "cell_type": "code",
   "execution_count": 82,
   "id": "8bfd46a5-563d-4dd3-9353-52404179617e",
   "metadata": {},
   "outputs": [
    {
     "data": {
      "text/html": [
       "<div>\n",
       "<style scoped>\n",
       "    .dataframe tbody tr th:only-of-type {\n",
       "        vertical-align: middle;\n",
       "    }\n",
       "\n",
       "    .dataframe tbody tr th {\n",
       "        vertical-align: top;\n",
       "    }\n",
       "\n",
       "    .dataframe thead th {\n",
       "        text-align: right;\n",
       "    }\n",
       "</style>\n",
       "<table border=\"1\" class=\"dataframe\">\n",
       "  <thead>\n",
       "    <tr style=\"text-align: right;\">\n",
       "      <th></th>\n",
       "      <th></th>\n",
       "      <th></th>\n",
       "      <th>value</th>\n",
       "      <th>created_date</th>\n",
       "      <th>comments</th>\n",
       "    </tr>\n",
       "    <tr>\n",
       "      <th>time</th>\n",
       "      <th>detector</th>\n",
       "      <th>pmt</th>\n",
       "      <th></th>\n",
       "      <th></th>\n",
       "      <th></th>\n",
       "    </tr>\n",
       "  </thead>\n",
       "  <tbody>\n",
       "    <tr>\n",
       "      <th rowspan=\"2\" valign=\"top\">2020-04-01 12:06:54</th>\n",
       "      <th rowspan=\"2\" valign=\"top\">tpc</th>\n",
       "      <th>0</th>\n",
       "      <td>0.055060</td>\n",
       "      <td>2022-05-01 18:24:58.872</td>\n",
       "      <td>migrated from cmt.</td>\n",
       "    </tr>\n",
       "    <tr>\n",
       "      <th>5</th>\n",
       "      <td>0.227363</td>\n",
       "      <td>2022-05-01 18:25:05.278</td>\n",
       "      <td>migrated from cmt.</td>\n",
       "    </tr>\n",
       "  </tbody>\n",
       "</table>\n",
       "</div>"
      ],
      "text/plain": [
       "                                     value            created_date  \\\n",
       "time                detector pmt                                     \n",
       "2020-04-01 12:06:54 tpc      0    0.055060 2022-05-01 18:24:58.872   \n",
       "                             5    0.227363 2022-05-01 18:25:05.278   \n",
       "\n",
       "                                            comments  \n",
       "time                detector pmt                      \n",
       "2020-04-01 12:06:54 tpc      0    migrated from cmt.  \n",
       "                             5    migrated from cmt.  "
      ]
     },
     "execution_count": 82,
     "metadata": {},
     "output_type": "execute_result"
    }
   ],
   "source": [
    "df[:2]"
   ]
  },
  {
   "cell_type": "code",
   "execution_count": 27,
   "id": "d6b7d1af-ceba-4bf8-9a58-67b67bc8aca1",
   "metadata": {},
   "outputs": [
    {
     "data": {
      "text/plain": [
       "Index(['v6'], dtype='object', name='version')"
      ]
     },
     "execution_count": 27,
     "metadata": {},
     "output_type": "execute_result"
    }
   ],
   "source": [
    "pmt_multi_df.groupby(level=0).apply(lambda x: x.iloc[0]).index"
   ]
  },
  {
   "cell_type": "code",
   "execution_count": null,
   "id": "16f7e20b-fb15-41a6-967f-61e42b2bda89",
   "metadata": {},
   "outputs": [],
   "source": [
    "pmt_multi_df.groupby(level=0).apply(lambda x: x.iloc[0]).index"
   ]
  },
  {
   "cell_type": "code",
   "execution_count": 25,
   "id": "529badc1-da66-4a8b-b804-f4a2ef27b966",
   "metadata": {},
   "outputs": [
    {
     "data": {
      "text/plain": [
       "DatetimeIndex([       '2020-04-01 12:06:54',        '2020-04-01 14:17:27',\n",
       "                      '2020-04-01 14:17:28',        '2020-04-16 09:49:17',\n",
       "                      '2020-04-16 09:49:18',        '2020-04-17 13:46:50',\n",
       "                      '2020-04-17 13:46:51',        '2020-04-28 14:27:49',\n",
       "                      '2020-04-28 14:27:50',        '2020-05-08 13:15:49',\n",
       "               ...\n",
       "               '2021-12-06 19:10:22.964000',        '2021-12-09 16:11:19',\n",
       "               '2021-12-10 13:17:45.785000', '2021-12-10 13:17:46.420000',\n",
       "               '2021-12-10 13:17:46.531000',        '2021-12-17 10:13:10',\n",
       "               '2021-12-17 17:53:21.302000', '2021-12-17 17:53:21.890000',\n",
       "               '2021-12-17 17:53:21.998000',        '2021-12-24 08:19:40'],\n",
       "              dtype='datetime64[ns]', name='time', length=447, freq=None)"
      ]
     },
     "execution_count": 25,
     "metadata": {},
     "output_type": "execute_result"
    }
   ],
   "source": [
    "pmt_multi_df.groupby(level=1).apply(lambda x: x.iloc[0]).index"
   ]
  },
  {
   "cell_type": "code",
   "execution_count": 46,
   "id": "bf47c051-3d11-4313-a7cd-7032443b53ee",
   "metadata": {},
   "outputs": [
    {
     "data": {
      "text/plain": [
       "Int64Index([0, 5, 7], dtype='int64', name='pmt')"
      ]
     },
     "execution_count": 46,
     "metadata": {},
     "output_type": "execute_result"
    }
   ],
   "source": [
    "pmt_multi_df.groupby(level=3).apply(lambda x: x.iloc[0]).index"
   ]
  },
  {
   "cell_type": "code",
   "execution_count": 51,
   "id": "0e065ec1-e385-43ed-9821-929f97314cc4",
   "metadata": {},
   "outputs": [
    {
     "data": {
      "text/plain": [
       "Int64Index([0, 5, 7], dtype='int64', name='pmt')"
      ]
     },
     "execution_count": 51,
     "metadata": {},
     "output_type": "execute_result"
    }
   ],
   "source": [
    "pmt_multi_df.groupby(level=3).apply(lambda x: x.iloc[1]).index"
   ]
  },
  {
   "cell_type": "code",
   "execution_count": 42,
   "id": "fa94790a-9176-44fd-b255-ea9332ca9b1b",
   "metadata": {},
   "outputs": [],
   "source": [
    "df_check = lambda x: x.iloc[0]"
   ]
  },
  {
   "cell_type": "code",
   "execution_count": 43,
   "id": "df4f874b-ee52-4b34-b9f4-1ddc36bb77c7",
   "metadata": {},
   "outputs": [
    {
     "data": {
      "text/plain": [
       "created_date    2022-05-01 18:24:58.872000\n",
       "comments                migrated from cmt.\n",
       "value                              0.05506\n",
       "Name: (v6, 2020-04-01 12:06:54, tpc, 0), dtype: object"
      ]
     },
     "execution_count": 43,
     "metadata": {},
     "output_type": "execute_result"
    }
   ],
   "source": [
    "df_check(pmt_multi_df)"
   ]
  },
  {
   "cell_type": "markdown",
   "id": "b70c3856-daa3-4408-9544-c7b052b88ef7",
   "metadata": {},
   "source": [
    "As you can see in these function the level indicates which of the indecies you want to look at. The lambda is a python function that can take any number of arguments but can only have 1 experssion. Lambda here takes the values on the location, so if we omit the ,index part the full line will give you what is stored not just the index"
   ]
  },
  {
   "cell_type": "code",
   "execution_count": 40,
   "id": "06d944bb-917b-4681-8640-dcb049d5a073",
   "metadata": {},
   "outputs": [
    {
     "data": {
      "text/html": [
       "<div>\n",
       "<style scoped>\n",
       "    .dataframe tbody tr th:only-of-type {\n",
       "        vertical-align: middle;\n",
       "    }\n",
       "\n",
       "    .dataframe tbody tr th {\n",
       "        vertical-align: top;\n",
       "    }\n",
       "\n",
       "    .dataframe thead th {\n",
       "        text-align: right;\n",
       "    }\n",
       "</style>\n",
       "<table border=\"1\" class=\"dataframe\">\n",
       "  <thead>\n",
       "    <tr style=\"text-align: right;\">\n",
       "      <th></th>\n",
       "      <th>created_date</th>\n",
       "      <th>comments</th>\n",
       "      <th>value</th>\n",
       "    </tr>\n",
       "    <tr>\n",
       "      <th>pmt</th>\n",
       "      <th></th>\n",
       "      <th></th>\n",
       "      <th></th>\n",
       "    </tr>\n",
       "  </thead>\n",
       "  <tbody>\n",
       "    <tr>\n",
       "      <th>0</th>\n",
       "      <td>2022-05-01 18:24:58.872</td>\n",
       "      <td>migrated from cmt.</td>\n",
       "      <td>0.055060</td>\n",
       "    </tr>\n",
       "    <tr>\n",
       "      <th>5</th>\n",
       "      <td>2022-05-01 18:25:05.278</td>\n",
       "      <td>migrated from cmt.</td>\n",
       "      <td>0.227363</td>\n",
       "    </tr>\n",
       "    <tr>\n",
       "      <th>7</th>\n",
       "      <td>2022-05-01 18:25:07.779</td>\n",
       "      <td>migrated from cmt.</td>\n",
       "      <td>0.058412</td>\n",
       "    </tr>\n",
       "  </tbody>\n",
       "</table>\n",
       "</div>"
      ],
      "text/plain": [
       "               created_date            comments     value\n",
       "pmt                                                      \n",
       "0   2022-05-01 18:24:58.872  migrated from cmt.  0.055060\n",
       "5   2022-05-01 18:25:05.278  migrated from cmt.  0.227363\n",
       "7   2022-05-01 18:25:07.779  migrated from cmt.  0.058412"
      ]
     },
     "execution_count": 40,
     "metadata": {},
     "output_type": "execute_result"
    }
   ],
   "source": [
    "pmt_multi_df.groupby(level=3).apply(lambda x: x.iloc[0])"
   ]
  },
  {
   "cell_type": "code",
   "execution_count": 66,
   "id": "a1f3c169-e2f1-4709-a9b1-d38fea67c285",
   "metadata": {},
   "outputs": [
    {
     "data": {
      "text/plain": [
       "(3, 3)"
      ]
     },
     "execution_count": 66,
     "metadata": {},
     "output_type": "execute_result"
    }
   ],
   "source": [
    "pmt_multi_df.groupby(level=3).apply(lambda x: x.iloc[0]).shape"
   ]
  },
  {
   "cell_type": "code",
   "execution_count": 68,
   "id": "3d2dadb8-c7a4-4719-88ad-bf6ea3dbcec1",
   "metadata": {},
   "outputs": [
    {
     "data": {
      "text/plain": [
       "0.2273628417"
      ]
     },
     "execution_count": 68,
     "metadata": {},
     "output_type": "execute_result"
    }
   ],
   "source": [
    "pmt_multi_df.groupby(level=3).apply(lambda x: x.iloc[0])['value'].loc[5]"
   ]
  },
  {
   "cell_type": "code",
   "execution_count": 55,
   "id": "0db2728d-9239-4afe-babb-182b186888b4",
   "metadata": {},
   "outputs": [
    {
     "data": {
      "text/html": [
       "<div>\n",
       "<style scoped>\n",
       "    .dataframe tbody tr th:only-of-type {\n",
       "        vertical-align: middle;\n",
       "    }\n",
       "\n",
       "    .dataframe tbody tr th {\n",
       "        vertical-align: top;\n",
       "    }\n",
       "\n",
       "    .dataframe thead th {\n",
       "        text-align: right;\n",
       "    }\n",
       "</style>\n",
       "<table border=\"1\" class=\"dataframe\">\n",
       "  <thead>\n",
       "    <tr style=\"text-align: right;\">\n",
       "      <th></th>\n",
       "      <th>created_date</th>\n",
       "      <th>comments</th>\n",
       "      <th>value</th>\n",
       "    </tr>\n",
       "    <tr>\n",
       "      <th>pmt</th>\n",
       "      <th></th>\n",
       "      <th></th>\n",
       "      <th></th>\n",
       "    </tr>\n",
       "  </thead>\n",
       "  <tbody>\n",
       "    <tr>\n",
       "      <th>0</th>\n",
       "      <td>2022-05-01 18:24:58.872</td>\n",
       "      <td>migrated from cmt.</td>\n",
       "      <td>0.055060</td>\n",
       "    </tr>\n",
       "    <tr>\n",
       "      <th>5</th>\n",
       "      <td>2022-05-01 18:25:05.278</td>\n",
       "      <td>migrated from cmt.</td>\n",
       "      <td>0.227363</td>\n",
       "    </tr>\n",
       "    <tr>\n",
       "      <th>7</th>\n",
       "      <td>2022-05-01 18:25:07.779</td>\n",
       "      <td>migrated from cmt.</td>\n",
       "      <td>0.058412</td>\n",
       "    </tr>\n",
       "  </tbody>\n",
       "</table>\n",
       "</div>"
      ],
      "text/plain": [
       "               created_date            comments     value\n",
       "pmt                                                      \n",
       "0   2022-05-01 18:24:58.872  migrated from cmt.  0.055060\n",
       "5   2022-05-01 18:25:05.278  migrated from cmt.  0.227363\n",
       "7   2022-05-01 18:25:07.779  migrated from cmt.  0.058412"
      ]
     },
     "execution_count": 55,
     "metadata": {},
     "output_type": "execute_result"
    }
   ],
   "source": [
    "pmt_multi_df.groupby(level=3).apply(lambda x: x.iloc[1])"
   ]
  },
  {
   "cell_type": "code",
   "execution_count": 133,
   "id": "660201df-479c-425e-85b2-1aae4aca9711",
   "metadata": {},
   "outputs": [],
   "source": [
    "pmt_0 = xd.find('pmt_gains', version = 'ONLINE', pmt = [0], detector = 'tpc', time = '2023-08-03T10:06:00')"
   ]
  },
  {
   "cell_type": "code",
   "execution_count": 127,
   "id": "3c571793-03b6-44e0-9eea-381ea4b36273",
   "metadata": {},
   "outputs": [],
   "source": [
    "pmt_0 = xd.find('pmt_gains', version = 'onwfne', pmt = [0], detector = 'tpc', time = '2023-08-03T10:06:00')"
   ]
  },
  {
   "cell_type": "code",
   "execution_count": 134,
   "id": "6a6d278e-c951-485e-8749-cd2d421893ba",
   "metadata": {},
   "outputs": [
    {
     "data": {
      "text/plain": [
       "[]"
      ]
     },
     "execution_count": 134,
     "metadata": {},
     "output_type": "execute_result"
    }
   ],
   "source": [
    "pmt_0"
   ]
  },
  {
   "cell_type": "markdown",
   "id": "4ea05b72-3ffd-4845-a839-06544add833a",
   "metadata": {},
   "source": [
    "Here we will take all pmts at a spesific point in time and plot their values at a spesific point in time"
   ]
  },
  {
   "cell_type": "code",
   "execution_count": 109,
   "id": "6389cff6-2185-4f32-a527-501cf4d16a9f",
   "metadata": {},
   "outputs": [],
   "source": [
    "#time = '2020-08-03T10:06:00'\n",
    "pmt_gain_model = xd_db.corrections.pmt_gains.find_docs(version = 'v6', \n",
    "                                                       detector = 'tpc', \n",
    "                                                       time = '2020-04-16T09:49:17')"
   ]
  },
  {
   "cell_type": "code",
   "execution_count": 111,
   "id": "3d3652b8-b37e-4428-b07a-6a2ac5ff7bf5",
   "metadata": {},
   "outputs": [],
   "source": [
    "pmt_gain_model_values = [pmt_gains.value for pmt_gains in pmt_gain_model] "
   ]
  },
  {
   "cell_type": "code",
   "execution_count": 112,
   "id": "4ab8a654-2455-4df0-b084-ada4f7ab2c9d",
   "metadata": {},
   "outputs": [
    {
     "data": {
      "text/plain": [
       "[0.0066235962,\n",
       " 0.0094657746,\n",
       " 0.0127601222,\n",
       " 0.0148373136,\n",
       " 0.0070018439,\n",
       " 0.0308553433,\n",
       " 0.0061539798,\n",
       " 0.0069107174,\n",
       " 0.0080300507,\n",
       " 0.0072447103]"
      ]
     },
     "execution_count": 112,
     "metadata": {},
     "output_type": "execute_result"
    }
   ],
   "source": [
    "pmt_gain_model_values[:10]"
   ]
  },
  {
   "cell_type": "code",
   "execution_count": 113,
   "id": "37779932-22f1-4720-84bb-f3f5b644cc51",
   "metadata": {},
   "outputs": [
    {
     "data": {
      "text/plain": [
       "(-3, 513.4518366747127)"
      ]
     },
     "execution_count": 113,
     "metadata": {},
     "output_type": "execute_result"
    },
    {
     "data": {
      "image/png": "[encoded data removed]",
      "text/plain": [
       "<Figure size 864x288 with 1 Axes>"
      ]
     },
     "metadata": {
      "needs_background": "light"
     },
     "output_type": "display_data"
    }
   ],
   "source": [
    "fig = plt.figure(figsize=(12,4))\n",
    "plt.scatter(np.arange(len(pmt_gain_model_values)),pmt_gain_model_values,\n",
    "           color = 'blue', marker = '.', s = 20, alpha = 0.5, label = 'CMT')\n",
    "plt.xlabel(\"PMT number\")\n",
    "plt.ylabel('Gain model')\n",
    "plt.ylim(-0.001)\n",
    "plt.xlim(-3)"
   ]
  },
  {
   "cell_type": "markdown",
   "id": "dedb60ce-46f5-4a92-8775-41571aa4fb7a",
   "metadata": {},
   "source": [
    "Since the corrections will be loaded into a python array changing the values is simple you can just overwrite the array however you want"
   ]
  },
  {
   "cell_type": "code",
   "execution_count": 114,
   "id": "c04dcc3a-a488-49ed-847e-49ac48aebd3c",
   "metadata": {},
   "outputs": [],
   "source": [
    "pmt_gain_model_values = np.repeat(1, len(pmt_gain_model_values))"
   ]
  },
  {
   "cell_type": "code",
   "execution_count": 115,
   "id": "328a4203-ac6a-4d02-b465-4b11a64bd79d",
   "metadata": {},
   "outputs": [
    {
     "data": {
      "text/plain": [
       "array([1, 1, 1, 1, 1, 1, 1, 1, 1, 1])"
      ]
     },
     "execution_count": 115,
     "metadata": {},
     "output_type": "execute_result"
    }
   ],
   "source": [
    "pmt_gain_model_values[:10]"
   ]
  },
  {
   "cell_type": "markdown",
   "id": "ee4296df-e808-44a0-9bcc-3cd60129efef",
   "metadata": {},
   "source": [
    "### Loading map corrections"
   ]
  },
  {
   "cell_type": "markdown",
   "id": "927c1d0b-a9c1-4213-ad70-8c92008aea97",
   "metadata": {},
   "source": [
    "We will insert here a map correction to xedocs and make sure it works!"
   ]
  },
  {
   "cell_type": "code",
   "execution_count": 116,
   "id": "eff692f0-1fbf-42df-a15b-e4ff9dc9db38",
   "metadata": {},
   "outputs": [],
   "source": [
    "cmt = straxen.CorrectionsManagementServices().interface"
   ]
  },
  {
   "cell_type": "code",
   "execution_count": 117,
   "id": "4b2a166d-6d95-45af-8a21-cf1eb1d10bd5",
   "metadata": {},
   "outputs": [],
   "source": [
    "s2_maps_mlp = cmt.read('s2_xy_map_mlp')"
   ]
  },
  {
   "cell_type": "code",
   "execution_count": 118,
   "id": "7bad99d4-a786-416f-a1cf-cea272a3c67b",
   "metadata": {},
   "outputs": [
    {
     "data": {
      "text/plain": [
       "'XENONnT_s2_xy_map_v1_210126_mlp_3_in_1.json'"
      ]
     },
     "execution_count": 118,
     "metadata": {},
     "output_type": "execute_result"
    }
   ],
   "source": [
    "s2_maps_mlp['v5'][1]"
   ]
  },
  {
   "cell_type": "code",
   "execution_count": 119,
   "id": "37f70f9d-53f6-4632-bd3e-9c0b877b37a2",
   "metadata": {},
   "outputs": [
    {
     "data": {
      "text/plain": [
       "Timestamp('2021-01-26 17:47:44+0000', tz='UTC')"
      ]
     },
     "execution_count": 119,
     "metadata": {},
     "output_type": "execute_result"
    }
   ],
   "source": [
    "s2_maps_mlp['v5'].index[1]"
   ]
  },
  {
   "cell_type": "code",
   "execution_count": 120,
   "id": "a08a3778-9de6-4e9e-a223-e9eda67623eb",
   "metadata": {},
   "outputs": [
    {
     "data": {
      "text/plain": [
       "['detector_numbers',\n",
       " 'fax_configs',\n",
       " 'electron_drift_velocities',\n",
       " 'electron_drift_time_gates',\n",
       " 'electron_lifetimes',\n",
       " 'rel_extraction_effs',\n",
       " 'fdc_maps',\n",
       " 'hit_thresholds',\n",
       " 'pmt_gains',\n",
       " 'posrec_models',\n",
       " 's1_aft_xyz_maps',\n",
       " 's1_xyz_maps',\n",
       " 's2_xy_maps',\n",
       " 'se_gains',\n",
       " 'electron_diffusion_cte',\n",
       " 'baseline_samples_nv',\n",
       " 'relative_light_yield',\n",
       " 'avg_se_gains',\n",
       " 'utube_calibrations',\n",
       " 'diffused_calibrations',\n",
       " 'ibelt_calibrations',\n",
       " 'calibration_sources',\n",
       " 'hotspot_reports',\n",
       " 'anode_ramps',\n",
       " 'anode_washes',\n",
       " 'abnormal_daq_rates',\n",
       " 'processing_requests']"
      ]
     },
     "execution_count": 120,
     "metadata": {},
     "output_type": "execute_result"
    }
   ],
   "source": [
    "xd.list_schemas()"
   ]
  },
  {
   "cell_type": "code",
   "execution_count": 122,
   "id": "e4d546b4-194d-4da8-9cb3-58d042e7b249",
   "metadata": {},
   "outputs": [],
   "source": [
    "xd_s2_map = xd_db.corrections.s2_xy_maps.find_docs(time = s2_maps_mlp['v5'].index[1].tz_localize(None))"
   ]
  },
  {
   "cell_type": "code",
   "execution_count": 123,
   "id": "30f40a33-104d-49a8-94a5-6745f267633d",
   "metadata": {},
   "outputs": [
    {
     "data": {
      "text/plain": [
       "str"
      ]
     },
     "execution_count": 123,
     "metadata": {},
     "output_type": "execute_result"
    }
   ],
   "source": [
    "type(xd_s2_map[1].value)"
   ]
  },
  {
   "cell_type": "markdown",
   "id": "9b7213dd-fb19-406a-bf89-88884234d2e9",
   "metadata": {},
   "source": [
    "We see that for a given time there are 3 kind of corrections, mlp cnn and gcn. These are all different machine learning algorithms that produce different maps! To get a particular algorithm we can simply add the field: kind = \"algorithm\". We also note there are 2 time intervals here, the left is for the start time and the right for the end time, keep this in mind when loading up corrections!"
   ]
  },
  {
   "cell_type": "code",
   "execution_count": 124,
   "id": "1170011a-c507-4e6d-bc45-2d9ebf597304",
   "metadata": {},
   "outputs": [],
   "source": [
    "xd_s1_map = xd_db.corrections.s1_xyz_maps.find_docs(time = s2_maps_mlp['v5'].index[1].tz_localize(None))"
   ]
  },
  {
   "cell_type": "code",
   "execution_count": 126,
   "id": "969ff3cb-3dd3-42a3-9700-8c2236a75694",
   "metadata": {},
   "outputs": [
    {
     "data": {
      "text/plain": [
       "Timestamp('2021-01-26 17:47:44')"
      ]
     },
     "execution_count": 126,
     "metadata": {},
     "output_type": "execute_result"
    }
   ],
   "source": [
    "s2_maps_mlp['v5'].index[1].tz_localize(None)"
   ]
  },
  {
   "cell_type": "code",
   "execution_count": 128,
   "id": "9fc5a6b9-e447-419d-8c26-2cf61362962e",
   "metadata": {},
   "outputs": [
    {
     "data": {
      "text/plain": [
       "[\n",
       "         Xenon S1XYZMap Document\n",
       "         -----------------------\n",
       "  \n",
       "         Category:      corrections\n",
       "         Alias:         s1_xyz_maps\n",
       "         Index:         version=ONLINE, time=2017-01-01 00:00:00 to 2021-05-01 00:00:00, algorithm=cnn\n",
       "         Values:        created_date=2022-10-24 19:36:12.030000, comments=, reviews=[], value=XnT_S1_xyz_UNITY.json\n",
       "         ,\n",
       " \n",
       "         Xenon S1XYZMap Document\n",
       "         -----------------------\n",
       "  \n",
       "         Category:      corrections\n",
       "         Alias:         s1_xyz_maps\n",
       "         Index:         version=ONLINE, time=2017-01-01 00:00:00 to 2021-05-01 00:00:00, algorithm=gcn\n",
       "         Values:        created_date=2022-10-24 19:36:12.030000, comments=, reviews=[], value=XnT_S1_xyz_UNITY.json\n",
       "         ]"
      ]
     },
     "execution_count": 128,
     "metadata": {},
     "output_type": "execute_result"
    }
   ],
   "source": [
    "xd_s1_map[:2]"
   ]
  },
  {
   "cell_type": "code",
   "execution_count": 129,
   "id": "7a3e01d7-d6f2-4e6a-9ef6-da77092657f2",
   "metadata": {},
   "outputs": [
    {
     "data": {
      "text/plain": [
       "'XnT_S1_xyz_UNITY.json'"
      ]
     },
     "execution_count": 129,
     "metadata": {},
     "output_type": "execute_result"
    }
   ],
   "source": [
    "xd_s1_map[1].value"
   ]
  },
  {
   "cell_type": "code",
   "execution_count": 130,
   "id": "9d2006ed-8098-4b85-adb5-24501be281c9",
   "metadata": {},
   "outputs": [
    {
     "data": {
      "text/plain": [
       "'XnT_S1_xyz_UNITY.json'"
      ]
     },
     "execution_count": 130,
     "metadata": {},
     "output_type": "execute_result"
    }
   ],
   "source": [
    "xd_s1_map[0].value"
   ]
  },
  {
   "cell_type": "markdown",
   "id": "82bcb16f-d1b3-4d96-a72a-ab46248ef873",
   "metadata": {},
   "source": [
    "### Creating a new schema"
   ]
  },
  {
   "cell_type": "markdown",
   "id": "38af3ee9-9e02-4909-834e-1b9de0ac8482",
   "metadata": {},
   "source": [
    "If there is a correction you think we should add you can make your own schema (method)! all you have to do it declare the name for the schema, give it a unique alias and add any other information you want your schema. This is made even easier by just inhereting already existing schemas!"
   ]
  },
  {
   "cell_type": "code",
   "execution_count": 132,
   "id": "6562af73-a1a9-4ca5-abe8-e10a098dd238",
   "metadata": {},
   "outputs": [],
   "source": [
    "class NewCorrection(xd.schemas.base_corrections.TimeSampledCorrection):\n",
    "    # this schema will be inheriting all the method TimeSampledCorrections and we can add more of whatever else we want!\n",
    "    \n",
    "    _ALIAS = \"new_correction\"\n",
    "    value: float\n",
    "    \n",
    "    #you can also set any values you want and declare new functions here!"
   ]
  },
  {
   "cell_type": "code",
   "execution_count": 133,
   "id": "62727c3b-a783-4bd8-a2be-93565567b8fa",
   "metadata": {},
   "outputs": [],
   "source": [
    "new_simple_schema = NewCorrection(version = \"v!\", value = 1234, run_id = 34555, \n",
    "                                  comments = 'Example of a simple schema inhereting TimeSampledCorrections')"
   ]
  },
  {
   "cell_type": "code",
   "execution_count": 159,
   "id": "b1cac2aa-392d-4894-a68f-cea5d44818d5",
   "metadata": {},
   "outputs": [],
   "source": [
    "NewCorrection(version = \"v!\", value = 40, run_id = 34540, \n",
    "              comments = 'Example of a simple schema inhereting TimeSampledCorrections').save()"
   ]
  },
  {
   "cell_type": "code",
   "execution_count": 160,
   "id": "d03073a4-f99f-471c-bd48-4c45f8023af4",
   "metadata": {},
   "outputs": [],
   "source": [
    "NewCorrection(version = \"v!\", value = 70, run_id = 34570, \n",
    "              comments = 'Example of a simple schema inhereting TimeSampledCorrections').save()"
   ]
  },
  {
   "cell_type": "code",
   "execution_count": 145,
   "id": "cd3bf63a-3a54-4773-aab8-3c21440db57a",
   "metadata": {},
   "outputs": [],
   "source": [
    "new_simple_schema.save() # when we save you can spesify a database between the brackets, if you dont the default it the staging database"
   ]
  },
  {
   "cell_type": "code",
   "execution_count": 138,
   "id": "39a5c075-e5fb-4edc-b5cc-3fbbfb002bc9",
   "metadata": {},
   "outputs": [],
   "source": [
    "xd.staging_db().register_schema(NewCorrection) # tells xedocs that this new schema was made"
   ]
  },
  {
   "cell_type": "code",
   "execution_count": 143,
   "id": "5a2f1399-c830-4f1a-8485-8d031dc73aef",
   "metadata": {},
   "outputs": [],
   "source": [
    "xd_db = xd.staging_db()"
   ]
  },
  {
   "cell_type": "code",
   "execution_count": 156,
   "id": "72a0e72f-1255-4021-a20b-74e85b763783",
   "metadata": {},
   "outputs": [],
   "source": [
    "import rframe"
   ]
  },
  {
   "cell_type": "code",
   "execution_count": 164,
   "id": "4aaf7bd2-e0f4-41a5-9749-478d14be794d",
   "metadata": {},
   "outputs": [
    {
     "data": {
      "text/plain": [
       "[\n",
       "         Xenon NewCorrection Document\n",
       "         ----------------------------\n",
       "  \n",
       "         Category:      corrections\n",
       "         Alias:         new_correction\n",
       "         Index:         version=v!, time=2021-12-09 03:21:37.181500\n",
       "         Values:        created_date=2022-10-24 19:36:12.030000, comments=Example of a simple schema inhereting TimeSampledCorrections, reviews=[], value=1004.8015762287191\n",
       "         ]"
      ]
     },
     "execution_count": 164,
     "metadata": {},
     "output_type": "execute_result"
    }
   ],
   "source": [
    "xd_db.corrections.new_correction.find_docs(version = \"v!\", run_id = 34556)"
   ]
  },
  {
   "cell_type": "code",
   "execution_count": 161,
   "id": "546001ef-bd7f-479a-b2ff-e8daba26748d",
   "metadata": {},
   "outputs": [
    {
     "data": {
      "text/plain": [
       "[\n",
       "         Xenon NewCorrection Document\n",
       "         ----------------------------\n",
       "  \n",
       "         Category:      corrections\n",
       "         Alias:         new_correction\n",
       "         Index:         version=v!, time=2021-12-09 00:16:33.756000\n",
       "         Values:        created_date=2022-10-24 19:36:12.030000, comments=Example of a simple schema inhereting TimeSampledCorrections, reviews=[], value=40.0\n",
       "         ,\n",
       " \n",
       "         Xenon NewCorrection Document\n",
       "         ----------------------------\n",
       "  \n",
       "         Category:      corrections\n",
       "         Alias:         new_correction\n",
       "         Index:         version=v!, time=2021-12-09 02:51:09.354000\n",
       "         Values:        created_date=2022-10-24 19:36:12.030000, comments=Example of a simple schema inhereting TimeSampledCorrections, reviews=[], value=1234.0\n",
       "         ,\n",
       " \n",
       "         Xenon NewCorrection Document\n",
       "         ----------------------------\n",
       "  \n",
       "         Category:      corrections\n",
       "         Alias:         new_correction\n",
       "         Index:         version=v!, time=2021-12-09 05:25:52.102000\n",
       "         Values:        created_date=2022-10-24 19:36:12.030000, comments=Example of a simple schema inhereting TimeSampledCorrections, reviews=[], value=70.0\n",
       "         ]"
      ]
     },
     "execution_count": 161,
     "metadata": {},
     "output_type": "execute_result"
    }
   ],
   "source": [
    "xd_db.corrections.new_correction.find_docs(version = \"v!\")"
   ]
  },
  {
   "cell_type": "code",
   "execution_count": 142,
   "id": "73924130-5d1f-4a98-97d5-f3a324638730",
   "metadata": {},
   "outputs": [
    {
     "name": "stdout",
     "output_type": "stream",
     "text": [
      "Help on method register_schema in module xedocs.contexts:\n",
      "\n",
      "register_schema(schema, name=None, category=None) method of xedocs.contexts.XedocsContext instance\n",
      "\n"
     ]
    }
   ],
   "source": [
    "help(xd.staging_db().register_schema)"
   ]
  },
  {
   "cell_type": "code",
   "execution_count": 165,
   "id": "e7002fb1-c636-42d6-a403-4ab6004af6e5",
   "metadata": {},
   "outputs": [],
   "source": [
    "import pkg_resources"
   ]
  },
  {
   "cell_type": "code",
   "execution_count": 175,
   "id": "383165c3-57d5-4b19-bb42-ef1ff4ef1229",
   "metadata": {},
   "outputs": [],
   "source": [
    "required = {\"straxen\"}"
   ]
  },
  {
   "cell_type": "code",
   "execution_count": 169,
   "id": "4647a407-6d91-4cf3-9462-2000533e9a5d",
   "metadata": {},
   "outputs": [],
   "source": [
    "installed = {pkg.key for pkg in pkg_resources.working_set}"
   ]
  },
  {
   "cell_type": "code",
   "execution_count": 177,
   "id": "c86b6f42-2d08-4f16-a230-d1cc0e0008d5",
   "metadata": {},
   "outputs": [],
   "source": [
    "missing = required - installed"
   ]
  },
  {
   "cell_type": "code",
   "execution_count": 182,
   "id": "72e1dfe5-4382-479e-bf83-ce48773e80ea",
   "metadata": {},
   "outputs": [
    {
     "data": {
      "text/plain": [
       "True"
      ]
     },
     "execution_count": 182,
     "metadata": {},
     "output_type": "execute_result"
    }
   ],
   "source": [
    "len(missing) == 0"
   ]
  },
  {
   "cell_type": "code",
   "execution_count": 179,
   "id": "dccad8e5-14d8-4726-9612-44cd5f87be9e",
   "metadata": {},
   "outputs": [
    {
     "data": {
      "text/plain": [
       "{'absl-py',\n",
       " 'aiohttp',\n",
       " 'aiosignal',\n",
       " 'alabaster',\n",
       " 'alembic',\n",
       " 'appdirs',\n",
       " 'argcomplete',\n",
       " 'argon2-cffi',\n",
       " 'argon2-cffi-bindings',\n",
       " 'asciitree',\n",
       " 'astor',\n",
       " 'asttokens',\n",
       " 'astunparse',\n",
       " 'async-timeout',\n",
       " 'attrs',\n",
       " 'autoflake',\n",
       " 'awkward',\n",
       " 'azure-core',\n",
       " 'azure-identity',\n",
       " 'azure-storage-blob',\n",
       " 'babel',\n",
       " 'backcall',\n",
       " 'bandit',\n",
       " 'bcrypt',\n",
       " 'beaker',\n",
       " 'beautifulsoup4',\n",
       " 'black',\n",
       " 'bleach',\n",
       " 'blosc',\n",
       " 'bokeh',\n",
       " 'boto',\n",
       " 'boto3',\n",
       " 'botocore',\n",
       " 'bz2file',\n",
       " 'cachetools',\n",
       " 'certifi',\n",
       " 'cffi',\n",
       " 'chardet',\n",
       " 'charset-normalizer',\n",
       " 'click',\n",
       " 'colorama',\n",
       " 'commentjson',\n",
       " 'commonmark',\n",
       " 'coverage',\n",
       " 'cutax',\n",
       " 'cycler',\n",
       " 'darglint',\n",
       " 'debugpy',\n",
       " 'decorator',\n",
       " 'defusedxml',\n",
       " 'dill',\n",
       " 'distlib',\n",
       " 'doc8',\n",
       " 'docly',\n",
       " 'docopt',\n",
       " 'docutils',\n",
       " 'dogpile.cache',\n",
       " 'dpu-utils',\n",
       " 'entrypoints',\n",
       " 'epix',\n",
       " 'eradicate',\n",
       " 'evaluate',\n",
       " 'executing',\n",
       " 'fasteners',\n",
       " 'fastjsonschema',\n",
       " 'fcache',\n",
       " 'filelock',\n",
       " 'flake8',\n",
       " 'flake8-2020',\n",
       " 'flake8-bandit',\n",
       " 'flake8-broken-line',\n",
       " 'flake8-bugbear',\n",
       " 'flake8-builtins',\n",
       " 'flake8-commas',\n",
       " 'flake8-comprehensions',\n",
       " 'flake8-debugger',\n",
       " 'flake8-docstrings',\n",
       " 'flake8-eradicate',\n",
       " 'flake8-fixme',\n",
       " 'flake8-isort',\n",
       " 'flake8-logging-format',\n",
       " 'flake8-mutable',\n",
       " 'flake8-polyfill',\n",
       " 'flake8-quotes',\n",
       " 'flake8-rst-docstrings',\n",
       " 'flake8-string-format',\n",
       " 'flake8-variables-names',\n",
       " 'flask',\n",
       " 'fonttools',\n",
       " 'frozenlist',\n",
       " 'fsspec',\n",
       " 'gast',\n",
       " 'geoip2',\n",
       " 'gitdb',\n",
       " 'gitpython',\n",
       " 'google-auth',\n",
       " 'google-auth-oauthlib',\n",
       " 'google-pasta',\n",
       " 'graphviz',\n",
       " 'grpcio',\n",
       " 'h5py',\n",
       " 'halo',\n",
       " 'httplib2',\n",
       " 'idna',\n",
       " 'imagesize',\n",
       " 'immutabledict',\n",
       " 'importlib-metadata',\n",
       " 'importlib-resources',\n",
       " 'iniconfig',\n",
       " 'invoke',\n",
       " 'ipykernel',\n",
       " 'ipython',\n",
       " 'ipython-genutils',\n",
       " 'ipywidgets',\n",
       " 'isodate',\n",
       " 'isort',\n",
       " 'itsdangerous',\n",
       " 'jedi',\n",
       " 'jinja2',\n",
       " 'jmespath',\n",
       " 'joblib',\n",
       " 'jsonschema',\n",
       " 'jupyter-client',\n",
       " 'jupyter-core',\n",
       " 'jupyterlab-pygments',\n",
       " 'jupyterlab-widgets',\n",
       " 'jupyterthemes',\n",
       " 'keras',\n",
       " 'keras-preprocessing',\n",
       " 'kiwisolver',\n",
       " 'lark-parser',\n",
       " 'lesscpy',\n",
       " 'lightgbm',\n",
       " 'llvmlite',\n",
       " 'log-symbols',\n",
       " 'loguru',\n",
       " 'lz4',\n",
       " 'makefun',\n",
       " 'markdown',\n",
       " 'markupsafe',\n",
       " 'matplotlib',\n",
       " 'matplotlib-inline',\n",
       " 'maxminddb',\n",
       " 'mccabe',\n",
       " 'minisom',\n",
       " 'mistune',\n",
       " 'mock',\n",
       " 'msal',\n",
       " 'msal-extensions',\n",
       " 'msgpack-python',\n",
       " 'msrest',\n",
       " 'multidict',\n",
       " 'multihist',\n",
       " 'mypy-extensions',\n",
       " 'nbclient',\n",
       " 'nbconvert',\n",
       " 'nbformat',\n",
       " 'nest-asyncio',\n",
       " 'nestpy',\n",
       " 'nltk',\n",
       " 'notebook',\n",
       " 'ntauxfiles',\n",
       " 'numba',\n",
       " 'numcodecs',\n",
       " 'numexpr',\n",
       " 'numpy',\n",
       " 'oauth2client',\n",
       " 'oic',\n",
       " 'opt-einsum',\n",
       " 'packaging',\n",
       " 'pamqp',\n",
       " 'pandas',\n",
       " 'pandocfilters',\n",
       " 'paramiko',\n",
       " 'parso',\n",
       " 'pathspec',\n",
       " 'pbr',\n",
       " 'pdmongo',\n",
       " 'pep8-naming',\n",
       " 'pexpect',\n",
       " 'pickleshare',\n",
       " 'pillow',\n",
       " 'pip',\n",
       " 'plotly',\n",
       " 'pluggy',\n",
       " 'plum-dispatch',\n",
       " 'ply',\n",
       " 'portalocker',\n",
       " 'prometheus-client',\n",
       " 'prompt-toolkit',\n",
       " 'protobuf',\n",
       " 'psutil',\n",
       " 'psycopg2-binary',\n",
       " 'ptyprocess',\n",
       " 'pure-eval',\n",
       " 'py',\n",
       " 'pyasn1',\n",
       " 'pyasn1-modules',\n",
       " 'pycodestyle',\n",
       " 'pycparser',\n",
       " 'pycryptodomex',\n",
       " 'pydantic',\n",
       " 'pydocstyle',\n",
       " 'pyfiglet',\n",
       " 'pyflakes',\n",
       " 'pygit2',\n",
       " 'pygments',\n",
       " 'pyjwkest',\n",
       " 'pymongo',\n",
       " 'pyparsing',\n",
       " 'pyrsistent',\n",
       " 'pysftp',\n",
       " 'pytest',\n",
       " 'pytest-cov',\n",
       " 'python-dateutil',\n",
       " 'python-dev-tools',\n",
       " 'python-magic',\n",
       " 'python-memcached',\n",
       " 'pytz',\n",
       " 'pyupgrade',\n",
       " 'pyyaml',\n",
       " 'pyzmq',\n",
       " 'rabbitpy',\n",
       " 'redis',\n",
       " 'regex',\n",
       " 'requests',\n",
       " 'requests-oauthlib',\n",
       " 'restructuredtext-lint',\n",
       " 'retrying',\n",
       " 'rframe',\n",
       " 'rich',\n",
       " 'rsa',\n",
       " 'rucio',\n",
       " 's3transfer',\n",
       " 'sacremoses',\n",
       " 'scikit-learn',\n",
       " 'scipy',\n",
       " 'seaborn',\n",
       " 'send2trash',\n",
       " 'sentencepiece',\n",
       " 'setsimilaritysearch',\n",
       " 'setuptools',\n",
       " 'six',\n",
       " 'sklearn',\n",
       " 'smmap',\n",
       " 'snowballstemmer',\n",
       " 'soupsieve',\n",
       " 'sphinx',\n",
       " 'sphinxcontrib-applehelp',\n",
       " 'sphinxcontrib-devhelp',\n",
       " 'sphinxcontrib-htmlhelp',\n",
       " 'sphinxcontrib-jsmath',\n",
       " 'sphinxcontrib-qthelp',\n",
       " 'sphinxcontrib-serializinghtml',\n",
       " 'spinners',\n",
       " 'stack-data',\n",
       " 'statsd',\n",
       " 'stevedore',\n",
       " 'stomp.py',\n",
       " 'strax',\n",
       " 'straxen',\n",
       " 'tabulate',\n",
       " 'tenacity',\n",
       " 'tensorboard',\n",
       " 'tensorboard-plugin-wit',\n",
       " 'tensorflow',\n",
       " 'tensorflow-estimator',\n",
       " 'termcolor',\n",
       " 'terminado',\n",
       " 'testfixtures',\n",
       " 'testpath',\n",
       " 'threadpoolctl',\n",
       " 'tinycss2',\n",
       " 'tokenize-rt',\n",
       " 'tokenizers',\n",
       " 'toml',\n",
       " 'toolz',\n",
       " 'torch',\n",
       " 'tornado',\n",
       " 'tox',\n",
       " 'tox-travis',\n",
       " 'tqdm',\n",
       " 'traitlets',\n",
       " 'transformers',\n",
       " 'tree-hugger',\n",
       " 'tree-sitter',\n",
       " 'typed-ast',\n",
       " 'typing-extensions',\n",
       " 'uproot',\n",
       " 'uproot-methods',\n",
       " 'urllib3',\n",
       " 'utilix',\n",
       " 'virtualenv',\n",
       " 'wcwidth',\n",
       " 'webencodings',\n",
       " 'wemake-python-styleguide',\n",
       " 'werkzeug',\n",
       " 'wfsim',\n",
       " 'wheel',\n",
       " 'widgetsnbextension',\n",
       " 'wrapt',\n",
       " 'xedocs',\n",
       " 'xgboost',\n",
       " 'yarl',\n",
       " 'zarr',\n",
       " 'zipp',\n",
       " 'zstd'}"
      ]
     },
     "execution_count": 179,
     "metadata": {},
     "output_type": "execute_result"
    }
   ],
   "source": [
    "installed"
   ]
  },
  {
   "cell_type": "code",
   "execution_count": null,
   "id": "bc75d5fc-e366-4523-b739-be70bcd0b994",
   "metadata": {},
   "outputs": [],
   "source": []
  }
 ],
 "metadata": {
  "kernelspec": {
   "display_name": "Python [conda env:strax]",
   "language": "python",
   "name": "conda-env-strax-py"
  },
  "language_info": {
   "codemirror_mode": {
    "name": "ipython",
    "version": 3
   },
   "file_extension": ".py",
   "mimetype": "text/x-python",
   "name": "python",
   "nbconvert_exporter": "python",
   "pygments_lexer": "ipython3",
   "version": "3.8.13"
  }
 },
 "nbformat": 4,
 "nbformat_minor": 5
}
