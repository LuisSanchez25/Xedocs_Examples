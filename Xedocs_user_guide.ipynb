{
 "cells": [
  {
   "cell_type": "markdown",
   "id": "ea46fc52-4211-4936-b9b1-192778179072",
   "metadata": {},
   "source": [
    "# Xedocs user guide"
   ]
  },
  {
   "cell_type": "markdown",
   "id": "2272f23a-11f7-4aa3-8b8e-ace367610cbb",
   "metadata": {},
   "source": [
    "The purpose of this document it to show the reader how to use some of the basic function in xedocs, these will include:\n",
    "- getting corrections by run_id or date (single value corrections)\n",
    "- Next we will load the PMT gains showing how to get multivalue corrections"
   ]
  },
  {
   "cell_type": "code",
   "execution_count": 1,
   "id": "2dd90e93-7489-48d6-a993-893e01a45ac6",
   "metadata": {},
   "outputs": [],
   "source": [
    "import strax\n",
    "import straxen\n",
    "import xedocs as xd\n",
    "import numpy as np"
   ]
  },
  {
   "cell_type": "code",
   "execution_count": 3,
   "id": "59ef39bc-08a5-4169-aad3-533dcbaa5017",
   "metadata": {},
   "outputs": [],
   "source": [
    "import matplotlib.pyplot as plt"
   ]
  },
  {
   "cell_type": "markdown",
   "id": "49eb774f-e05c-422e-bedc-8c995a9cabf2",
   "metadata": {},
   "source": [
    "With xedocs we can use schemas to get different corrections from multiple sources such as bodega, fax_configuration, or directly access some corrections such as the electron lifetime or the pmt gains"
   ]
  },
  {
   "cell_type": "code",
   "execution_count": 4,
   "id": "aa7d72e9-c6aa-454c-a083-5f9a89076de1",
   "metadata": {},
   "outputs": [
    {
     "data": {
      "text/plain": [
       "['bodega',\n",
       " 'fax_configs',\n",
       " 'electron_drift_velocities',\n",
       " 'electron_drift_time_gates',\n",
       " 'electron_lifetimes',\n",
       " 'rel_extraction_effs',\n",
       " 'fdc_maps',\n",
       " 'hit_thresholds',\n",
       " 'pmt_gains',\n",
       " 'posrec_models',\n",
       " 's1_xyz_maps',\n",
       " 's2_xy_maps',\n",
       " 'utube_calibrations',\n",
       " 'diffused_calibrations',\n",
       " 'ibelt_calibrations']"
      ]
     },
     "execution_count": 4,
     "metadata": {},
     "output_type": "execute_result"
    }
   ],
   "source": [
    "#Schemas are the different data storages under xedocs, you are free to define your own schemas! \n",
    "#examples of making your own schemas will be in a later notebook\n",
    "xd.list_schemas()"
   ]
  },
  {
   "cell_type": "markdown",
   "id": "01954192-c9cc-45bd-a740-3bb21288e71e",
   "metadata": {},
   "source": [
    "### Loading single value data"
   ]
  },
  {
   "cell_type": "markdown",
   "id": "a8a0f984-bd1a-4a41-b626-d33a50347e6a",
   "metadata": {},
   "source": [
    "Lets try loding the drift velocity from bodega using a spedific time coordinate! Then we will load the same data by run_id"
   ]
  },
  {
   "cell_type": "code",
   "execution_count": 6,
   "id": "5276a3f4-0fdc-4023-961d-75a32b127486",
   "metadata": {},
   "outputs": [],
   "source": [
    "drift_velocty_by_time = xd.Bodega.find_one(field = 'drift_velocity', version = 'v1', time = '2020-08-03T10:06:00')"
   ]
  },
  {
   "cell_type": "code",
   "execution_count": 7,
   "id": "33811598-dff2-4d34-8547-6cb3c898e501",
   "metadata": {},
   "outputs": [
    {
     "data": {
      "text/plain": [
       "0.0677"
      ]
     },
     "execution_count": 7,
     "metadata": {},
     "output_type": "execute_result"
    }
   ],
   "source": [
    "drift_velocty_by_time.value"
   ]
  },
  {
   "cell_type": "code",
   "execution_count": 8,
   "id": "358f63ff-9a1b-499f-87b2-6c6ac4333b63",
   "metadata": {},
   "outputs": [],
   "source": [
    "drift_velocty_by_run = xd.Bodega.find_one(field = 'drift_velocity', version = 'v1', run_id = '8901')"
   ]
  },
  {
   "cell_type": "code",
   "execution_count": 9,
   "id": "0fb47861-89dc-403c-9961-3e2f9bb6f48b",
   "metadata": {},
   "outputs": [
    {
     "data": {
      "text/plain": [
       "0.0677"
      ]
     },
     "execution_count": 9,
     "metadata": {},
     "output_type": "execute_result"
    }
   ],
   "source": [
    "drift_velocty_by_run.value"
   ]
  },
  {
   "cell_type": "markdown",
   "id": "c4ad07e0-2501-4db8-9989-6bde30592616",
   "metadata": {},
   "source": [
    "As you can see all you have to do is change the time field for the run_id"
   ]
  },
  {
   "cell_type": "markdown",
   "id": "a2d23065-ca72-4440-8e25-c6087023b724",
   "metadata": {},
   "source": [
    "### PMT gains"
   ]
  },
  {
   "cell_type": "markdown",
   "id": "ee0e9765-b9f7-4956-81c6-e3cf5b8e728e",
   "metadata": {},
   "source": [
    "Now we will load data on PMT gains and show how we can do this with xedocs:\n",
    "- We will first load a single pmt, both as an array and as a data frame\n",
    "- Next we will load multiple PMTs \n",
    "- We will show how to navigate xedocs dataframes by index\n",
    "- Finally we will load the PMT average gain"
   ]
  },
  {
   "cell_type": "code",
   "execution_count": 10,
   "id": "9c55247a-e57f-4943-9f73-8018b386ab7c",
   "metadata": {},
   "outputs": [],
   "source": [
    "# the data is not filtered by any spesific field by default but you can sort it any way you want\n",
    "pmt_0 = xd.find('pmt_gains', version = 'v6', pmt = 0, detector = 'tpc', _sort='time')\n",
    "# _sort='time' can be given to any find function to sort by a certain orfer\n",
    "# _sort={'time':-1} can be given to sort data in decending order\n",
    "pmt_0_val = [pmt.value for pmt in pmt_0] #store all the values in a pmt array"
   ]
  },
  {
   "cell_type": "code",
   "execution_count": 11,
   "id": "fb6ffe19-7b53-4ce0-96e0-1aaa37e6fd7c",
   "metadata": {},
   "outputs": [
    {
     "data": {
      "text/plain": [
       "[PmtGain(version='v6', created_date=datetime.datetime(2022, 5, 1, 18, 24, 58, 872000), comments='migrated from cmt.', time=datetime.datetime(2020, 4, 1, 12, 6, 54), detector='tpc', pmt=0, value=0.0550598626),\n",
       " PmtGain(version='v6', created_date=datetime.datetime(2022, 5, 1, 18, 24, 58, 872000), comments='migrated from cmt.', time=datetime.datetime(2020, 4, 1, 14, 17, 27), detector='tpc', pmt=0, value=0.0550598626),\n",
       " PmtGain(version='v6', created_date=datetime.datetime(2022, 5, 1, 18, 24, 58, 872000), comments='migrated from cmt.', time=datetime.datetime(2020, 4, 1, 14, 17, 28), detector='tpc', pmt=0, value=0.0066235962),\n",
       " PmtGain(version='v6', created_date=datetime.datetime(2022, 5, 1, 18, 24, 58, 872000), comments='migrated from cmt.', time=datetime.datetime(2020, 4, 16, 9, 49, 17), detector='tpc', pmt=0, value=0.0066235962),\n",
       " PmtGain(version='v6', created_date=datetime.datetime(2022, 5, 1, 18, 24, 58, 872000), comments='migrated from cmt.', time=datetime.datetime(2020, 4, 16, 9, 49, 18), detector='tpc', pmt=0, value=0.0550598626)]"
      ]
     },
     "execution_count": 11,
     "metadata": {},
     "output_type": "execute_result"
    }
   ],
   "source": [
    "pmt_0[:5]"
   ]
  },
  {
   "cell_type": "code",
   "execution_count": 12,
   "id": "344cb57d-ea36-4dd1-bad2-8eb23cefa893",
   "metadata": {},
   "outputs": [],
   "source": [
    "pmt_0_df = xd.find_df('pmt_gains', version = 'v6', pmt = 0, detector = 'tpc', _sort='time')"
   ]
  },
  {
   "cell_type": "code",
   "execution_count": 13,
   "id": "628eb195-23c7-40f4-b44d-80ac6918c4b2",
   "metadata": {},
   "outputs": [
    {
     "data": {
      "text/html": [
       "<div>\n",
       "<style scoped>\n",
       "    .dataframe tbody tr th:only-of-type {\n",
       "        vertical-align: middle;\n",
       "    }\n",
       "\n",
       "    .dataframe tbody tr th {\n",
       "        vertical-align: top;\n",
       "    }\n",
       "\n",
       "    .dataframe thead th {\n",
       "        text-align: right;\n",
       "    }\n",
       "</style>\n",
       "<table border=\"1\" class=\"dataframe\">\n",
       "  <thead>\n",
       "    <tr style=\"text-align: right;\">\n",
       "      <th></th>\n",
       "      <th></th>\n",
       "      <th></th>\n",
       "      <th></th>\n",
       "      <th>created_date</th>\n",
       "      <th>comments</th>\n",
       "      <th>value</th>\n",
       "    </tr>\n",
       "    <tr>\n",
       "      <th>version</th>\n",
       "      <th>time</th>\n",
       "      <th>detector</th>\n",
       "      <th>pmt</th>\n",
       "      <th></th>\n",
       "      <th></th>\n",
       "      <th></th>\n",
       "    </tr>\n",
       "  </thead>\n",
       "  <tbody>\n",
       "    <tr>\n",
       "      <th rowspan=\"11\" valign=\"top\">v6</th>\n",
       "      <th>2020-04-01 12:06:54.000</th>\n",
       "      <th>tpc</th>\n",
       "      <th>0</th>\n",
       "      <td>2022-05-01 18:24:58.872</td>\n",
       "      <td>migrated from cmt.</td>\n",
       "      <td>0.055060</td>\n",
       "    </tr>\n",
       "    <tr>\n",
       "      <th>2020-04-01 14:17:27.000</th>\n",
       "      <th>tpc</th>\n",
       "      <th>0</th>\n",
       "      <td>2022-05-01 18:24:58.872</td>\n",
       "      <td>migrated from cmt.</td>\n",
       "      <td>0.055060</td>\n",
       "    </tr>\n",
       "    <tr>\n",
       "      <th>2020-04-01 14:17:28.000</th>\n",
       "      <th>tpc</th>\n",
       "      <th>0</th>\n",
       "      <td>2022-05-01 18:24:58.872</td>\n",
       "      <td>migrated from cmt.</td>\n",
       "      <td>0.006624</td>\n",
       "    </tr>\n",
       "    <tr>\n",
       "      <th>2020-04-16 09:49:17.000</th>\n",
       "      <th>tpc</th>\n",
       "      <th>0</th>\n",
       "      <td>2022-05-01 18:24:58.872</td>\n",
       "      <td>migrated from cmt.</td>\n",
       "      <td>0.006624</td>\n",
       "    </tr>\n",
       "    <tr>\n",
       "      <th>2020-04-16 09:49:18.000</th>\n",
       "      <th>tpc</th>\n",
       "      <th>0</th>\n",
       "      <td>2022-05-01 18:24:58.872</td>\n",
       "      <td>migrated from cmt.</td>\n",
       "      <td>0.055060</td>\n",
       "    </tr>\n",
       "    <tr>\n",
       "      <th>...</th>\n",
       "      <th>...</th>\n",
       "      <th>...</th>\n",
       "      <td>...</td>\n",
       "      <td>...</td>\n",
       "      <td>...</td>\n",
       "    </tr>\n",
       "    <tr>\n",
       "      <th>2021-12-09 16:11:19.000</th>\n",
       "      <th>tpc</th>\n",
       "      <th>0</th>\n",
       "      <td>2022-05-01 18:24:58.872</td>\n",
       "      <td>migrated from cmt.</td>\n",
       "      <td>0.007945</td>\n",
       "    </tr>\n",
       "    <tr>\n",
       "      <th>2021-12-10 13:17:45.785</th>\n",
       "      <th>tpc</th>\n",
       "      <th>0</th>\n",
       "      <td>2022-05-01 18:24:58.872</td>\n",
       "      <td>migrated from cmt.</td>\n",
       "      <td>0.007945</td>\n",
       "    </tr>\n",
       "    <tr>\n",
       "      <th>2021-12-17 10:13:10.000</th>\n",
       "      <th>tpc</th>\n",
       "      <th>0</th>\n",
       "      <td>2022-05-01 18:24:58.872</td>\n",
       "      <td>migrated from cmt.</td>\n",
       "      <td>0.007947</td>\n",
       "    </tr>\n",
       "    <tr>\n",
       "      <th>2021-12-17 17:53:21.302</th>\n",
       "      <th>tpc</th>\n",
       "      <th>0</th>\n",
       "      <td>2022-05-01 18:24:58.872</td>\n",
       "      <td>migrated from cmt.</td>\n",
       "      <td>0.007947</td>\n",
       "    </tr>\n",
       "    <tr>\n",
       "      <th>2021-12-24 08:19:40.000</th>\n",
       "      <th>tpc</th>\n",
       "      <th>0</th>\n",
       "      <td>2022-05-01 18:24:58.872</td>\n",
       "      <td>migrated from cmt.</td>\n",
       "      <td>0.007951</td>\n",
       "    </tr>\n",
       "  </tbody>\n",
       "</table>\n",
       "<p>302 rows × 3 columns</p>\n",
       "</div>"
      ],
      "text/plain": [
       "                                                        created_date  \\\n",
       "version time                    detector pmt                           \n",
       "v6      2020-04-01 12:06:54.000 tpc      0   2022-05-01 18:24:58.872   \n",
       "        2020-04-01 14:17:27.000 tpc      0   2022-05-01 18:24:58.872   \n",
       "        2020-04-01 14:17:28.000 tpc      0   2022-05-01 18:24:58.872   \n",
       "        2020-04-16 09:49:17.000 tpc      0   2022-05-01 18:24:58.872   \n",
       "        2020-04-16 09:49:18.000 tpc      0   2022-05-01 18:24:58.872   \n",
       "...                                                              ...   \n",
       "        2021-12-09 16:11:19.000 tpc      0   2022-05-01 18:24:58.872   \n",
       "        2021-12-10 13:17:45.785 tpc      0   2022-05-01 18:24:58.872   \n",
       "        2021-12-17 10:13:10.000 tpc      0   2022-05-01 18:24:58.872   \n",
       "        2021-12-17 17:53:21.302 tpc      0   2022-05-01 18:24:58.872   \n",
       "        2021-12-24 08:19:40.000 tpc      0   2022-05-01 18:24:58.872   \n",
       "\n",
       "                                                        comments     value  \n",
       "version time                    detector pmt                                \n",
       "v6      2020-04-01 12:06:54.000 tpc      0    migrated from cmt.  0.055060  \n",
       "        2020-04-01 14:17:27.000 tpc      0    migrated from cmt.  0.055060  \n",
       "        2020-04-01 14:17:28.000 tpc      0    migrated from cmt.  0.006624  \n",
       "        2020-04-16 09:49:17.000 tpc      0    migrated from cmt.  0.006624  \n",
       "        2020-04-16 09:49:18.000 tpc      0    migrated from cmt.  0.055060  \n",
       "...                                                          ...       ...  \n",
       "        2021-12-09 16:11:19.000 tpc      0    migrated from cmt.  0.007945  \n",
       "        2021-12-10 13:17:45.785 tpc      0    migrated from cmt.  0.007945  \n",
       "        2021-12-17 10:13:10.000 tpc      0    migrated from cmt.  0.007947  \n",
       "        2021-12-17 17:53:21.302 tpc      0    migrated from cmt.  0.007947  \n",
       "        2021-12-24 08:19:40.000 tpc      0    migrated from cmt.  0.007951  \n",
       "\n",
       "[302 rows x 3 columns]"
      ]
     },
     "execution_count": 13,
     "metadata": {},
     "output_type": "execute_result"
    }
   ],
   "source": [
    "pmt_0_df"
   ]
  },
  {
   "cell_type": "markdown",
   "id": "3dd45e6a-9ff2-40db-baed-c04f2f23de36",
   "metadata": {},
   "source": [
    "To get multiple pmts all you have to do is change the pmt value to an array with the desired pmts"
   ]
  },
  {
   "cell_type": "code",
   "execution_count": 22,
   "id": "98d03402-86c3-4d1e-a460-4b7efabb2981",
   "metadata": {},
   "outputs": [],
   "source": [
    "pmt_multi = xd.find('pmt_gains', version = 'v6', pmt = [0, 5, 7], detector = 'tpc', sort = 'time')"
   ]
  },
  {
   "cell_type": "code",
   "execution_count": 23,
   "id": "dc40a7bb-1ded-47f5-b28d-ce35089d3736",
   "metadata": {},
   "outputs": [],
   "source": [
    "pmt_multi_df = xd.find_df('pmt_gains', version = 'v6', pmt = [0, 5, 7], detector = 'tpc', sort = 'time')"
   ]
  },
  {
   "cell_type": "code",
   "execution_count": 24,
   "id": "83c74169-8aa5-4c56-a499-7aaa1c712893",
   "metadata": {},
   "outputs": [
    {
     "data": {
      "text/html": [
       "<div>\n",
       "<style scoped>\n",
       "    .dataframe tbody tr th:only-of-type {\n",
       "        vertical-align: middle;\n",
       "    }\n",
       "\n",
       "    .dataframe tbody tr th {\n",
       "        vertical-align: top;\n",
       "    }\n",
       "\n",
       "    .dataframe thead th {\n",
       "        text-align: right;\n",
       "    }\n",
       "</style>\n",
       "<table border=\"1\" class=\"dataframe\">\n",
       "  <thead>\n",
       "    <tr style=\"text-align: right;\">\n",
       "      <th></th>\n",
       "      <th></th>\n",
       "      <th></th>\n",
       "      <th></th>\n",
       "      <th>created_date</th>\n",
       "      <th>comments</th>\n",
       "      <th>value</th>\n",
       "    </tr>\n",
       "    <tr>\n",
       "      <th>version</th>\n",
       "      <th>time</th>\n",
       "      <th>detector</th>\n",
       "      <th>pmt</th>\n",
       "      <th></th>\n",
       "      <th></th>\n",
       "      <th></th>\n",
       "    </tr>\n",
       "  </thead>\n",
       "  <tbody>\n",
       "    <tr>\n",
       "      <th rowspan=\"11\" valign=\"top\">v6</th>\n",
       "      <th rowspan=\"3\" valign=\"top\">2020-04-01 12:06:54.000</th>\n",
       "      <th rowspan=\"3\" valign=\"top\">tpc</th>\n",
       "      <th>0</th>\n",
       "      <td>2022-05-01 18:24:58.872</td>\n",
       "      <td>migrated from cmt.</td>\n",
       "      <td>0.055060</td>\n",
       "    </tr>\n",
       "    <tr>\n",
       "      <th>5</th>\n",
       "      <td>2022-05-01 18:25:05.278</td>\n",
       "      <td>migrated from cmt.</td>\n",
       "      <td>0.227363</td>\n",
       "    </tr>\n",
       "    <tr>\n",
       "      <th>7</th>\n",
       "      <td>2022-05-01 18:25:07.779</td>\n",
       "      <td>migrated from cmt.</td>\n",
       "      <td>0.058412</td>\n",
       "    </tr>\n",
       "    <tr>\n",
       "      <th rowspan=\"2\" valign=\"top\">2020-04-01 14:17:27.000</th>\n",
       "      <th rowspan=\"2\" valign=\"top\">tpc</th>\n",
       "      <th>0</th>\n",
       "      <td>2022-05-01 18:24:58.872</td>\n",
       "      <td>migrated from cmt.</td>\n",
       "      <td>0.055060</td>\n",
       "    </tr>\n",
       "    <tr>\n",
       "      <th>5</th>\n",
       "      <td>2022-05-01 18:25:05.278</td>\n",
       "      <td>migrated from cmt.</td>\n",
       "      <td>0.227363</td>\n",
       "    </tr>\n",
       "    <tr>\n",
       "      <th>...</th>\n",
       "      <th>...</th>\n",
       "      <th>...</th>\n",
       "      <td>...</td>\n",
       "      <td>...</td>\n",
       "      <td>...</td>\n",
       "    </tr>\n",
       "    <tr>\n",
       "      <th>2021-12-17 17:53:21.890</th>\n",
       "      <th>tpc</th>\n",
       "      <th>5</th>\n",
       "      <td>2022-05-01 18:25:05.278</td>\n",
       "      <td>migrated from cmt.</td>\n",
       "      <td>0.009499</td>\n",
       "    </tr>\n",
       "    <tr>\n",
       "      <th>2021-12-17 17:53:21.998</th>\n",
       "      <th>tpc</th>\n",
       "      <th>7</th>\n",
       "      <td>2022-05-01 18:25:07.779</td>\n",
       "      <td>migrated from cmt.</td>\n",
       "      <td>0.007816</td>\n",
       "    </tr>\n",
       "    <tr>\n",
       "      <th rowspan=\"3\" valign=\"top\">2021-12-24 08:19:40.000</th>\n",
       "      <th rowspan=\"3\" valign=\"top\">tpc</th>\n",
       "      <th>0</th>\n",
       "      <td>2022-05-01 18:24:58.872</td>\n",
       "      <td>migrated from cmt.</td>\n",
       "      <td>0.007951</td>\n",
       "    </tr>\n",
       "    <tr>\n",
       "      <th>5</th>\n",
       "      <td>2022-05-01 18:25:05.278</td>\n",
       "      <td>migrated from cmt.</td>\n",
       "      <td>0.009484</td>\n",
       "    </tr>\n",
       "    <tr>\n",
       "      <th>7</th>\n",
       "      <td>2022-05-01 18:25:07.779</td>\n",
       "      <td>migrated from cmt.</td>\n",
       "      <td>0.007820</td>\n",
       "    </tr>\n",
       "  </tbody>\n",
       "</table>\n",
       "<p>897 rows × 3 columns</p>\n",
       "</div>"
      ],
      "text/plain": [
       "                                                        created_date  \\\n",
       "version time                    detector pmt                           \n",
       "v6      2020-04-01 12:06:54.000 tpc      0   2022-05-01 18:24:58.872   \n",
       "                                         5   2022-05-01 18:25:05.278   \n",
       "                                         7   2022-05-01 18:25:07.779   \n",
       "        2020-04-01 14:17:27.000 tpc      0   2022-05-01 18:24:58.872   \n",
       "                                         5   2022-05-01 18:25:05.278   \n",
       "...                                                              ...   \n",
       "        2021-12-17 17:53:21.890 tpc      5   2022-05-01 18:25:05.278   \n",
       "        2021-12-17 17:53:21.998 tpc      7   2022-05-01 18:25:07.779   \n",
       "        2021-12-24 08:19:40.000 tpc      0   2022-05-01 18:24:58.872   \n",
       "                                         5   2022-05-01 18:25:05.278   \n",
       "                                         7   2022-05-01 18:25:07.779   \n",
       "\n",
       "                                                        comments     value  \n",
       "version time                    detector pmt                                \n",
       "v6      2020-04-01 12:06:54.000 tpc      0    migrated from cmt.  0.055060  \n",
       "                                         5    migrated from cmt.  0.227363  \n",
       "                                         7    migrated from cmt.  0.058412  \n",
       "        2020-04-01 14:17:27.000 tpc      0    migrated from cmt.  0.055060  \n",
       "                                         5    migrated from cmt.  0.227363  \n",
       "...                                                          ...       ...  \n",
       "        2021-12-17 17:53:21.890 tpc      5    migrated from cmt.  0.009499  \n",
       "        2021-12-17 17:53:21.998 tpc      7    migrated from cmt.  0.007816  \n",
       "        2021-12-24 08:19:40.000 tpc      0    migrated from cmt.  0.007951  \n",
       "                                         5    migrated from cmt.  0.009484  \n",
       "                                         7    migrated from cmt.  0.007820  \n",
       "\n",
       "[897 rows x 3 columns]"
      ]
     },
     "execution_count": 24,
     "metadata": {},
     "output_type": "execute_result"
    }
   ],
   "source": [
    "pmt_multi_df"
   ]
  },
  {
   "cell_type": "markdown",
   "id": "5ffd106f-b31e-4ecb-9160-ea7f65f640cb",
   "metadata": {},
   "source": [
    "If you are like me (a.k.a. not a coding expert at all) you might be confused as to how to access the different indecies in a dataframe that has so many, where a number of them are of a different size, the following code is how I figures out how to do it although there might be better methods out there"
   ]
  },
  {
   "cell_type": "code",
   "execution_count": 38,
   "id": "d6b7d1af-ceba-4bf8-9a58-67b67bc8aca1",
   "metadata": {},
   "outputs": [
    {
     "data": {
      "text/plain": [
       "Index(['v6'], dtype='object', name='version')"
      ]
     },
     "execution_count": 38,
     "metadata": {},
     "output_type": "execute_result"
    }
   ],
   "source": [
    "pmt_multi_df.groupby(level=0).apply(lambda x: x.iloc[0]).index"
   ]
  },
  {
   "cell_type": "code",
   "execution_count": 37,
   "id": "529badc1-da66-4a8b-b804-f4a2ef27b966",
   "metadata": {},
   "outputs": [
    {
     "data": {
      "text/plain": [
       "DatetimeIndex([       '2020-04-01 12:06:54',        '2020-04-01 14:17:27',\n",
       "                      '2020-04-01 14:17:28',        '2020-04-16 09:49:17',\n",
       "                      '2020-04-16 09:49:18',        '2020-04-17 13:46:50',\n",
       "                      '2020-04-17 13:46:51',        '2020-04-28 14:27:49',\n",
       "                      '2020-04-28 14:27:50',        '2020-05-08 13:15:49',\n",
       "               ...\n",
       "               '2021-12-06 19:10:22.964000',        '2021-12-09 16:11:19',\n",
       "               '2021-12-10 13:17:45.785000', '2021-12-10 13:17:46.420000',\n",
       "               '2021-12-10 13:17:46.531000',        '2021-12-17 10:13:10',\n",
       "               '2021-12-17 17:53:21.302000', '2021-12-17 17:53:21.890000',\n",
       "               '2021-12-17 17:53:21.998000',        '2021-12-24 08:19:40'],\n",
       "              dtype='datetime64[ns]', name='time', length=447, freq=None)"
      ]
     },
     "execution_count": 37,
     "metadata": {},
     "output_type": "execute_result"
    }
   ],
   "source": [
    "pmt_multi_df.groupby(level=1).apply(lambda x: x.iloc[0]).index"
   ]
  },
  {
   "cell_type": "code",
   "execution_count": 46,
   "id": "bf47c051-3d11-4313-a7cd-7032443b53ee",
   "metadata": {},
   "outputs": [
    {
     "data": {
      "text/plain": [
       "Int64Index([0, 5, 7], dtype='int64', name='pmt')"
      ]
     },
     "execution_count": 46,
     "metadata": {},
     "output_type": "execute_result"
    }
   ],
   "source": [
    "pmt_multi_df.groupby(level=3).apply(lambda x: x.iloc[0]).index"
   ]
  },
  {
   "cell_type": "code",
   "execution_count": 51,
   "id": "0e065ec1-e385-43ed-9821-929f97314cc4",
   "metadata": {},
   "outputs": [
    {
     "data": {
      "text/plain": [
       "Int64Index([0, 5, 7], dtype='int64', name='pmt')"
      ]
     },
     "execution_count": 51,
     "metadata": {},
     "output_type": "execute_result"
    }
   ],
   "source": [
    "pmt_multi_df.groupby(level=3).apply(lambda x: x.iloc[1]).index"
   ]
  },
  {
   "cell_type": "code",
   "execution_count": 42,
   "id": "fa94790a-9176-44fd-b255-ea9332ca9b1b",
   "metadata": {},
   "outputs": [],
   "source": [
    "df_check = lambda x: x.iloc[0]"
   ]
  },
  {
   "cell_type": "code",
   "execution_count": 43,
   "id": "df4f874b-ee52-4b34-b9f4-1ddc36bb77c7",
   "metadata": {},
   "outputs": [
    {
     "data": {
      "text/plain": [
       "created_date    2022-05-01 18:24:58.872000\n",
       "comments                migrated from cmt.\n",
       "value                              0.05506\n",
       "Name: (v6, 2020-04-01 12:06:54, tpc, 0), dtype: object"
      ]
     },
     "execution_count": 43,
     "metadata": {},
     "output_type": "execute_result"
    }
   ],
   "source": [
    "df_check(pmt_multi_df)"
   ]
  },
  {
   "cell_type": "markdown",
   "id": "b70c3856-daa3-4408-9544-c7b052b88ef7",
   "metadata": {},
   "source": [
    "As you can see in these function the level indicates which of the indecies you want to look at. The lambda is a python function that can take any number of arguments but can only have 1 experssion. Lambda here takes the values on the location, so if we omit the ,index part the full line will give you what is stored not just the index"
   ]
  },
  {
   "cell_type": "code",
   "execution_count": 40,
   "id": "06d944bb-917b-4681-8640-dcb049d5a073",
   "metadata": {},
   "outputs": [
    {
     "data": {
      "text/html": [
       "<div>\n",
       "<style scoped>\n",
       "    .dataframe tbody tr th:only-of-type {\n",
       "        vertical-align: middle;\n",
       "    }\n",
       "\n",
       "    .dataframe tbody tr th {\n",
       "        vertical-align: top;\n",
       "    }\n",
       "\n",
       "    .dataframe thead th {\n",
       "        text-align: right;\n",
       "    }\n",
       "</style>\n",
       "<table border=\"1\" class=\"dataframe\">\n",
       "  <thead>\n",
       "    <tr style=\"text-align: right;\">\n",
       "      <th></th>\n",
       "      <th>created_date</th>\n",
       "      <th>comments</th>\n",
       "      <th>value</th>\n",
       "    </tr>\n",
       "    <tr>\n",
       "      <th>pmt</th>\n",
       "      <th></th>\n",
       "      <th></th>\n",
       "      <th></th>\n",
       "    </tr>\n",
       "  </thead>\n",
       "  <tbody>\n",
       "    <tr>\n",
       "      <th>0</th>\n",
       "      <td>2022-05-01 18:24:58.872</td>\n",
       "      <td>migrated from cmt.</td>\n",
       "      <td>0.055060</td>\n",
       "    </tr>\n",
       "    <tr>\n",
       "      <th>5</th>\n",
       "      <td>2022-05-01 18:25:05.278</td>\n",
       "      <td>migrated from cmt.</td>\n",
       "      <td>0.227363</td>\n",
       "    </tr>\n",
       "    <tr>\n",
       "      <th>7</th>\n",
       "      <td>2022-05-01 18:25:07.779</td>\n",
       "      <td>migrated from cmt.</td>\n",
       "      <td>0.058412</td>\n",
       "    </tr>\n",
       "  </tbody>\n",
       "</table>\n",
       "</div>"
      ],
      "text/plain": [
       "               created_date            comments     value\n",
       "pmt                                                      \n",
       "0   2022-05-01 18:24:58.872  migrated from cmt.  0.055060\n",
       "5   2022-05-01 18:25:05.278  migrated from cmt.  0.227363\n",
       "7   2022-05-01 18:25:07.779  migrated from cmt.  0.058412"
      ]
     },
     "execution_count": 40,
     "metadata": {},
     "output_type": "execute_result"
    }
   ],
   "source": [
    "pmt_multi_df.groupby(level=3).apply(lambda x: x.iloc[0])"
   ]
  },
  {
   "cell_type": "code",
   "execution_count": 66,
   "id": "a1f3c169-e2f1-4709-a9b1-d38fea67c285",
   "metadata": {},
   "outputs": [
    {
     "data": {
      "text/plain": [
       "(3, 3)"
      ]
     },
     "execution_count": 66,
     "metadata": {},
     "output_type": "execute_result"
    }
   ],
   "source": [
    "pmt_multi_df.groupby(level=3).apply(lambda x: x.iloc[0]).shape"
   ]
  },
  {
   "cell_type": "code",
   "execution_count": 68,
   "id": "3d2dadb8-c7a4-4719-88ad-bf6ea3dbcec1",
   "metadata": {},
   "outputs": [
    {
     "data": {
      "text/plain": [
       "0.2273628417"
      ]
     },
     "execution_count": 68,
     "metadata": {},
     "output_type": "execute_result"
    }
   ],
   "source": [
    "pmt_multi_df.groupby(level=3).apply(lambda x: x.iloc[0])['value'].loc[5]"
   ]
  },
  {
   "cell_type": "code",
   "execution_count": 55,
   "id": "0db2728d-9239-4afe-babb-182b186888b4",
   "metadata": {},
   "outputs": [
    {
     "data": {
      "text/html": [
       "<div>\n",
       "<style scoped>\n",
       "    .dataframe tbody tr th:only-of-type {\n",
       "        vertical-align: middle;\n",
       "    }\n",
       "\n",
       "    .dataframe tbody tr th {\n",
       "        vertical-align: top;\n",
       "    }\n",
       "\n",
       "    .dataframe thead th {\n",
       "        text-align: right;\n",
       "    }\n",
       "</style>\n",
       "<table border=\"1\" class=\"dataframe\">\n",
       "  <thead>\n",
       "    <tr style=\"text-align: right;\">\n",
       "      <th></th>\n",
       "      <th>created_date</th>\n",
       "      <th>comments</th>\n",
       "      <th>value</th>\n",
       "    </tr>\n",
       "    <tr>\n",
       "      <th>pmt</th>\n",
       "      <th></th>\n",
       "      <th></th>\n",
       "      <th></th>\n",
       "    </tr>\n",
       "  </thead>\n",
       "  <tbody>\n",
       "    <tr>\n",
       "      <th>0</th>\n",
       "      <td>2022-05-01 18:24:58.872</td>\n",
       "      <td>migrated from cmt.</td>\n",
       "      <td>0.055060</td>\n",
       "    </tr>\n",
       "    <tr>\n",
       "      <th>5</th>\n",
       "      <td>2022-05-01 18:25:05.278</td>\n",
       "      <td>migrated from cmt.</td>\n",
       "      <td>0.227363</td>\n",
       "    </tr>\n",
       "    <tr>\n",
       "      <th>7</th>\n",
       "      <td>2022-05-01 18:25:07.779</td>\n",
       "      <td>migrated from cmt.</td>\n",
       "      <td>0.058412</td>\n",
       "    </tr>\n",
       "  </tbody>\n",
       "</table>\n",
       "</div>"
      ],
      "text/plain": [
       "               created_date            comments     value\n",
       "pmt                                                      \n",
       "0   2022-05-01 18:24:58.872  migrated from cmt.  0.055060\n",
       "5   2022-05-01 18:25:05.278  migrated from cmt.  0.227363\n",
       "7   2022-05-01 18:25:07.779  migrated from cmt.  0.058412"
      ]
     },
     "execution_count": 55,
     "metadata": {},
     "output_type": "execute_result"
    }
   ],
   "source": [
    "pmt_multi_df.groupby(level=3).apply(lambda x: x.iloc[1])"
   ]
  },
  {
   "cell_type": "markdown",
   "id": "4ea05b72-3ffd-4845-a839-06544add833a",
   "metadata": {},
   "source": [
    "Here we will take all pmts at a spesific point in time and plot their values at a spesific point in time"
   ]
  },
  {
   "cell_type": "code",
   "execution_count": 77,
   "id": "6389cff6-2185-4f32-a527-501cf4d16a9f",
   "metadata": {},
   "outputs": [],
   "source": [
    "pmt_gain_model = xd.find('pmt_gains', version = 'v6', detector = 'tpc', time = '2020-08-03T10:06:00')"
   ]
  },
  {
   "cell_type": "code",
   "execution_count": 78,
   "id": "3d3652b8-b37e-4428-b07a-6a2ac5ff7bf5",
   "metadata": {},
   "outputs": [],
   "source": [
    "pmt_gain_model_values = [pmt_gains.value for pmt_gains in pmt_gain_model] "
   ]
  },
  {
   "cell_type": "code",
   "execution_count": 68,
   "id": "4ab8a654-2455-4df0-b084-ada4f7ab2c9d",
   "metadata": {},
   "outputs": [
    {
     "data": {
      "text/plain": [
       "[0.002072156,\n",
       " 0.002853777,\n",
       " 0.0041144497,\n",
       " 0.0047589021,\n",
       " 0.0021369285,\n",
       " 0.0096745111,\n",
       " 0.0018689753,\n",
       " 0.0021306124,\n",
       " 0.0025353129,\n",
       " 0.0021855045]"
      ]
     },
     "execution_count": 68,
     "metadata": {},
     "output_type": "execute_result"
    }
   ],
   "source": [
    "pmt_gain_model_values[:10]"
   ]
  },
  {
   "cell_type": "code",
   "execution_count": 66,
   "id": "37779932-22f1-4720-84bb-f3f5b644cc51",
   "metadata": {},
   "outputs": [
    {
     "data": {
      "text/plain": [
       "(-3, 517.6518366747126)"
      ]
     },
     "execution_count": 66,
     "metadata": {},
     "output_type": "execute_result"
    },
    {
     "data": {
      "image/png": "[encoded data removed]",
      "text/plain": [
       "<Figure size 864x288 with 1 Axes>"
      ]
     },
     "metadata": {
      "needs_background": "light"
     },
     "output_type": "display_data"
    }
   ],
   "source": [
    "fig = plt.figure(figsize=(12,4))\n",
    "plt.scatter(np.arange(len(pmt_gain_model_values)),pmt_gain_model_values,\n",
    "           color = 'blue', marker = '.', s = 20, alpha = 0.5, label = 'CMT')\n",
    "plt.xlabel(\"PMT number\")\n",
    "plt.ylabel('Gain model')\n",
    "plt.ylim(-0.001)\n",
    "plt.xlim(-3)"
   ]
  },
  {
   "cell_type": "markdown",
   "id": "dedb60ce-46f5-4a92-8775-41571aa4fb7a",
   "metadata": {},
   "source": [
    "Since the corrections will be loaded into a python array changing the values is simple you can just overwrite the array however you want"
   ]
  },
  {
   "cell_type": "code",
   "execution_count": 82,
   "id": "c04dcc3a-a488-49ed-847e-49ac48aebd3c",
   "metadata": {},
   "outputs": [],
   "source": [
    "pmt_gain_model_values = np.repeat(1, len(pmt_gain_model_values))"
   ]
  },
  {
   "cell_type": "code",
   "execution_count": 83,
   "id": "328a4203-ac6a-4d02-b465-4b11a64bd79d",
   "metadata": {},
   "outputs": [
    {
     "data": {
      "text/plain": [
       "array([1, 1, 1, 1, 1, 1, 1, 1, 1, 1])"
      ]
     },
     "execution_count": 83,
     "metadata": {},
     "output_type": "execute_result"
    }
   ],
   "source": [
    "pmt_gain_model_values[:10]"
   ]
  },
  {
   "cell_type": "markdown",
   "id": "ee4296df-e808-44a0-9bcc-3cd60129efef",
   "metadata": {},
   "source": [
    "### Loading map corrections"
   ]
  },
  {
   "cell_type": "markdown",
   "id": "927c1d0b-a9c1-4213-ad70-8c92008aea97",
   "metadata": {},
   "source": [
    "Xedocs does not currently have any maps saved so I will save this section for later, I will try to insert a map correction myself and do this later"
   ]
  },
  {
   "cell_type": "code",
   "execution_count": 69,
   "id": "8145b02e-6df6-492e-94af-888e6561d45d",
   "metadata": {},
   "outputs": [
    {
     "data": {
      "text/plain": [
       "['bodega',\n",
       " 'fax_configs',\n",
       " 'electron_drift_velocities',\n",
       " 'electron_drift_time_gates',\n",
       " 'electron_lifetimes',\n",
       " 'rel_extraction_effs',\n",
       " 'fdc_maps',\n",
       " 'hit_thresholds',\n",
       " 'pmt_gains',\n",
       " 'posrec_models',\n",
       " 's1_xyz_maps',\n",
       " 's2_xy_maps',\n",
       " 'utube_calibrations',\n",
       " 'diffused_calibrations',\n",
       " 'ibelt_calibrations']"
      ]
     },
     "execution_count": 69,
     "metadata": {},
     "output_type": "execute_result"
    }
   ],
   "source": [
    "xd.list_schemas()"
   ]
  }
 ],
 "metadata": {
  "kernelspec": {
   "display_name": "Python [conda env:strax]",
   "language": "python",
   "name": "conda-env-strax-py"
  },
  "language_info": {
   "codemirror_mode": {
    "name": "ipython",
    "version": 3
   },
   "file_extension": ".py",
   "mimetype": "text/x-python",
   "name": "python",
   "nbconvert_exporter": "python",
   "pygments_lexer": "ipython3",
   "version": "3.8.13"
  }
 },
 "nbformat": 4,
 "nbformat_minor": 5
}
